{
 "cells": [
  {
   "cell_type": "code",
   "execution_count": 1,
   "id": "d4319bc5",
   "metadata": {},
   "outputs": [
    {
     "name": "stdout",
     "output_type": "stream",
     "text": [
      "aabbc\n",
      "{'a': 2, 'b': 2, 'c': 1}\n"
     ]
    }
   ],
   "source": [
    "s= input(\"\")\n",
    "mydict={}\n",
    "for i in s:\n",
    "    if i not in mydict:\n",
    "        mydict[i]=1\n",
    "    elif i in mydict:\n",
    "        mydict[i]+=1\n",
    "print(mydict)"
   ]
  },
  {
   "cell_type": "code",
   "execution_count": null,
   "id": "96ae71b8",
   "metadata": {},
   "outputs": [],
   "source": []
  }
 ],
 "metadata": {
  "kernelspec": {
   "display_name": "Python 3",
   "language": "python",
   "name": "python3"
  },
  "language_info": {
   "codemirror_mode": {
    "name": "ipython",
    "version": 3
   },
   "file_extension": ".py",
   "mimetype": "text/x-python",
   "name": "python",
   "nbconvert_exporter": "python",
   "pygments_lexer": "ipython3",
   "version": "3.8.8"
  }
 },
 "nbformat": 4,
 "nbformat_minor": 5
}

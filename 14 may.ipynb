{
 "cells": [
  {
   "cell_type": "code",
   "execution_count": 1,
   "id": "027dd355",
   "metadata": {},
   "outputs": [],
   "source": [
    "# oops\n",
    "# classes object\n",
    "# inheritance\n"
   ]
  },
  {
   "cell_type": "code",
   "execution_count": 2,
   "id": "62d8c489",
   "metadata": {},
   "outputs": [
    {
     "ename": "AttributeError",
     "evalue": "'Son' object has no attribute 'amount'",
     "output_type": "error",
     "traceback": [
      "\u001b[1;31m---------------------------------------------------------------------------\u001b[0m",
      "\u001b[1;31mAttributeError\u001b[0m                            Traceback (most recent call last)",
      "\u001b[1;32m<ipython-input-2-baf58848764f>\u001b[0m in \u001b[0;36m<module>\u001b[1;34m\u001b[0m\n\u001b[0;32m      9\u001b[0m \u001b[1;33m\u001b[0m\u001b[0m\n\u001b[0;32m     10\u001b[0m \u001b[0ms1\u001b[0m\u001b[1;33m=\u001b[0m\u001b[0mSon\u001b[0m\u001b[1;33m(\u001b[0m\u001b[1;33m)\u001b[0m\u001b[1;33m\u001b[0m\u001b[1;33m\u001b[0m\u001b[0m\n\u001b[1;32m---> 11\u001b[1;33m \u001b[0ms1\u001b[0m\u001b[1;33m.\u001b[0m\u001b[0mamount\u001b[0m\u001b[1;33m\u001b[0m\u001b[1;33m\u001b[0m\u001b[0m\n\u001b[0m",
      "\u001b[1;31mAttributeError\u001b[0m: 'Son' object has no attribute 'amount'"
     ]
    }
   ],
   "source": [
    "class Father:\n",
    "    amount=100\n",
    "    \n",
    "    \n",
    "class Son:\n",
    "    salary=50\n",
    "    \n",
    "    \n",
    "    \n",
    "s1=Son()\n",
    "s1.amount"
   ]
  },
  {
   "cell_type": "code",
   "execution_count": 3,
   "id": "6c05dc23",
   "metadata": {},
   "outputs": [
    {
     "data": {
      "text/plain": [
       "100"
      ]
     },
     "execution_count": 3,
     "metadata": {},
     "output_type": "execute_result"
    }
   ],
   "source": [
    "# parent class / superclass / base class\n",
    "class Father:\n",
    "    amount=100\n",
    "    \n",
    "#parent? inherit class / derived class / sub-class\n",
    "class Son(Father):\n",
    "    salary=50\n",
    "    \n",
    "    \n",
    "    \n",
    "s1=Son()\n",
    "s1.amount"
   ]
  },
  {
   "cell_type": "code",
   "execution_count": 8,
   "id": "d0babeeb",
   "metadata": {},
   "outputs": [
    {
     "name": "stdout",
     "output_type": "stream",
     "text": [
      "hello\n"
     ]
    }
   ],
   "source": [
    "class Father:\n",
    "    amount=100\n",
    "    def func(self):\n",
    "        print(\"hello\")\n",
    "    \n",
    "    \n",
    "class Son(Father):\n",
    "    salary=50\n",
    "    \n",
    "    \n",
    "    \n",
    "s1=Son()\n",
    "s1.func()"
   ]
  },
  {
   "cell_type": "code",
   "execution_count": 9,
   "id": "3f278d7f",
   "metadata": {},
   "outputs": [
    {
     "data": {
      "text/plain": [
       "100"
      ]
     },
     "execution_count": 9,
     "metadata": {},
     "output_type": "execute_result"
    }
   ],
   "source": [
    "class Driver:\n",
    "    def __init__(self,id , name, email):\n",
    "        self.id=id\n",
    "        self.name=name\n",
    "        self.email=email\n",
    "        \n",
    "        \n",
    "class Customer:\n",
    "    def __init__(self,cid , cname, cemail):\n",
    "        self.id=cid\n",
    "        self.name=cname\n",
    "        self.email=cemail\n",
    "        \n",
    "c1=Customer(100,\"tushar\",\"abc@gmail.com\")\n",
    "c1.id"
   ]
  },
  {
   "cell_type": "code",
   "execution_count": 10,
   "id": "9ac475e7",
   "metadata": {},
   "outputs": [
    {
     "data": {
      "text/plain": [
       "'regex'"
      ]
     },
     "execution_count": 10,
     "metadata": {},
     "output_type": "execute_result"
    }
   ],
   "source": [
    "class Driver:\n",
    "    company=\"regex\"\n",
    "    def __init__(self,id , name, email):\n",
    "        self.id=id\n",
    "        self.name=name\n",
    "        self.email=email\n",
    "        \n",
    "        \n",
    "class Customer(Driver):\n",
    "    def __init__(self,cid , cname, cemail):\n",
    "        self.cid=cid\n",
    "        self.cname=cname\n",
    "        self.email=cemail\n",
    "        \n",
    "c1=Customer(100,\"naina\",\"abc@gmail.com\")\n",
    "c1.company"
   ]
  },
  {
   "cell_type": "code",
   "execution_count": 11,
   "id": "d5b4e6f6",
   "metadata": {},
   "outputs": [
    {
     "name": "stdout",
     "output_type": "stream",
     "text": [
      "Parent class variable : regex\n"
     ]
    }
   ],
   "source": [
    "class Driver:\n",
    "    company=\"regex\"\n",
    "    def __init__(self,id , name, email):\n",
    "        self.id=id\n",
    "        self.name=name\n",
    "        self.email=email\n",
    "        \n",
    "        \n",
    "class Customer(Driver):\n",
    "    def __init__(self,cid , cname, cemail):\n",
    "           print(\"Parent class variable :\",super().company) # super keyword is used to access the variables from parent class\n",
    "        \n",
    "c1=Customer(100,\"naina\",\"abc@gmail.com\")"
   ]
  },
  {
   "cell_type": "code",
   "execution_count": 14,
   "id": "7dbb0ff0",
   "metadata": {},
   "outputs": [
    {
     "data": {
      "text/plain": [
       "100"
      ]
     },
     "execution_count": 14,
     "metadata": {},
     "output_type": "execute_result"
    }
   ],
   "source": [
    "class Driver:\n",
    "    company=\"regex\"\n",
    "    def __init__(self,id , name, email):\n",
    "        self.id=id\n",
    "        self.name=name\n",
    "        self.email=email\n",
    "        \n",
    "        \n",
    "class Customer(Driver):\n",
    "    def __init__(self,cid , cname, cemail):\n",
    "        super().__init__(cid,cname,cemail) # ----> calling the parent class constructor\n",
    "        # passing the arguments that are in the child class \n",
    "        \n",
    "c1=Customer(100,\"naina\",\"abc@gmail.com\")\n",
    "c1.id"
   ]
  },
  {
   "cell_type": "code",
   "execution_count": 15,
   "id": "5edfc54d",
   "metadata": {},
   "outputs": [],
   "source": [
    "# class variable value cannot be changed by object , it can only change for the object and the original value remain intact\n",
    "# we can only access global variables , class variables, instance variables "
   ]
  },
  {
   "cell_type": "code",
   "execution_count": 20,
   "id": "5136b9ab",
   "metadata": {},
   "outputs": [
    {
     "name": "stdout",
     "output_type": "stream",
     "text": [
      "Information is 100 & naina\n"
     ]
    }
   ],
   "source": [
    "class Driver:\n",
    "    company=\"regex\"\n",
    "    def __init__(self,id , name, email):\n",
    "        self.id=id\n",
    "        self.name=name\n",
    "        self.email=email\n",
    "        \n",
    "    def dinfo(self):\n",
    "        print(f\"Information is {self.id} & {self.name}\")\n",
    "        \n",
    "        \n",
    "class Customer(Driver):\n",
    "    def __init__(self,cid , cname, cemail):\n",
    "        super().__init__(cid,cname,cemail)\n",
    "        \n",
    "    def cinfo(self):\n",
    "        super().dinfo()\n",
    "        \n",
    "c1=Customer(100,\"naina\",\"abc@gmail.com\")\n",
    "c1.cinfo()"
   ]
  },
  {
   "cell_type": "code",
   "execution_count": 21,
   "id": "b629e92a",
   "metadata": {},
   "outputs": [],
   "source": [
    "# types of inheritance \n",
    "# ** MRO (method resolution order)\n",
    "# what is private , public , default and public modifier "
   ]
  },
  {
   "cell_type": "code",
   "execution_count": 34,
   "id": "ebb9115f",
   "metadata": {},
   "outputs": [
    {
     "name": "stdout",
     "output_type": "stream",
     "text": [
      "6\n"
     ]
    }
   ],
   "source": [
    "# program\n",
    "# the time you create any object of a class \n",
    "# that variable should keep increasing \n",
    "\n",
    "\n",
    "class MyClass:\n",
    "    count = 0 \n",
    "\n",
    "    def __init__(self):\n",
    "        MyClass.count += 1  \n",
    "    \n",
    "    def get_count(self):\n",
    "        return MyClass.count \n",
    "\n",
    "\n",
    "obj1 = MyClass()\n",
    "obj2 = MyClass()\n",
    "obj3 = MyClass()\n",
    "\n",
    "obj4 = MyClass()\n",
    "obj5 = MyClass()\n",
    "obj6 = MyClass()\n",
    "\n",
    "print(obj5.get_count()) "
   ]
  },
  {
   "cell_type": "code",
   "execution_count": 23,
   "id": "a3d640ed",
   "metadata": {},
   "outputs": [],
   "source": [
    "# encapsulation\n",
    "# variable/ method => bind \n",
    "# accessibility\n"
   ]
  },
  {
   "cell_type": "code",
   "execution_count": 24,
   "id": "d96ed9ef",
   "metadata": {},
   "outputs": [
    {
     "data": {
      "text/plain": [
       "100"
      ]
     },
     "execution_count": 24,
     "metadata": {},
     "output_type": "execute_result"
    }
   ],
   "source": [
    "class Vehicle:\n",
    "    xyz=100\n",
    "    \n",
    "v1=Vehicle()\n",
    "v1.xyz"
   ]
  },
  {
   "cell_type": "code",
   "execution_count": 27,
   "id": "3ce9d17e",
   "metadata": {},
   "outputs": [
    {
     "data": {
      "text/plain": [
       "100"
      ]
     },
     "execution_count": 27,
     "metadata": {},
     "output_type": "execute_result"
    }
   ],
   "source": [
    "# protected method or variable => inherited class can use it only \n",
    "class Vehicle:\n",
    "    _xyz=100\n",
    "    \n",
    "v1=Vehicle()\n",
    "v1._xyz"
   ]
  },
  {
   "cell_type": "code",
   "execution_count": 29,
   "id": "fe7bd5b6",
   "metadata": {},
   "outputs": [
    {
     "data": {
      "text/plain": [
       "100"
      ]
     },
     "execution_count": 29,
     "metadata": {},
     "output_type": "execute_result"
    }
   ],
   "source": [
    "# protected method or variable => inherited class can use it only \n",
    "# private variable / method =>only inside the class you can use this\n",
    "class Vehicle:\n",
    "    __xyz=100\n",
    "\n",
    "# __xyz => _class__xyz  => in python in background name is changed\n",
    "v1=Vehicle()\n",
    "v1._Vehicle__xyz"
   ]
  },
  {
   "cell_type": "code",
   "execution_count": null,
   "id": "07b89693",
   "metadata": {},
   "outputs": [],
   "source": []
  }
 ],
 "metadata": {
  "kernelspec": {
   "display_name": "Python 3",
   "language": "python",
   "name": "python3"
  },
  "language_info": {
   "codemirror_mode": {
    "name": "ipython",
    "version": 3
   },
   "file_extension": ".py",
   "mimetype": "text/x-python",
   "name": "python",
   "nbconvert_exporter": "python",
   "pygments_lexer": "ipython3",
   "version": "3.8.8"
  }
 },
 "nbformat": 4,
 "nbformat_minor": 5
}

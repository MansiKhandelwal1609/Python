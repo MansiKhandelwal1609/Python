{
 "cells": [
  {
   "cell_type": "code",
   "execution_count": null,
   "id": "2058f76a",
   "metadata": {},
   "outputs": [],
   "source": [
    "'''\n",
    "Q1 Swap the number without using third varible\n",
    "Q2 : Write a Program to extract each digit from an integer in the reverse order.\n",
    "For example, If the given int is 7536, the output shall be “6 3 5 7“, with a space separating the\n",
    "digits.\n",
    "\n",
    "Q3 Write a program that will give you the sum of 3 digits\n",
    "\n",
    "Q4 Write a program that will take three digits from the user and add the square of each\n",
    "digit.\n",
    "\n",
    "\n",
    "Q5 Write a program that will check whether the number is armstrong number or not.\n",
    "Q6 :Write a program that will take user input of (4 digits number) and check whether the\n",
    "number is narcissist number or not.\n",
    "\n",
    "Q7 Display float number with 2 decimal places using print()\n",
    "\n",
    "Q8 Print all factors of a given number provided by the user.\n",
    "\n",
    "Q9 Accept a list of 5 float numbers as an input from the user\n",
    "\n",
    "Q10 : Write a program to find the volume of the cylinder. Also find the cost when ,when the\n",
    "cost of 1litre milk is 40Rs.\n",
    "\n",
    "\n",
    "'''"
   ]
  },
  {
   "cell_type": "code",
   "execution_count": 4,
   "id": "a7389cc0",
   "metadata": {},
   "outputs": [
    {
     "name": "stdout",
     "output_type": "stream",
     "text": [
      "Enter num1: 12\n",
      "Enter num2: 15\n",
      "15 12\n"
     ]
    }
   ],
   "source": [
    "# Q1 Swap the number without using third varible\n",
    "\n",
    "num1=int(input(\"Enter num1: \"))\n",
    "num2=int(input(\"Enter num2: \"))\n",
    "\n",
    "num1=num1+num2\n",
    "num2=num1-num2\n",
    "num1=num1-num2\n",
    "\n",
    "print(num1,num2)"
   ]
  },
  {
   "cell_type": "code",
   "execution_count": 15,
   "id": "a7e570b0",
   "metadata": {},
   "outputs": [
    {
     "name": "stdout",
     "output_type": "stream",
     "text": [
      "Enter num: 123456\n",
      "6 5 4 3 2 1 "
     ]
    }
   ],
   "source": [
    "# Q2 : Write a Program to extract each digit from an integer in the reverse order.\n",
    "\n",
    "num=int(input(\"Enter num: \"))\n",
    "while(num!=0):\n",
    "        rem=num%10\n",
    "        print(rem,end=\" \")\n",
    "        num=num//10\n",
    "\n"
   ]
  },
  {
   "cell_type": "code",
   "execution_count": 16,
   "id": "121a4b13",
   "metadata": {},
   "outputs": [
    {
     "name": "stdout",
     "output_type": "stream",
     "text": [
      "Enter num: 123\n",
      "6\n"
     ]
    }
   ],
   "source": [
    "# Q3 Write a program that will give you the sum of 3 digits\n",
    "\n",
    "num=int(input(\"Enter num: \"))\n",
    "sum=0\n",
    "while(num!=0):\n",
    "        rem=num%10\n",
    "        sum+=rem\n",
    "        num=num//10\n",
    "print(sum)"
   ]
  },
  {
   "cell_type": "code",
   "execution_count": 20,
   "id": "2f24e0f0",
   "metadata": {},
   "outputs": [
    {
     "name": "stdout",
     "output_type": "stream",
     "text": [
      "Enter num1: 2\n",
      "Enter num2: 3\n",
      "Enter num3: 4\n",
      "29\n"
     ]
    }
   ],
   "source": [
    "# Q4 Write a program that will take three digits from the user and add the square of each digit.\n",
    "\n",
    "num1=int(input(\"Enter num1: \"))\n",
    "num2=int(input(\"Enter num2: \"))\n",
    "num3=int(input(\"Enter num3: \"))\n",
    "\n",
    "total=num1**2+num2**2+num3**2\n",
    "\n",
    "print(total)\n"
   ]
  },
  {
   "cell_type": "code",
   "execution_count": 2,
   "id": "c071287e",
   "metadata": {},
   "outputs": [
    {
     "name": "stdout",
     "output_type": "stream",
     "text": [
      "Enter num: 1634\n",
      "False\n"
     ]
    }
   ],
   "source": [
    "# Q5 Write a program that will check whether the number is armstrong number or not.\n",
    "\n",
    "num=int(input(\"Enter num: \"))\n",
    "temp=num\n",
    "sum=0\n",
    "while(num!=0):\n",
    "        rem=num%10\n",
    "        sum+=rem**3\n",
    "        num=num//10\n",
    "if sum==temp:\n",
    "    print( True )\n",
    "else:\n",
    "    print (False)"
   ]
  },
  {
   "cell_type": "code",
   "execution_count": 6,
   "id": "db665d93",
   "metadata": {},
   "outputs": [
    {
     "name": "stdout",
     "output_type": "stream",
     "text": [
      "Enter num: 1634\n",
      "4\n",
      "True\n"
     ]
    }
   ],
   "source": [
    "# Q6 :Write a program that will take user input of (4 digits number) and check whether the number is narcissist number or not\n",
    "num=int(input(\"Enter num: \"))\n",
    "temp=num\n",
    "sum=0\n",
    "count=0\n",
    "while(num!=0):\n",
    "    num=num//10\n",
    "    count+=1\n",
    "print(count)\n",
    "num=temp\n",
    "while(num!=0):\n",
    "        rem=num%10\n",
    "        sum+=rem**count\n",
    "        num=num//10\n",
    "if sum==temp:\n",
    "    print( True )\n",
    "else:\n",
    "    print (False)"
   ]
  },
  {
   "cell_type": "code",
   "execution_count": 7,
   "id": "780337e0",
   "metadata": {},
   "outputs": [
    {
     "name": "stdout",
     "output_type": "stream",
     "text": [
      "Enter num1: 1234.123456789\n",
      "1234.12\n"
     ]
    }
   ],
   "source": [
    "# Q7 Display float number with 2 decimal places using print()\n",
    "\n",
    "num1=float(input(\"Enter num1: \"))\n",
    "\n",
    "\n",
    "print(\"{:.2f}\".format(num1))\n"
   ]
  },
  {
   "cell_type": "code",
   "execution_count": 5,
   "id": "0acf42bb",
   "metadata": {},
   "outputs": [
    {
     "name": "stdout",
     "output_type": "stream",
     "text": [
      "Enter num1: 81\n",
      "3\n",
      "9\n",
      "27\n"
     ]
    }
   ],
   "source": [
    "# Q8 Print all factors of a given number provided by the user.\n",
    "\n",
    "num1=int(input(\"Enter num1: \"))\n",
    "for i in range(2,num1):\n",
    "    if num1%i==0:\n",
    "        print(i)\n"
   ]
  },
  {
   "cell_type": "code",
   "execution_count": 6,
   "id": "39c6f80f",
   "metadata": {},
   "outputs": [
    {
     "name": "stdout",
     "output_type": "stream",
     "text": [
      "Enter a float num :12.1\n",
      "Enter a float num :23.5\n",
      "Enter a float num :56.236\n",
      "Enter a float num :45.00\n",
      "Enter a float num :78.8\n",
      "[12.1, 23.5, 56.236, 45.0, 78.8]\n"
     ]
    }
   ],
   "source": [
    "# Q9 Accept a list of 5 float numbers as an input from the user\n",
    "a=[]\n",
    "for i in range(0,5):\n",
    "    x=float(input(\"Enter a float num :\"))\n",
    "    a.append(x)\n",
    "print(a)"
   ]
  },
  {
   "cell_type": "code",
   "execution_count": 9,
   "id": "965d3024",
   "metadata": {},
   "outputs": [
    {
     "name": "stdout",
     "output_type": "stream",
     "text": [
      "Enter radius (in m): 10\n",
      "Enter height (in m): 12\n",
      "Volume of cylinder is 3768.0 cubic m. Cost of milk is Rs150720.0\n"
     ]
    }
   ],
   "source": [
    "# Q10 : Write a program to find the volume of the cylinder. Also find the cost when ,when the cost of 1litre milk is 40Rs.\n",
    "\n",
    "r=int(input(\"Enter radius (in m): \"))\n",
    "h=int(input(\"Enter height (in m): \"))\n",
    "\n",
    "v=3.14*(r**2)*h\n",
    "\n",
    "cost=v*40\n",
    "\n",
    "print(f\"Volume of cylinder is {v} cubic m. Cost of milk is Rs {cost}\")"
   ]
  },
  {
   "cell_type": "code",
   "execution_count": null,
   "id": "05a67567",
   "metadata": {},
   "outputs": [],
   "source": [
    "'''\n",
    "1. Calculate income tax for the given income by adhering to the below rules\n",
    "a. first 10k => 0%\n",
    "b. second 10 => 10%\n",
    "c. Remaining => 20%\n",
    "d. For example, suppose the taxable income is 45000 the income tax payable is\n",
    "$6000\n",
    "\n",
    "'''\n",
    "\n",
    "\n",
    "i=int(input(\"Enter your income: \"))\n"
   ]
  },
  {
   "cell_type": "code",
   "execution_count": 11,
   "id": "836bbd72",
   "metadata": {},
   "outputs": [
    {
     "name": "stdout",
     "output_type": "stream",
     "text": [
      "Enter 1st angle: 80\n",
      "Enter 2nd angle: 50\n",
      "Enter 3rd angle: 50\n",
      "Can make a triangle\n"
     ]
    }
   ],
   "source": [
    "'''\n",
    "2. Write a program that take a user input of three angles and will find out whether it can\n",
    "form a triangle or not.\n",
    "\n",
    "'''\n",
    "\n",
    "\n",
    "\n",
    "a1=int(input(\"Enter 1st angle: \"))\n",
    "a2=int(input(\"Enter 2nd angle: \"))\n",
    "a3=int(input(\"Enter 3rd angle: \"))\n",
    "\n",
    "\n",
    "if a1+a2+a3==180:\n",
    "    print(\"Can make a triangle\")\n",
    "else:\n",
    "    print(\"Can not make a triangle\")"
   ]
  },
  {
   "cell_type": "code",
   "execution_count": 12,
   "id": "c140a0cc",
   "metadata": {},
   "outputs": [
    {
     "name": "stdout",
     "output_type": "stream",
     "text": [
      "Enter temperature (in celcius): 56\n",
      "Enter humidity (in %): 95\n",
      "Hot & Humid\n"
     ]
    }
   ],
   "source": [
    "''''3. Write a program that will determine weather when the value of temperature and\n",
    "humidity is provided by the user.'''\n",
    "\n",
    "\n",
    "t=int(input(\"Enter temperature (in celcius): \"))\n",
    "h=int(input(\"Enter humidity (in %): \"))\n",
    "\n",
    "if t>=30 and h>=90:\n",
    "    print(\"Hot & Humid\")\n",
    "    \n",
    "elif t>=30 and h<90:\n",
    "    print(\"Hot\")\n",
    "    \n",
    "elif t<30 and h>=90:\n",
    "    print(\"Cool and Humid\")\n",
    "    \n",
    "elif t<30 and h<90:\n",
    "    print(\"Cool\")\n",
    "\n"
   ]
  },
  {
   "cell_type": "code",
   "execution_count": 16,
   "id": "6f700609",
   "metadata": {},
   "outputs": [
    {
     "name": "stdout",
     "output_type": "stream",
     "text": [
      " 4\n",
      "Exit\n"
     ]
    }
   ],
   "source": [
    "'''\n",
    "4. Write a menu driven program\n",
    "a. In case the user has given the value from the option the following task should\n",
    "be done\n",
    "b. 1 cm to ft\n",
    "c. 2 km to miles\n",
    "d. 3 usd to inr\n",
    "e. 4 exit\n",
    "'''\n",
    "\n",
    "ip=int(input(\" \"))\n",
    "\n",
    "\n",
    "if ip ==1:\n",
    "    val=int(input(\"Enter value in cm\"))\n",
    "    val=val/30.48\n",
    "    print(val,\"ft\")\n",
    "    \n",
    "elif ip==2:\n",
    "    val=int(input(\"Enter value in km \"))\n",
    "    val=val*0.621371\n",
    "    print(val,\"miles\")\n",
    "    \n",
    "elif ip==3:\n",
    "    val=int(input(\"Enter value in $ \"))\n",
    "    val=val*83.47\n",
    "    print(\"Rs\",val)\n",
    "    \n",
    "else:\n",
    "    print(\"Exit\")\n"
   ]
  },
  {
   "cell_type": "code",
   "execution_count": 17,
   "id": "569bb3b4",
   "metadata": {},
   "outputs": [
    {
     "name": "stdout",
     "output_type": "stream",
     "text": [
      "-10\n",
      "-9\n",
      "-8\n",
      "-7\n",
      "-6\n",
      "-5\n",
      "-4\n",
      "-3\n",
      "-2\n",
      "-1\n"
     ]
    }
   ],
   "source": [
    "# 5. Display numbers from -10 to -1 using for loop\n",
    "\n",
    "for i in range(-10,0):\n",
    "    print(i)"
   ]
  },
  {
   "cell_type": "code",
   "execution_count": 18,
   "id": "fc76344b",
   "metadata": {},
   "outputs": [
    {
     "name": "stdout",
     "output_type": "stream",
     "text": [
      "1\n",
      "2\n",
      "3\n",
      "4\n",
      "5\n",
      "6\n",
      "7\n",
      "8\n",
      "9\n",
      "10\n"
     ]
    }
   ],
   "source": [
    "# 6. Print First 10 natural numbers using while loop\n",
    "for i in range(1,11):\n",
    "    print(i)"
   ]
  },
  {
   "cell_type": "code",
   "execution_count": 24,
   "id": "00ff73ed",
   "metadata": {},
   "outputs": [
    {
     "name": "stdout",
     "output_type": "stream",
     "text": [
      "1 2 3 4 5 Done!\n"
     ]
    }
   ],
   "source": [
    "'''\n",
    "7. Use else block to display a message “Done!” after successful execution of for loop\n",
    "\n",
    "Output\n",
    "1 2 3 4 5 Done!\n",
    "\n",
    "'''\n",
    "\n",
    "for i in range(1,7):\n",
    "    if i<6:\n",
    "        print(i,end=\" \")\n",
    "    else:\n",
    "        print(\"Done!\")\n"
   ]
  },
  {
   "cell_type": "code",
   "execution_count": 25,
   "id": "9411347b",
   "metadata": {},
   "outputs": [
    {
     "name": "stdout",
     "output_type": "stream",
     "text": [
      "Enter a num : 5\n",
      "120\n"
     ]
    }
   ],
   "source": [
    "'''\n",
    "8. Write a program to use the loop to find the factorial of a given number.\n",
    "a. The factorial (symbol: !) means to multiply all whole numbers from the chosen\n",
    "number down to 1.\n",
    "\n",
    "'''\n",
    "\n",
    "num=int(input(\"Enter a num : \"))\n",
    "fact=1\n",
    "for i in range(1,num+1):\n",
    "    fact*=i\n",
    "print(fact)"
   ]
  },
  {
   "cell_type": "code",
   "execution_count": 26,
   "id": "1e7c770a",
   "metadata": {},
   "outputs": [
    {
     "name": "stdout",
     "output_type": "stream",
     "text": [
      "Enter a num : 5\n",
      "1\n",
      "8\n",
      "27\n",
      "64\n",
      "125\n"
     ]
    }
   ],
   "source": [
    "# 9. Write a program to print the cube of all numbers from 1 to a given number\n",
    "\n",
    "num=int(input(\"Enter a num : \"))\n",
    "for i in range(1,num+1):\n",
    "    print(i**3)"
   ]
  },
  {
   "cell_type": "code",
   "execution_count": 27,
   "id": "f3ec321c",
   "metadata": {},
   "outputs": [
    {
     "name": "stdout",
     "output_type": "stream",
     "text": [
      "Enter selling price: 12\n",
      "Enter cost price: 10\n",
      "Profit\n"
     ]
    }
   ],
   "source": [
    "# 10. Write a program that will take user input of cost price and selling price and determines whether its a loss or a profit\n",
    "\n",
    "sp=int(input(\"Enter selling price: \"))\n",
    "cp=int(input(\"Enter cost price: \"))\n",
    "\n",
    "if sp>cp:\n",
    "    print(\"Profit\")\n",
    "elif cp>sp:\n",
    "    print(\"Loss\")"
   ]
  },
  {
   "cell_type": "code",
   "execution_count": 29,
   "id": "e7213fcf",
   "metadata": {},
   "outputs": [
    {
     "name": "stdout",
     "output_type": "stream",
     "text": [
      "1 3 5 7 9 11 13 15 17 "
     ]
    }
   ],
   "source": [
    "'''\n",
    "11. Print the sum of the current number and the previous number.\n",
    "a. Write a program to iterate the first 10 numbers and in each iteration, print the\n",
    "sum of the current and previous number.\n",
    "b. Expected result: 0,1,3,5,7,9,11,13,15,17\n",
    "\n",
    "'''\n",
    "\n",
    "for i in range (1,10):\n",
    "    x=i+(i-1)\n",
    "    print(x,end=\" \")"
   ]
  },
  {
   "cell_type": "code",
   "execution_count": 31,
   "id": "3b4d56a1",
   "metadata": {},
   "outputs": [
    {
     "name": "stdout",
     "output_type": "stream",
     "text": [
      "1 2 3 4 5 6 7 8 9 10 \n",
      "2 4 6 8 10 12 14 16 18 20 \n",
      "3 6 9 12 15 18 21 24 27 30 \n",
      "4 8 12 16 20 24 28 32 36 40 \n",
      "5 10 15 20 25 30 35 40 45 50 \n",
      "6 12 18 24 30 36 42 48 54 60 \n",
      "7 14 21 28 35 42 49 56 63 70 \n",
      "8 16 24 32 40 48 56 64 72 80 \n",
      "9 18 27 36 45 54 63 72 81 90 \n",
      "10 20 30 40 50 60 70 80 90 100 \n"
     ]
    }
   ],
   "source": [
    "# 12. Print multiplication table form 1 to 10\n",
    "\n",
    "for i in range(1,11):\n",
    "    for j in range(1,11):\n",
    "        print(i*j,end=\" \")\n",
    "    print(\"\")"
   ]
  },
  {
   "cell_type": "code",
   "execution_count": 33,
   "id": "c8f33465",
   "metadata": {},
   "outputs": [
    {
     "name": "stdout",
     "output_type": "stream",
     "text": [
      "153\n",
      "370\n",
      "371\n",
      "407\n"
     ]
    }
   ],
   "source": [
    "'''\n",
    "13. Print all the armstrong numbers in the range of 100 to 1000\n",
    "a. Output : 153, 370,371,407\n",
    "\n",
    "'''\n",
    "\n",
    "for i in range(100,1000):\n",
    "    num=i\n",
    "    sum=0\n",
    "    while num>0:\n",
    "        rem=num%10\n",
    "        sum=sum+rem**3\n",
    "        num=num//10\n",
    "    if sum==i:\n",
    "        print(i)"
   ]
  },
  {
   "cell_type": "code",
   "execution_count": null,
   "id": "10a687bc",
   "metadata": {},
   "outputs": [],
   "source": []
  }
 ],
 "metadata": {
  "kernelspec": {
   "display_name": "Python 3",
   "language": "python",
   "name": "python3"
  },
  "language_info": {
   "codemirror_mode": {
    "name": "ipython",
    "version": 3
   },
   "file_extension": ".py",
   "mimetype": "text/x-python",
   "name": "python",
   "nbconvert_exporter": "python",
   "pygments_lexer": "ipython3",
   "version": "3.8.8"
  }
 },
 "nbformat": 4,
 "nbformat_minor": 5
}

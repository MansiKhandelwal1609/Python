{
 "cells": [
  {
   "cell_type": "code",
   "execution_count": 1,
   "id": "588da013",
   "metadata": {},
   "outputs": [
    {
     "data": {
      "text/plain": [
       "8000"
      ]
     },
     "execution_count": 1,
     "metadata": {},
     "output_type": "execute_result"
    }
   ],
   "source": [
    "# \n",
    "class Student:\n",
    "    def __init__(self,fee):\n",
    "        self.fee=fee\n",
    "        \n",
    "        \n",
    "    def convert(self):\n",
    "        return self.fee*80\n",
    "    \n",
    "s1=Student(100)\n",
    "s1.convert()"
   ]
  },
  {
   "cell_type": "code",
   "execution_count": 3,
   "id": "48ddee19",
   "metadata": {},
   "outputs": [
    {
     "data": {
      "text/plain": [
       "8000"
      ]
     },
     "execution_count": 3,
     "metadata": {},
     "output_type": "execute_result"
    }
   ],
   "source": [
    "# decorator is used to change the behaviour of a function without changing its code\n",
    "class Student:\n",
    "    def __init__(self,fee):\n",
    "        self.fee=fee\n",
    "        \n",
    "    @property    # ---->  this particular decorator is used to treat the function as a variable\n",
    "    def convert(self):\n",
    "        return self.fee*80\n",
    "    \n",
    "s1=Student(100)\n",
    "s1.convert"
   ]
  },
  {
   "cell_type": "code",
   "execution_count": 4,
   "id": "c0a800ba",
   "metadata": {},
   "outputs": [
    {
     "ename": "TypeError",
     "evalue": "convert() missing 1 required positional argument: 'self'",
     "output_type": "error",
     "traceback": [
      "\u001b[1;31m---------------------------------------------------------------------------\u001b[0m",
      "\u001b[1;31mTypeError\u001b[0m                                 Traceback (most recent call last)",
      "\u001b[1;32m<ipython-input-4-a162fb5b1c9b>\u001b[0m in \u001b[0;36m<module>\u001b[1;34m\u001b[0m\n\u001b[0;32m     13\u001b[0m \u001b[1;33m\u001b[0m\u001b[0m\n\u001b[0;32m     14\u001b[0m \u001b[1;33m\u001b[0m\u001b[0m\n\u001b[1;32m---> 15\u001b[1;33m \u001b[0mStudent\u001b[0m\u001b[1;33m.\u001b[0m\u001b[0mconvert\u001b[0m\u001b[1;33m(\u001b[0m\u001b[1;33m)\u001b[0m\u001b[1;33m\u001b[0m\u001b[1;33m\u001b[0m\u001b[0m\n\u001b[0m",
      "\u001b[1;31mTypeError\u001b[0m: convert() missing 1 required positional argument: 'self'"
     ]
    }
   ],
   "source": [
    "# static method ---> method jisko hr koi chla sake\n",
    "# \n",
    "class Student:\n",
    "    def __init__(self,fee):\n",
    "        self.fee=fee\n",
    "        \n",
    "        \n",
    "    def convert(self):  #-----> instance methods only can be used by their objects\n",
    "        return self.fee*80\n",
    "    \n",
    "s1=Student(100)\n",
    "s1.convert()\n",
    "\n",
    "\n",
    "Student.convert()"
   ]
  },
  {
   "cell_type": "code",
   "execution_count": 5,
   "id": "201fe566",
   "metadata": {},
   "outputs": [
    {
     "data": {
      "text/plain": [
       "80"
      ]
     },
     "execution_count": 5,
     "metadata": {},
     "output_type": "execute_result"
    }
   ],
   "source": [
    "# \n",
    "class Student:\n",
    "    def __init__(self,fee):\n",
    "        self.fee=fee\n",
    "        \n",
    "        \n",
    "    def convert(self):\n",
    "        return 80\n",
    "    \n",
    "s1=Student(100)\n",
    "s1.convert()"
   ]
  },
  {
   "cell_type": "code",
   "execution_count": 6,
   "id": "d1c3510b",
   "metadata": {},
   "outputs": [
    {
     "ename": "TypeError",
     "evalue": "convert() missing 1 required positional argument: 'self'",
     "output_type": "error",
     "traceback": [
      "\u001b[1;31m---------------------------------------------------------------------------\u001b[0m",
      "\u001b[1;31mTypeError\u001b[0m                                 Traceback (most recent call last)",
      "\u001b[1;32m<ipython-input-6-603c698772a7>\u001b[0m in \u001b[0;36m<module>\u001b[1;34m\u001b[0m\n\u001b[0;32m      8\u001b[0m \u001b[1;33m\u001b[0m\u001b[0m\n\u001b[0;32m      9\u001b[0m \u001b[1;33m\u001b[0m\u001b[0m\n\u001b[1;32m---> 10\u001b[1;33m \u001b[0mStudent\u001b[0m\u001b[1;33m.\u001b[0m\u001b[0mconvert\u001b[0m\u001b[1;33m(\u001b[0m\u001b[1;33m)\u001b[0m\u001b[1;33m\u001b[0m\u001b[1;33m\u001b[0m\u001b[0m\n\u001b[0m",
      "\u001b[1;31mTypeError\u001b[0m: convert() missing 1 required positional argument: 'self'"
     ]
    }
   ],
   "source": [
    "class Student:\n",
    "    def __init__(self,fee):\n",
    "        self.fee=fee\n",
    "        \n",
    "        \n",
    "    def convert(self):\n",
    "        return 80\n",
    "    \n",
    "\n",
    "Student.convert()"
   ]
  },
  {
   "cell_type": "code",
   "execution_count": 7,
   "id": "c9396b34",
   "metadata": {},
   "outputs": [
    {
     "data": {
      "text/plain": [
       "80"
      ]
     },
     "execution_count": 7,
     "metadata": {},
     "output_type": "execute_result"
    }
   ],
   "source": [
    "class Student:\n",
    "    def __init__(self,fee):\n",
    "        self.fee=fee\n",
    "        \n",
    "        \n",
    "    def convert():\n",
    "        return 80\n",
    "    \n",
    "\n",
    "Student.convert()"
   ]
  },
  {
   "cell_type": "code",
   "execution_count": 11,
   "id": "b72fa7e8",
   "metadata": {},
   "outputs": [
    {
     "data": {
      "text/plain": [
       "80"
      ]
     },
     "execution_count": 11,
     "metadata": {},
     "output_type": "execute_result"
    }
   ],
   "source": [
    "class Student:\n",
    "    def __init__(self,fee):\n",
    "        self.fee=fee\n",
    "        \n",
    "    @staticmethod#----> any method that only related to class   and only act on the parameter tgat are given\n",
    "    def convert():\n",
    "        return 80\n",
    "    \n",
    "\n",
    "s1=Student(100)\n",
    "s1.convert()"
   ]
  },
  {
   "cell_type": "code",
   "execution_count": 12,
   "id": "8dc776dc",
   "metadata": {},
   "outputs": [
    {
     "name": "stdout",
     "output_type": "stream",
     "text": [
      "80\n",
      "80\n"
     ]
    }
   ],
   "source": [
    "class Student:\n",
    "    def __init__(self,fee):\n",
    "        self.fee=fee\n",
    "        \n",
    "    @staticmethod    \n",
    "    def convert(x,y):\n",
    "        return 80\n",
    "    \n",
    "\n",
    "print(Student.convert(10,20))\n",
    "s1=Student(100)\n",
    "print(s1.convert(10,20))"
   ]
  },
  {
   "cell_type": "code",
   "execution_count": 13,
   "id": "b9f5de12",
   "metadata": {},
   "outputs": [
    {
     "data": {
      "text/plain": [
       "Dollar class has values 100"
      ]
     },
     "execution_count": 13,
     "metadata": {},
     "output_type": "execute_result"
    }
   ],
   "source": [
    "# class \n",
    "class Dollar:\n",
    "    def __init__(self,amount):\n",
    "        self.amount=amount\n",
    "        \n",
    "    def __repr__(self): # used to change the representation of object \n",
    "        return f\"Dollar class has values {self.amount}\"\n",
    "    \n",
    "    def convert(x):\n",
    "        return x\n",
    "d1=Dollar(100)\n",
    "d1.convert()"
   ]
  },
  {
   "cell_type": "code",
   "execution_count": 14,
   "id": "fb024476",
   "metadata": {},
   "outputs": [
    {
     "data": {
      "text/plain": [
       "Dollar class has values 25"
      ]
     },
     "execution_count": 14,
     "metadata": {},
     "output_type": "execute_result"
    }
   ],
   "source": [
    "class Dollar:\n",
    "    def __init__(self,amount):\n",
    "        self.amount=amount\n",
    "        \n",
    "    def __repr__(self):\n",
    "        return f\"Dollar class has values {self.amount}\"\n",
    "    \n",
    "    @staticmethod\n",
    "    def convert(x,y):\n",
    "        return Dollar(x+y)\n",
    "d1=Dollar(100)\n",
    "d1.convert(10,15)"
   ]
  },
  {
   "cell_type": "code",
   "execution_count": 18,
   "id": "d1a7066d",
   "metadata": {},
   "outputs": [
    {
     "data": {
      "text/plain": [
       "Dollar class has values 50"
      ]
     },
     "execution_count": 18,
     "metadata": {},
     "output_type": "execute_result"
    }
   ],
   "source": [
    "class Dollar:\n",
    "    def __init__(self,amount):\n",
    "        self.amount=amount\n",
    "        \n",
    "    def __repr__(self):\n",
    "        return f\"Dollar class has values {self.amount}\"\n",
    "    \n",
    "    @staticmethod\n",
    "    def convert(x,y):\n",
    "        return Dollar(x+y)\n",
    "    \n",
    "class Euro(Dollar):\n",
    "    def __init__(self,amount):\n",
    "        super().__init__(amount)\n",
    "        \n",
    "    def __repr__(self):\n",
    "        return f\"Euro class has values {self.amount}\"\n",
    " \n",
    "e1=Euro(100)\n",
    "e1.convert(20,30)\n",
    "\n",
    "# in this we are calling euro class but it is showing result in dollar class because of static method"
   ]
  },
  {
   "cell_type": "code",
   "execution_count": 16,
   "id": "0f211ffe",
   "metadata": {},
   "outputs": [
    {
     "data": {
      "text/plain": [
       "Euro class has values 110"
      ]
     },
     "execution_count": 16,
     "metadata": {},
     "output_type": "execute_result"
    }
   ],
   "source": [
    "class Dollar:\n",
    "    def __init__(self,amount):\n",
    "        self.amount=amount\n",
    "        \n",
    "    def __repr__(self):\n",
    "        return f\"Dollar class has values {self.amount}\"\n",
    "    \n",
    "    @classmethod \n",
    "    def convert(cls,x,y):\n",
    "        return cls(x+y)\n",
    "    \n",
    "class Euro(Dollar):\n",
    "    def __init__(self,amount):\n",
    "        super().__init__(amount)\n",
    "        \n",
    "    def __repr__(self):\n",
    "        return f\"Euro class has values {self.amount}\"\n",
    " \n",
    "d1=Euro(100)\n",
    "d1.convert(50,60)"
   ]
  },
  {
   "cell_type": "code",
   "execution_count": 17,
   "id": "4058c3da",
   "metadata": {},
   "outputs": [
    {
     "data": {
      "text/plain": [
       "Dollar class has values 50"
      ]
     },
     "execution_count": 17,
     "metadata": {},
     "output_type": "execute_result"
    }
   ],
   "source": [
    "e1=Dollar(100)\n",
    "e1.convert(20,30)"
   ]
  },
  {
   "cell_type": "code",
   "execution_count": null,
   "id": "7d5afe0f",
   "metadata": {},
   "outputs": [],
   "source": [
    "# functions\n",
    "# lambda\n",
    "# list , tuple\n",
    "# dictionary\n",
    "# class , object\n",
    "# polymorphism\n",
    "# __init__\n",
    "# self \n",
    "# MRO \n",
    "# __new__ => instance banana"
   ]
  }
 ],
 "metadata": {
  "kernelspec": {
   "display_name": "Python 3",
   "language": "python",
   "name": "python3"
  },
  "language_info": {
   "codemirror_mode": {
    "name": "ipython",
    "version": 3
   },
   "file_extension": ".py",
   "mimetype": "text/x-python",
   "name": "python",
   "nbconvert_exporter": "python",
   "pygments_lexer": "ipython3",
   "version": "3.8.8"
  }
 },
 "nbformat": 4,
 "nbformat_minor": 5
}

{
 "cells": [
  {
   "cell_type": "code",
   "execution_count": 2,
   "id": "09fd549c",
   "metadata": {
    "collapsed": true
   },
   "outputs": [
    {
     "name": "stdout",
     "output_type": "stream",
     "text": [
      "hello world\n",
      "hello tushar\n"
     ]
    }
   ],
   "source": [
    "print(\"hello world\")\n",
    "print(\"hello tushar\")"
   ]
  },
  {
   "cell_type": "code",
   "execution_count": 3,
   "id": "c9891722",
   "metadata": {},
   "outputs": [
    {
     "name": "stdout",
     "output_type": "stream",
     "text": [
      "hello world\thello tushar\n"
     ]
    }
   ],
   "source": [
    "print(\"hello world\",end=\"\\t\")## by default end is \" \"\n",
    "print(\"hello tushar\")"
   ]
  },
  {
   "cell_type": "code",
   "execution_count": 4,
   "id": "c89ae897",
   "metadata": {},
   "outputs": [
    {
     "name": "stdout",
     "output_type": "stream",
     "text": [
      "hello world#hello tushar\n"
     ]
    }
   ],
   "source": [
    "print(\"hello world\",end=\"#\")\n",
    "print(\"hello tushar\")"
   ]
  },
  {
   "cell_type": "code",
   "execution_count": 5,
   "id": "87b876b0",
   "metadata": {},
   "outputs": [
    {
     "name": "stdout",
     "output_type": "stream",
     "text": [
      "hello-hey\n"
     ]
    }
   ],
   "source": [
    "print (\"hello\",\"hey\",sep=\"-\")## by default sep is \" \""
   ]
  },
  {
   "cell_type": "code",
   "execution_count": 6,
   "id": "fbd0a2ce",
   "metadata": {},
   "outputs": [],
   "source": [
    "x=100"
   ]
  },
  {
   "cell_type": "code",
   "execution_count": 7,
   "id": "2b0091a1",
   "metadata": {},
   "outputs": [
    {
     "name": "stdout",
     "output_type": "stream",
     "text": [
      "100\n"
     ]
    }
   ],
   "source": [
    "print(x)"
   ]
  },
  {
   "cell_type": "code",
   "execution_count": 8,
   "id": "fef98bd3",
   "metadata": {},
   "outputs": [
    {
     "name": "stdout",
     "output_type": "stream",
     "text": [
      "hello 100\n"
     ]
    }
   ],
   "source": [
    "print(\"hello\",x)"
   ]
  },
  {
   "cell_type": "code",
   "execution_count": 9,
   "id": "c0a5ee96",
   "metadata": {},
   "outputs": [
    {
     "data": {
      "text/plain": [
       "int"
      ]
     },
     "execution_count": 9,
     "metadata": {},
     "output_type": "execute_result"
    }
   ],
   "source": [
    "type(x)"
   ]
  },
  {
   "cell_type": "code",
   "execution_count": 10,
   "id": "b17ca4bf",
   "metadata": {},
   "outputs": [
    {
     "name": "stdout",
     "output_type": "stream",
     "text": [
      "<class 'int'>\n"
     ]
    }
   ],
   "source": [
    "print(type(x))"
   ]
  },
  {
   "cell_type": "code",
   "execution_count": 11,
   "id": "92cba730",
   "metadata": {},
   "outputs": [],
   "source": [
    "gender=\"male\"\n"
   ]
  },
  {
   "cell_type": "code",
   "execution_count": 12,
   "id": "6525fcd0",
   "metadata": {},
   "outputs": [
    {
     "name": "stdout",
     "output_type": "stream",
     "text": [
      "<class 'str'>\n"
     ]
    }
   ],
   "source": [
    "print(type(gender))"
   ]
  },
  {
   "cell_type": "code",
   "execution_count": 13,
   "id": "16e8e325",
   "metadata": {},
   "outputs": [
    {
     "name": "stdout",
     "output_type": "stream",
     "text": [
      "<class 'str'>\n"
     ]
    }
   ],
   "source": [
    "gender='f'\n",
    "print(type(gender))"
   ]
  },
  {
   "cell_type": "code",
   "execution_count": 15,
   "id": "5e17abcf",
   "metadata": {},
   "outputs": [
    {
     "name": "stdout",
     "output_type": "stream",
     "text": [
      "b 35 \n",
      "         regex software\n",
      "         gopalpura \n"
     ]
    }
   ],
   "source": [
    "address=\"\"\"b 35 \n",
    "         regex software\n",
    "         gopalpura \"\"\" ## multi line string\n",
    "print(address)"
   ]
  },
  {
   "cell_type": "code",
   "execution_count": 21,
   "id": "2ff8d014",
   "metadata": {},
   "outputs": [
    {
     "data": {
      "text/plain": [
       "'\\\\comment\\\\ '"
      ]
     },
     "execution_count": 21,
     "metadata": {},
     "output_type": "execute_result"
    }
   ],
   "source": [
    "'''\\comment\\ '''"
   ]
  },
  {
   "cell_type": "code",
   "execution_count": 22,
   "id": "467c6813",
   "metadata": {},
   "outputs": [
    {
     "name": "stdout",
     "output_type": "stream",
     "text": [
      "Year is 2024 Company name is  Regex Software\n"
     ]
    }
   ],
   "source": [
    "year=2024\n",
    "company =\"Regex Software\"\n",
    "print(\"Year is\",year,\"Company name is \",company)"
   ]
  },
  {
   "cell_type": "code",
   "execution_count": 23,
   "id": "91b1837f",
   "metadata": {},
   "outputs": [
    {
     "name": "stdout",
     "output_type": "stream",
     "text": [
      "Year is 2024 Company name is Regex Software\n"
     ]
    }
   ],
   "source": [
    "print(f\"Year is {year} Company name is {company}\") ## f keyword is used for fomatting"
   ]
  },
  {
   "cell_type": "code",
   "execution_count": 24,
   "id": "f220361a",
   "metadata": {},
   "outputs": [
    {
     "name": "stdout",
     "output_type": "stream",
     "text": [
      "hey year is2023\n"
     ]
    }
   ],
   "source": [
    "# .format method of formatting string\n",
    "yr=2023\n",
    "print(\"hey year is{}\".format(yr))"
   ]
  },
  {
   "cell_type": "code",
   "execution_count": 25,
   "id": "fa68ad0e",
   "metadata": {},
   "outputs": [
    {
     "name": "stdout",
     "output_type": "stream",
     "text": [
      "hey year is 2023 and company is abc\n"
     ]
    }
   ],
   "source": [
    "yr=2023\n",
    "print(\"hey year is {} and company is {}\".format(yr,\"abc\"))"
   ]
  },
  {
   "cell_type": "code",
   "execution_count": 26,
   "id": "f2b4c536",
   "metadata": {},
   "outputs": [
    {
     "name": "stdout",
     "output_type": "stream",
     "text": [
      "hey year is 2023 and company is abc\n"
     ]
    }
   ],
   "source": [
    "yr=2023\n",
    "print(\"hey year is {0} and company is {1}\".format(yr,\"abc\"))## by default value in curly brackets"
   ]
  },
  {
   "cell_type": "code",
   "execution_count": 27,
   "id": "9a198702",
   "metadata": {},
   "outputs": [
    {
     "name": "stdout",
     "output_type": "stream",
     "text": [
      "hey year is abc and company is 2023\n"
     ]
    }
   ],
   "source": [
    "yr=2023\n",
    "print(\"hey year is {1} and company is {0}\".format(yr,\"abc\"))"
   ]
  },
  {
   "cell_type": "code",
   "execution_count": 1,
   "id": "6b982701",
   "metadata": {},
   "outputs": [
    {
     "name": "stdout",
     "output_type": "stream",
     "text": [
      "140712228565872\n"
     ]
    }
   ],
   "source": [
    "x=99\n",
    "print(id(x))"
   ]
  },
  {
   "cell_type": "code",
   "execution_count": 2,
   "id": "bab629ad",
   "metadata": {},
   "outputs": [
    {
     "name": "stdout",
     "output_type": "stream",
     "text": [
      "140712228565872\n"
     ]
    }
   ],
   "source": [
    "#passing data through call by reference\n",
    "y=x\n",
    "print(id(y))"
   ]
  },
  {
   "cell_type": "code",
   "execution_count": 7,
   "id": "173e6393",
   "metadata": {},
   "outputs": [
    {
     "name": "stdout",
     "output_type": "stream",
     "text": [
      "99\n",
      "20\n",
      "x: 140712228565872 y: 140712228563344\n"
     ]
    }
   ],
   "source": [
    "print(x)\n",
    "print(y)\n",
    "print(\"x:\",id(x),\"y:\",id(y))"
   ]
  },
  {
   "cell_type": "code",
   "execution_count": 8,
   "id": "2dc9fdd9",
   "metadata": {},
   "outputs": [
    {
     "name": "stdout",
     "output_type": "stream",
     "text": [
      "140712228565872\n"
     ]
    }
   ],
   "source": [
    "y=x\n",
    "print(id(y))"
   ]
  },
  {
   "cell_type": "code",
   "execution_count": 9,
   "id": "d9c88155",
   "metadata": {},
   "outputs": [
    {
     "name": "stdout",
     "output_type": "stream",
     "text": [
      "99\n",
      "99\n",
      "x: 140712228565872 y: 140712228565872\n"
     ]
    }
   ],
   "source": [
    "print(x)\n",
    "print(y)\n",
    "print(\"x:\",id(x),\"y:\",id(y))"
   ]
  },
  {
   "cell_type": "code",
   "execution_count": 10,
   "id": "02b14927",
   "metadata": {},
   "outputs": [
    {
     "name": "stdout",
     "output_type": "stream",
     "text": [
      "140712228563344\n"
     ]
    }
   ],
   "source": [
    "y=20\n",
    "print(id(y))"
   ]
  },
  {
   "cell_type": "code",
   "execution_count": 11,
   "id": "af80080d",
   "metadata": {},
   "outputs": [
    {
     "data": {
      "text/plain": [
       "50"
      ]
     },
     "execution_count": 11,
     "metadata": {},
     "output_type": "execute_result"
    }
   ],
   "source": [
    "20+30"
   ]
  },
  {
   "cell_type": "code",
   "execution_count": 12,
   "id": "cdfa0a74",
   "metadata": {},
   "outputs": [
    {
     "data": {
      "text/plain": [
       "3.3333333333333335"
      ]
     },
     "execution_count": 12,
     "metadata": {},
     "output_type": "execute_result"
    }
   ],
   "source": [
    "10/3 # division"
   ]
  },
  {
   "cell_type": "code",
   "execution_count": 13,
   "id": "fa980239",
   "metadata": {},
   "outputs": [
    {
     "data": {
      "text/plain": [
       "3"
      ]
     },
     "execution_count": 13,
     "metadata": {},
     "output_type": "execute_result"
    }
   ],
   "source": [
    "10//3 # floor division"
   ]
  },
  {
   "cell_type": "code",
   "execution_count": 14,
   "id": "42949af9",
   "metadata": {},
   "outputs": [
    {
     "data": {
      "text/plain": [
       "16"
      ]
     },
     "execution_count": 14,
     "metadata": {},
     "output_type": "execute_result"
    }
   ],
   "source": [
    "2**4 #exponent"
   ]
  },
  {
   "cell_type": "code",
   "execution_count": 15,
   "id": "c727273f",
   "metadata": {},
   "outputs": [
    {
     "data": {
      "text/plain": [
       "2"
      ]
     },
     "execution_count": 15,
     "metadata": {},
     "output_type": "execute_result"
    }
   ],
   "source": [
    "14%3 #modulus operator"
   ]
  },
  {
   "cell_type": "code",
   "execution_count": 16,
   "id": "4557bc8d",
   "metadata": {},
   "outputs": [
    {
     "data": {
      "text/plain": [
       "86"
      ]
     },
     "execution_count": 16,
     "metadata": {},
     "output_type": "execute_result"
    }
   ],
   "source": [
    "5+2*6**2-4//7+9"
   ]
  },
  {
   "cell_type": "code",
   "execution_count": 17,
   "id": "5e57b280",
   "metadata": {},
   "outputs": [],
   "source": [
    "x=10"
   ]
  },
  {
   "cell_type": "code",
   "execution_count": 18,
   "id": "92de70a9",
   "metadata": {},
   "outputs": [
    {
     "data": {
      "text/plain": [
       "True"
      ]
     },
     "execution_count": 18,
     "metadata": {},
     "output_type": "execute_result"
    }
   ],
   "source": [
    "x==10 # comparison operator"
   ]
  },
  {
   "cell_type": "code",
   "execution_count": 19,
   "id": "5b4d5453",
   "metadata": {},
   "outputs": [
    {
     "ename": "SyntaxError",
     "evalue": "invalid syntax (<ipython-input-19-264d73620c3a>, line 1)",
     "output_type": "error",
     "traceback": [
      "\u001b[1;36m  File \u001b[1;32m\"<ipython-input-19-264d73620c3a>\"\u001b[1;36m, line \u001b[1;32m1\u001b[0m\n\u001b[1;33m    x<==9\u001b[0m\n\u001b[1;37m       ^\u001b[0m\n\u001b[1;31mSyntaxError\u001b[0m\u001b[1;31m:\u001b[0m invalid syntax\n"
     ]
    }
   ],
   "source": [
    "x<==9"
   ]
  },
  {
   "cell_type": "code",
   "execution_count": 20,
   "id": "e2852c85",
   "metadata": {},
   "outputs": [
    {
     "data": {
      "text/plain": [
       "False"
      ]
     },
     "execution_count": 20,
     "metadata": {},
     "output_type": "execute_result"
    }
   ],
   "source": [
    "x<=9"
   ]
  },
  {
   "cell_type": "code",
   "execution_count": 21,
   "id": "fc17cc21",
   "metadata": {},
   "outputs": [
    {
     "name": "stdout",
     "output_type": "stream",
     "text": [
      "25\n"
     ]
    }
   ],
   "source": [
    "x=10\n",
    "x=x+15\n",
    "print(x)"
   ]
  },
  {
   "cell_type": "code",
   "execution_count": 22,
   "id": "6f85b81f",
   "metadata": {},
   "outputs": [
    {
     "name": "stdout",
     "output_type": "stream",
     "text": [
      "25\n"
     ]
    }
   ],
   "source": [
    "x=10\n",
    "x += 15 # we can only use this way when there are same variable both the sides\n",
    "print(x)"
   ]
  },
  {
   "cell_type": "code",
   "execution_count": 23,
   "id": "839a2b5f",
   "metadata": {},
   "outputs": [],
   "source": [
    "y=10\n",
    "x=y+10 # we cannot use previous way as there are different variables"
   ]
  },
  {
   "cell_type": "code",
   "execution_count": 24,
   "id": "9fe7ef0f",
   "metadata": {},
   "outputs": [
    {
     "name": "stdout",
     "output_type": "stream",
     "text": [
      "20\n"
     ]
    }
   ],
   "source": [
    "print(x)"
   ]
  },
  {
   "cell_type": "code",
   "execution_count": 25,
   "id": "33295dee",
   "metadata": {},
   "outputs": [
    {
     "name": "stdout",
     "output_type": "stream",
     "text": [
      "0\n"
     ]
    }
   ],
   "source": [
    "y=1782\n",
    "y %=3\n",
    "print(y)"
   ]
  },
  {
   "cell_type": "code",
   "execution_count": 26,
   "id": "21f7d41d",
   "metadata": {},
   "outputs": [
    {
     "data": {
      "text/plain": [
       "True"
      ]
     },
     "execution_count": 26,
     "metadata": {},
     "output_type": "execute_result"
    }
   ],
   "source": [
    "x=99\n",
    "x==99"
   ]
  },
  {
   "cell_type": "code",
   "execution_count": 27,
   "id": "a9f168f9",
   "metadata": {},
   "outputs": [
    {
     "data": {
      "text/plain": [
       "True"
      ]
     },
     "execution_count": 27,
     "metadata": {},
     "output_type": "execute_result"
    }
   ],
   "source": [
    "y=88\n",
    "y>80"
   ]
  },
  {
   "cell_type": "code",
   "execution_count": 28,
   "id": "4c7162cb",
   "metadata": {},
   "outputs": [
    {
     "data": {
      "text/plain": [
       "False"
      ]
     },
     "execution_count": 28,
     "metadata": {},
     "output_type": "execute_result"
    }
   ],
   "source": [
    "x==99 and y>90 # in and operator if one condition is false then answer is false or all conditions should be true to get result as true"
   ]
  },
  {
   "cell_type": "code",
   "execution_count": 29,
   "id": "1e2cd5c9",
   "metadata": {},
   "outputs": [
    {
     "data": {
      "text/plain": [
       "True"
      ]
     },
     "execution_count": 29,
     "metadata": {},
     "output_type": "execute_result"
    }
   ],
   "source": [
    "x=99\n",
    "y=888\n",
    "x==99 or y>90 # in or operator atleast 1 condition should be true"
   ]
  },
  {
   "cell_type": "code",
   "execution_count": 30,
   "id": "527238ac",
   "metadata": {},
   "outputs": [
    {
     "data": {
      "text/plain": [
       "True"
      ]
     },
     "execution_count": 30,
     "metadata": {},
     "output_type": "execute_result"
    }
   ],
   "source": [
    "x=99\n",
    "y=888\n",
    "age=18\n",
    "x==99 or y>90 or age<18"
   ]
  },
  {
   "cell_type": "code",
   "execution_count": 31,
   "id": "e82d55bf",
   "metadata": {},
   "outputs": [
    {
     "data": {
      "text/plain": [
       "True"
      ]
     },
     "execution_count": 31,
     "metadata": {},
     "output_type": "execute_result"
    }
   ],
   "source": [
    "x=199\n",
    "y=888\n",
    "age=18\n",
    "x==99 or y>90 or age<18"
   ]
  },
  {
   "cell_type": "code",
   "execution_count": 37,
   "id": "3caf1a2b",
   "metadata": {},
   "outputs": [
    {
     "data": {
      "text/plain": [
       "True"
      ]
     },
     "execution_count": 37,
     "metadata": {},
     "output_type": "execute_result"
    }
   ],
   "source": [
    "not(False)"
   ]
  },
  {
   "cell_type": "code",
   "execution_count": 35,
   "id": "1a1e7e7c",
   "metadata": {},
   "outputs": [
    {
     "data": {
      "text/plain": [
       "True"
      ]
     },
     "execution_count": 35,
     "metadata": {},
     "output_type": "execute_result"
    }
   ],
   "source": [
    "x=None\n",
    "not x"
   ]
  },
  {
   "cell_type": "code",
   "execution_count": 38,
   "id": "333759e0",
   "metadata": {},
   "outputs": [
    {
     "data": {
      "text/plain": [
       "False"
      ]
     },
     "execution_count": 38,
     "metadata": {},
     "output_type": "execute_result"
    }
   ],
   "source": [
    "# membership operator --> to check whether the element is member of the data or not\n",
    "\"y\" in \"jaipur\""
   ]
  },
  {
   "cell_type": "code",
   "execution_count": 39,
   "id": "34449a50",
   "metadata": {},
   "outputs": [
    {
     "data": {
      "text/plain": [
       "True"
      ]
     },
     "execution_count": 39,
     "metadata": {},
     "output_type": "execute_result"
    }
   ],
   "source": [
    "\"y\" not in \"jaipur\""
   ]
  },
  {
   "cell_type": "code",
   "execution_count": 40,
   "id": "99fa0278",
   "metadata": {},
   "outputs": [
    {
     "data": {
      "text/plain": [
       "False"
      ]
     },
     "execution_count": 40,
     "metadata": {},
     "output_type": "execute_result"
    }
   ],
   "source": [
    "\"a\" not in \"jaipur\""
   ]
  },
  {
   "cell_type": "code",
   "execution_count": null,
   "id": "2018492e",
   "metadata": {},
   "outputs": [],
   "source": [
    "ss"
   ]
  }
 ],
 "metadata": {
  "kernelspec": {
   "display_name": "Python 3",
   "language": "python",
   "name": "python3"
  },
  "language_info": {
   "codemirror_mode": {
    "name": "ipython",
    "version": 3
   },
   "file_extension": ".py",
   "mimetype": "text/x-python",
   "name": "python",
   "nbconvert_exporter": "python",
   "pygments_lexer": "ipython3",
   "version": "3.8.8"
  }
 },
 "nbformat": 4,
 "nbformat_minor": 5
}

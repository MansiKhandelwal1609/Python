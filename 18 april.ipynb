{
 "cells": [
  {
   "cell_type": "code",
   "execution_count": 1,
   "id": "e185694f",
   "metadata": {},
   "outputs": [
    {
     "data": {
      "text/plain": [
       "True"
      ]
     },
     "execution_count": 1,
     "metadata": {},
     "output_type": "execute_result"
    }
   ],
   "source": [
    "city=\"jaipur\"\n",
    "type(city) is not int"
   ]
  },
  {
   "cell_type": "code",
   "execution_count": 2,
   "id": "72af2edf",
   "metadata": {},
   "outputs": [],
   "source": [
    "x=500"
   ]
  },
  {
   "cell_type": "code",
   "execution_count": 3,
   "id": "6482a4c6",
   "metadata": {},
   "outputs": [
    {
     "data": {
      "text/plain": [
       "False"
      ]
     },
     "execution_count": 3,
     "metadata": {},
     "output_type": "execute_result"
    }
   ],
   "source": [
    "y=500\n",
    "x is y # check memory address"
   ]
  },
  {
   "cell_type": "code",
   "execution_count": 4,
   "id": "638e63c1",
   "metadata": {},
   "outputs": [
    {
     "data": {
      "text/plain": [
       "True"
      ]
     },
     "execution_count": 4,
     "metadata": {},
     "output_type": "execute_result"
    }
   ],
   "source": [
    "x==y # check value"
   ]
  },
  {
   "cell_type": "code",
   "execution_count": 5,
   "id": "0eb90537",
   "metadata": {},
   "outputs": [
    {
     "data": {
      "text/plain": [
       "'A'"
      ]
     },
     "execution_count": 5,
     "metadata": {},
     "output_type": "execute_result"
    }
   ],
   "source": [
    "state =\"RAJASTHAN\"\n",
    "state[3]"
   ]
  },
  {
   "cell_type": "code",
   "execution_count": 6,
   "id": "7033e8d4",
   "metadata": {},
   "outputs": [
    {
     "data": {
      "text/plain": [
       "'RAJA'"
      ]
     },
     "execution_count": 6,
     "metadata": {},
     "output_type": "execute_result"
    }
   ],
   "source": [
    "# slicing [start:end:step size]\n",
    "state=\"RAJASTHAN\"\n",
    "state[0:4]"
   ]
  },
  {
   "cell_type": "code",
   "execution_count": 7,
   "id": "afbbaebd",
   "metadata": {},
   "outputs": [
    {
     "data": {
      "text/plain": [
       "'RAJAS'"
      ]
     },
     "execution_count": 7,
     "metadata": {},
     "output_type": "execute_result"
    }
   ],
   "source": [
    "state[0:5]"
   ]
  },
  {
   "cell_type": "code",
   "execution_count": 8,
   "id": "f50655f6",
   "metadata": {},
   "outputs": [
    {
     "data": {
      "text/plain": [
       "'JAS'"
      ]
     },
     "execution_count": 8,
     "metadata": {},
     "output_type": "execute_result"
    }
   ],
   "source": [
    "state[2:5]"
   ]
  },
  {
   "cell_type": "code",
   "execution_count": 9,
   "id": "e2f7b420",
   "metadata": {},
   "outputs": [
    {
     "ename": "IndexError",
     "evalue": "string index out of range",
     "output_type": "error",
     "traceback": [
      "\u001b[1;31m---------------------------------------------------------------------------\u001b[0m",
      "\u001b[1;31mIndexError\u001b[0m                                Traceback (most recent call last)",
      "\u001b[1;32m<ipython-input-9-615030f5669d>\u001b[0m in \u001b[0;36m<module>\u001b[1;34m\u001b[0m\n\u001b[1;32m----> 1\u001b[1;33m \u001b[0mstate\u001b[0m\u001b[1;33m[\u001b[0m\u001b[1;36m10\u001b[0m\u001b[1;33m]\u001b[0m\u001b[1;33m\u001b[0m\u001b[1;33m\u001b[0m\u001b[0m\n\u001b[0m",
      "\u001b[1;31mIndexError\u001b[0m: string index out of range"
     ]
    }
   ],
   "source": [
    "state[10] # indexing will give error when greater than last index gives error"
   ]
  },
  {
   "cell_type": "code",
   "execution_count": 10,
   "id": "e6050336",
   "metadata": {},
   "outputs": [
    {
     "data": {
      "text/plain": [
       "'RAJASTHAN'"
      ]
     },
     "execution_count": 10,
     "metadata": {},
     "output_type": "execute_result"
    }
   ],
   "source": [
    "state[0:10] # in slicing it will give till end  when given end value more than last index doesnt give error."
   ]
  },
  {
   "cell_type": "code",
   "execution_count": 11,
   "id": "ca5aeb24",
   "metadata": {},
   "outputs": [
    {
     "data": {
      "text/plain": [
       "'RAJA'"
      ]
     },
     "execution_count": 11,
     "metadata": {},
     "output_type": "execute_result"
    }
   ],
   "source": [
    "state[0:4:1]"
   ]
  },
  {
   "cell_type": "code",
   "execution_count": 12,
   "id": "e56b37b5",
   "metadata": {},
   "outputs": [
    {
     "data": {
      "text/plain": [
       "'RJ'"
      ]
     },
     "execution_count": 12,
     "metadata": {},
     "output_type": "execute_result"
    }
   ],
   "source": [
    "state[0:4:2]"
   ]
  },
  {
   "cell_type": "code",
   "execution_count": 13,
   "id": "019db6b4",
   "metadata": {},
   "outputs": [
    {
     "data": {
      "text/plain": [
       "''"
      ]
     },
     "execution_count": 13,
     "metadata": {},
     "output_type": "execute_result"
    }
   ],
   "source": [
    "state[0:4:-1] # empty string "
   ]
  },
  {
   "cell_type": "code",
   "execution_count": 14,
   "id": "a68f1db3",
   "metadata": {},
   "outputs": [
    {
     "data": {
      "text/plain": [
       "''"
      ]
     },
     "execution_count": 14,
     "metadata": {},
     "output_type": "execute_result"
    }
   ],
   "source": [
    "state[-1:-4] # by default step size is 1"
   ]
  },
  {
   "cell_type": "code",
   "execution_count": 15,
   "id": "da9f5d86",
   "metadata": {},
   "outputs": [
    {
     "data": {
      "text/plain": [
       "'NAH'"
      ]
     },
     "execution_count": 15,
     "metadata": {},
     "output_type": "execute_result"
    }
   ],
   "source": [
    "state[-1:-4:-1]"
   ]
  },
  {
   "cell_type": "code",
   "execution_count": 16,
   "id": "4fedd239",
   "metadata": {},
   "outputs": [
    {
     "data": {
      "text/plain": [
       "''"
      ]
     },
     "execution_count": 16,
     "metadata": {},
     "output_type": "execute_result"
    }
   ],
   "source": [
    "state[-2:-4:2] #negative indexing "
   ]
  },
  {
   "cell_type": "code",
   "execution_count": 17,
   "id": "2d9014ea",
   "metadata": {},
   "outputs": [
    {
     "data": {
      "text/plain": [
       "'RAJASTHAN'"
      ]
     },
     "execution_count": 17,
     "metadata": {},
     "output_type": "execute_result"
    }
   ],
   "source": [
    "# starting / ending is missing then step size is imp\n",
    "state[0:]"
   ]
  },
  {
   "cell_type": "code",
   "execution_count": 18,
   "id": "bfe1eab3",
   "metadata": {},
   "outputs": [
    {
     "data": {
      "text/plain": [
       "'JASTHAN'"
      ]
     },
     "execution_count": 18,
     "metadata": {},
     "output_type": "execute_result"
    }
   ],
   "source": [
    "state[2:] # by default end is till last"
   ]
  },
  {
   "cell_type": "code",
   "execution_count": 19,
   "id": "625d2867",
   "metadata": {},
   "outputs": [
    {
     "data": {
      "text/plain": [
       "'RSN'"
      ]
     },
     "execution_count": 19,
     "metadata": {},
     "output_type": "execute_result"
    }
   ],
   "source": [
    "state[0::4]"
   ]
  },
  {
   "cell_type": "code",
   "execution_count": 20,
   "id": "af25788e",
   "metadata": {},
   "outputs": [
    {
     "data": {
      "text/plain": [
       "'RAJ'"
      ]
     },
     "execution_count": 20,
     "metadata": {},
     "output_type": "execute_result"
    }
   ],
   "source": [
    "state[:3:1] # by default start is 0"
   ]
  },
  {
   "cell_type": "code",
   "execution_count": 21,
   "id": "7bd624bf",
   "metadata": {},
   "outputs": [
    {
     "data": {
      "text/plain": [
       "'R'"
      ]
     },
     "execution_count": 21,
     "metadata": {},
     "output_type": "execute_result"
    }
   ],
   "source": [
    "state[0::-1]"
   ]
  },
  {
   "cell_type": "code",
   "execution_count": 22,
   "id": "ae8524e5",
   "metadata": {},
   "outputs": [
    {
     "data": {
      "text/plain": [
       "'AJAR'"
      ]
     },
     "execution_count": 22,
     "metadata": {},
     "output_type": "execute_result"
    }
   ],
   "source": [
    "state[3::-1] # start is inclusive "
   ]
  },
  {
   "cell_type": "code",
   "execution_count": 23,
   "id": "1dc47d0c",
   "metadata": {},
   "outputs": [
    {
     "data": {
      "text/plain": [
       "'THAN'"
      ]
     },
     "execution_count": 23,
     "metadata": {},
     "output_type": "execute_result"
    }
   ],
   "source": [
    "state[-4::1] "
   ]
  },
  {
   "cell_type": "code",
   "execution_count": 24,
   "id": "8f03d1e6",
   "metadata": {},
   "outputs": [
    {
     "data": {
      "text/plain": [
       "'TSAJAR'"
      ]
     },
     "execution_count": 24,
     "metadata": {},
     "output_type": "execute_result"
    }
   ],
   "source": [
    "state[-4::-1]"
   ]
  },
  {
   "cell_type": "code",
   "execution_count": 25,
   "id": "cec9126d",
   "metadata": {},
   "outputs": [
    {
     "name": "stdout",
     "output_type": "stream",
     "text": [
      "Number is 10\n"
     ]
    }
   ],
   "source": [
    "x=10\n",
    "\n",
    "if(x==10):\n",
    "    print(\"Number is 10\")"
   ]
  },
  {
   "cell_type": "code",
   "execution_count": 26,
   "id": "6917da0a",
   "metadata": {},
   "outputs": [
    {
     "data": {
      "text/plain": [
       "True"
      ]
     },
     "execution_count": 26,
     "metadata": {},
     "output_type": "execute_result"
    }
   ],
   "source": [
    "x==10"
   ]
  },
  {
   "cell_type": "code",
   "execution_count": 27,
   "id": "1681edda",
   "metadata": {},
   "outputs": [
    {
     "name": "stdout",
     "output_type": "stream",
     "text": [
      "Number is 10\n"
     ]
    }
   ],
   "source": [
    "x=10\n",
    "\n",
    "if(True):\n",
    "    print(\"Number is 10\")"
   ]
  },
  {
   "cell_type": "code",
   "execution_count": 29,
   "id": "4c4589bf",
   "metadata": {},
   "outputs": [
    {
     "name": "stdout",
     "output_type": "stream",
     "text": [
      "condition is false\n"
     ]
    }
   ],
   "source": [
    "x=15\n",
    "\n",
    "if(x==12):\n",
    "    print(\"Number is 12\")\n",
    "else :\n",
    "    print(\"condition is false\")"
   ]
  },
  {
   "cell_type": "code",
   "execution_count": 30,
   "id": "8c0ae59f",
   "metadata": {},
   "outputs": [
    {
     "ename": "IndentationError",
     "evalue": "expected an indented block (<ipython-input-30-73072fecca2f>, line 6)",
     "output_type": "error",
     "traceback": [
      "\u001b[1;36m  File \u001b[1;32m\"<ipython-input-30-73072fecca2f>\"\u001b[1;36m, line \u001b[1;32m6\u001b[0m\n\u001b[1;33m    print(\"condition is false\")\u001b[0m\n\u001b[1;37m    ^\u001b[0m\n\u001b[1;31mIndentationError\u001b[0m\u001b[1;31m:\u001b[0m expected an indented block\n"
     ]
    }
   ],
   "source": [
    "x=15\n",
    "\n",
    "if(x==12):\n",
    "    print(\"Number is 12\")\n",
    "else :\n",
    "print(\"condition is false\") # print statement is outside the else statement "
   ]
  },
  {
   "cell_type": "code",
   "execution_count": 31,
   "id": "2466c59c",
   "metadata": {
    "scrolled": true
   },
   "outputs": [
    {
     "name": "stdout",
     "output_type": "stream",
     "text": [
      "condition is false\n",
      "Number is 15\n"
     ]
    }
   ],
   "source": [
    "x=15\n",
    "\n",
    "if(x==12):\n",
    "    print(\"Number is 12\")\n",
    "else :\n",
    "    print(\"condition is false\")\n",
    "    \n",
    "\n",
    "if(x==15):\n",
    "    print(\"Number is 15\")\n",
    "else :\n",
    "    print(\"condition is false\")"
   ]
  },
  {
   "cell_type": "code",
   "execution_count": 32,
   "id": "8533ef74",
   "metadata": {},
   "outputs": [
    {
     "name": "stdout",
     "output_type": "stream",
     "text": [
      "condition is false\n",
      "condition is false\n"
     ]
    }
   ],
   "source": [
    "x=17\n",
    "\n",
    "if(x==12):\n",
    "    print(\"Number is 12\")\n",
    "else :\n",
    "    print(\"condition is false\")\n",
    "    \n",
    "\n",
    "if(x==15):\n",
    "    print(\"Number is 15\")\n",
    "else :\n",
    "    print(\"condition is false\")"
   ]
  },
  {
   "cell_type": "code",
   "execution_count": 33,
   "id": "1b45be69",
   "metadata": {},
   "outputs": [
    {
     "name": "stdout",
     "output_type": "stream",
     "text": [
      "condition is false\n"
     ]
    }
   ],
   "source": [
    "x=17\n",
    "\n",
    "if(x==12):\n",
    "    print(\"Number is 12\")\n",
    "elif(x==15):\n",
    "    print(\"Number is 15\")\n",
    "else :\n",
    "    print(\"condition is false\")"
   ]
  },
  {
   "cell_type": "code",
   "execution_count": 36,
   "id": "ced2d594",
   "metadata": {},
   "outputs": [
    {
     "name": "stdout",
     "output_type": "stream",
     "text": [
      "2 is smallest\n"
     ]
    }
   ],
   "source": [
    "# create 3 var find which is smallest\n",
    "a=2\n",
    "b=4\n",
    "c=9\n",
    "if(a<b and a<c):\n",
    "    print(f\"{a} is smallest\")\n",
    "elif(b<a and b<c):\n",
    "    print(f\"{b} is smallest\")\n",
    "else:\n",
    "     print(f\"{c} is smallest\")"
   ]
  },
  {
   "cell_type": "code",
   "execution_count": 37,
   "id": "8ca2354d",
   "metadata": {},
   "outputs": [
    {
     "name": "stdout",
     "output_type": "stream",
     "text": [
      "Enter a number:20\n",
      "<class 'str'> 20\n"
     ]
    }
   ],
   "source": [
    "# user input \n",
    "age = input(\"Enter a number:\")\n",
    "print(type(age),age) # by default python takes user input as string "
   ]
  },
  {
   "cell_type": "code",
   "execution_count": 39,
   "id": "2ec185fa",
   "metadata": {},
   "outputs": [
    {
     "name": "stdout",
     "output_type": "stream",
     "text": [
      "enter a number:2\n",
      "even\n",
      "<class 'int'> 2\n"
     ]
    }
   ],
   "source": [
    "# to check number is even or odd\n",
    "a = int(input(\"enter a number:\")) # we have typecasted the string by writing int to make the number int\n",
    "if(a%2==0):\n",
    "    print(\"even\")\n",
    "else :\n",
    "    print(\"odd\")\n",
    "print(type(a),a)"
   ]
  },
  {
   "cell_type": "code",
   "execution_count": 44,
   "id": "bb4df736",
   "metadata": {},
   "outputs": [
    {
     "name": "stdout",
     "output_type": "stream",
     "text": [
      "enter a number:18\n",
      "18 divisible by 6\n"
     ]
    }
   ],
   "source": [
    "# to take the input from user and check whether the number is divisible by 6\n",
    "a = int(input(\"enter a number:\"))\n",
    "if(a%2==0 and a%3==0):\n",
    "    print(f\"{a} divisible by 6\")\n",
    "else :\n",
    "    print(f\"{a} not divisible by 6\")\n"
   ]
  },
  {
   "cell_type": "code",
   "execution_count": 46,
   "id": "af91e466",
   "metadata": {},
   "outputs": [
    {
     "ename": "SyntaxError",
     "evalue": "invalid syntax (<ipython-input-46-bb584126cade>, line 2)",
     "output_type": "error",
     "traceback": [
      "\u001b[1;36m  File \u001b[1;32m\"<ipython-input-46-bb584126cade>\"\u001b[1;36m, line \u001b[1;32m2\u001b[0m\n\u001b[1;33m    if(a%2==0 && a%3==0):\u001b[0m\n\u001b[1;37m               ^\u001b[0m\n\u001b[1;31mSyntaxError\u001b[0m\u001b[1;31m:\u001b[0m invalid syntax\n"
     ]
    }
   ],
   "source": [
    "a = int(input(\"enter a number:\"))\n",
    "if(a%2==0 & a%3==0):\n",
    "    print(f\"{a} divisible by 6\")\n",
    "else :\n",
    "    print(f\"{a} not divisible by 6\")"
   ]
  },
  {
   "cell_type": "code",
   "execution_count": 47,
   "id": "d9ec15e1",
   "metadata": {},
   "outputs": [],
   "source": [
    "# take a int num from user and print the weekday\n",
    "# month name \n",
    "# take a num from user if the num is less than 60 then fail and num <80 avg and between 80 and 90 then good and more than 90 excellent"
   ]
  },
  {
   "cell_type": "code",
   "execution_count": null,
   "id": "39cadcd7",
   "metadata": {},
   "outputs": [],
   "source": []
  }
 ],
 "metadata": {
  "kernelspec": {
   "display_name": "Python 3",
   "language": "python",
   "name": "python3"
  },
  "language_info": {
   "codemirror_mode": {
    "name": "ipython",
    "version": 3
   },
   "file_extension": ".py",
   "mimetype": "text/x-python",
   "name": "python",
   "nbconvert_exporter": "python",
   "pygments_lexer": "ipython3",
   "version": "3.8.8"
  }
 },
 "nbformat": 4,
 "nbformat_minor": 5
}

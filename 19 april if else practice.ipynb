{
 "cells": [
  {
   "cell_type": "code",
   "execution_count": 2,
   "id": "02046048",
   "metadata": {},
   "outputs": [
    {
     "name": "stdout",
     "output_type": "stream",
     "text": [
      "Enter a character:s\n",
      "Enter a number:45\n",
      "Enter a number:12\n",
      "33\n"
     ]
    }
   ],
   "source": [
    "char=input(\"Enter a character:\")\n",
    "if(char==\"s\"):\n",
    "     a=int(input(\"Enter a number:\"))\n",
    "     b=int(input(\"Enter a number:\"))\n",
    "     print(a-b)\n",
    "else:\n",
    "    print(\"invalid input\")"
   ]
  },
  {
   "cell_type": "code",
   "execution_count": 7,
   "id": "e0f0ed22",
   "metadata": {},
   "outputs": [
    {
     "name": "stdout",
     "output_type": "stream",
     "text": [
      "Enter a character:n\n",
      "invalid input\n"
     ]
    }
   ],
   "source": [
    "char = input(\"Enter a character:\")\n",
    "if (char==\"a\"or char==\"s\" or char ==\"d\"or char ==\"f\" or char ==\"g\"or char ==\"h\"or char ==\"j\"or char ==\"k\"or char ==\"l\"):\n",
    "    print(\"middle line\")\n",
    "else:\n",
    "    print(\"invalid input\")"
   ]
  },
  {
   "cell_type": "code",
   "execution_count": 8,
   "id": "41aae3b2",
   "metadata": {},
   "outputs": [
    {
     "name": "stdout",
     "output_type": "stream",
     "text": [
      "Enter a character:h\n",
      "middle line\n"
     ]
    }
   ],
   "source": [
    "char = input(\"Enter a character:\")\n",
    "if (char==\"a\"or char==\"s\" or char ==\"d\"or char ==\"f\" or char ==\"g\"or char ==\"h\"or char ==\"j\"or char ==\"k\"or char ==\"l\"):\n",
    "    print(\"middle line\")\n",
    "else:\n",
    "    print(\"invalid input\")"
   ]
  },
  {
   "cell_type": "code",
   "execution_count": 9,
   "id": "525d2abb",
   "metadata": {},
   "outputs": [
    {
     "name": "stdout",
     "output_type": "stream",
     "text": [
      "Enter a character:b\n",
      "Lower line\n"
     ]
    }
   ],
   "source": [
    "char = input(\"Enter a character:\")\n",
    "if (char==\"z\"or char==\"x\" or char ==\"c\"or char ==\"v\" or char ==\"b\"or char ==\"n\"or char ==\"m\"):\n",
    "    print(\"Lower line\")\n",
    "else:\n",
    "    print(\"invalid input\")"
   ]
  },
  {
   "cell_type": "code",
   "execution_count": 10,
   "id": "bb91236d",
   "metadata": {},
   "outputs": [
    {
     "name": "stdout",
     "output_type": "stream",
     "text": [
      "Enter a character:w\n",
      "Upper line\n"
     ]
    }
   ],
   "source": [
    "char = input(\"Enter a character:\")\n",
    "if (char==\"q\"or char==\"w\" or char ==\"e\"or char ==\"r\" or char ==\"t\"or char ==\"y\"or char ==\"u\"or char ==\"i\"or char ==\"o\"or char ==\"p\"):\n",
    "    print(\"Upper line\")\n",
    "else:\n",
    "    print(\"invalid input\")"
   ]
  },
  {
   "cell_type": "code",
   "execution_count": 11,
   "id": "d1111faa",
   "metadata": {},
   "outputs": [
    {
     "name": "stdout",
     "output_type": "stream",
     "text": [
      "Enter a number:45\n",
      "45 is greater than 10\n"
     ]
    }
   ],
   "source": [
    "x= int(input(\"Enter a number:\"))\n",
    "if(x<10):\n",
    "    print(f\"{x} is less than 10\")\n",
    "else :\n",
    "    print(f\"{x} is greater than 10\")\n",
    "    "
   ]
  },
  {
   "cell_type": "code",
   "execution_count": 12,
   "id": "7b3d8933",
   "metadata": {},
   "outputs": [
    {
     "name": "stdout",
     "output_type": "stream",
     "text": [
      "Enter a number:52\n",
      "52 is greater than 50\n"
     ]
    }
   ],
   "source": [
    "x= int(input(\"Enter a number:\"))\n",
    "if(x>50):\n",
    "    print(f\"{x} is greater than 50\")\n",
    "else :\n",
    "    print(f\"{x} is less than 50\")"
   ]
  },
  {
   "cell_type": "code",
   "execution_count": 17,
   "id": "3ee883ee",
   "metadata": {},
   "outputs": [
    {
     "name": "stdout",
     "output_type": "stream",
     "text": [
      "Enter a number:j\n",
      "invalid input\n"
     ]
    }
   ],
   "source": [
    "char= (input(\"Enter a character:\"))\n",
    "if(char==\"b\"):\n",
    "    print(\"ball\")\n",
    "else :\n",
    "    print(\"invalid input\")"
   ]
  },
  {
   "cell_type": "code",
   "execution_count": 18,
   "id": "fd4d83ec",
   "metadata": {},
   "outputs": [
    {
     "name": "stdout",
     "output_type": "stream",
     "text": [
      "Enter a number:5\n",
      "5 is between 1 and 10\n"
     ]
    }
   ],
   "source": [
    "x= int(input(\"Enter a number:\"))\n",
    "if(x>1 and x<10):\n",
    "    print(f\"{x} is between 1 and 10\")\n",
    "else :\n",
    "    print(f\"{x} is not between 1 and 10\")\n",
    "    "
   ]
  },
  {
   "cell_type": "code",
   "execution_count": 19,
   "id": "924218e0",
   "metadata": {},
   "outputs": [
    {
     "name": "stdout",
     "output_type": "stream",
     "text": [
      "Enter a number:42\n",
      "42 is divisible by 7\n"
     ]
    }
   ],
   "source": [
    "x= int(input(\"Enter a number:\"))\n",
    "if(x%7==0):\n",
    "    print(f\"{x} is divisible by 7\")\n",
    "else :\n",
    "    print(f\"{x} is not divisible by 7\")\n",
    "    "
   ]
  },
  {
   "cell_type": "code",
   "execution_count": 20,
   "id": "fd7edcfc",
   "metadata": {},
   "outputs": [
    {
     "name": "stdout",
     "output_type": "stream",
     "text": [
      "Enter a character:w\n",
      "Enter a number:12\n",
      "Enter a number:14\n",
      "Real values of a and b are : 12 , 14\n",
      "Swapped values of a and b are : 14 , 12\n"
     ]
    }
   ],
   "source": [
    "char=input(\"Enter a character:\")\n",
    "if(char==\"w\"):\n",
    "     a=int(input(\"Enter a number:\"))\n",
    "     b=int(input(\"Enter a number:\"))\n",
    "     print(f\"Real values of a and b are : {a} , {b}\")\n",
    "     c=a\n",
    "     a=b\n",
    "     b=c\n",
    "     print(f\"Swapped values of a and b are : {a} , {b}\")\n",
    "else:\n",
    "    print(\"invalid input\")"
   ]
  },
  {
   "cell_type": "code",
   "execution_count": 21,
   "id": "1f82d727",
   "metadata": {},
   "outputs": [
    {
     "name": "stdout",
     "output_type": "stream",
     "text": [
      "Enter a number:8\n",
      "8 is not divisible by 2 and 3\n"
     ]
    }
   ],
   "source": [
    "x= int(input(\"Enter a number:\"))\n",
    "if(x%2==0 and x%3==0):\n",
    "    print(f\"{x} is divisible by  2 and 3\")\n",
    "else :\n",
    "    print(f\"{x} is not divisible by 2 and 3\")"
   ]
  },
  {
   "cell_type": "code",
   "execution_count": 23,
   "id": "512b85c3",
   "metadata": {},
   "outputs": [
    {
     "name": "stdout",
     "output_type": "stream",
     "text": [
      "Enter a number:8\n",
      "8 is divisible by 2 or 3\n"
     ]
    }
   ],
   "source": [
    "x= int(input(\"Enter a number:\"))\n",
    "if(x%2==0 or x%3==0):\n",
    "    print(f\"{x} is divisible by 2 or 3\")\n",
    "else :\n",
    "    print(f\"{x} is not divisible by 2 or 3\")"
   ]
  },
  {
   "cell_type": "code",
   "execution_count": 24,
   "id": "38e9e80e",
   "metadata": {},
   "outputs": [
    {
     "name": "stdout",
     "output_type": "stream",
     "text": [
      "Enter a number:7854\n",
      "7854 is greater than 5678\n"
     ]
    }
   ],
   "source": [
    "x= int(input(\"Enter a number:\"))\n",
    "if(x>5678):\n",
    "    print(f\"{x} is greater than 5678\")\n",
    "else :\n",
    "    print(f\"{x} is less than 5678\")\n",
    "    "
   ]
  },
  {
   "cell_type": "code",
   "execution_count": 26,
   "id": "623f3d18",
   "metadata": {},
   "outputs": [
    {
     "name": "stdout",
     "output_type": "stream",
     "text": [
      "Enter a character:c\n",
      "cat\n"
     ]
    }
   ],
   "source": [
    "char= (input(\"Enter a character:\"))\n",
    "if(char==\"c\"):\n",
    "    print(\"cat\")\n",
    "else :\n",
    "    print(\"invalid input\")"
   ]
  },
  {
   "cell_type": "code",
   "execution_count": 32,
   "id": "610c9afa",
   "metadata": {},
   "outputs": [
    {
     "name": "stdout",
     "output_type": "stream",
     "text": [
      "enter a number:5\n",
      "5\n",
      "<class 'str'>\n"
     ]
    }
   ],
   "source": [
    "x=input(\"enter a number:\")\n",
    "print(x)\n",
    "print(type(x))"
   ]
  },
  {
   "cell_type": "code",
   "execution_count": 29,
   "id": "aa22528b",
   "metadata": {},
   "outputs": [
    {
     "name": "stdout",
     "output_type": "stream",
     "text": [
      "number is 5\n"
     ]
    }
   ],
   "source": [
    "print(f\"number is {x}\")"
   ]
  },
  {
   "cell_type": "code",
   "execution_count": 33,
   "id": "f02d67fe",
   "metadata": {},
   "outputs": [
    {
     "name": "stdout",
     "output_type": "stream",
     "text": [
      "enter a number:5\n",
      "5.0\n",
      "<class 'float'>\n"
     ]
    }
   ],
   "source": [
    "x=float(input(\"enter a number:\"))\n",
    "print(x)\n",
    "print(type(x))"
   ]
  },
  {
   "cell_type": "code",
   "execution_count": 35,
   "id": "786c06ae",
   "metadata": {},
   "outputs": [
    {
     "name": "stdout",
     "output_type": "stream",
     "text": [
      "enter a character:s\n",
      "Enter value of a12\n",
      "Enter value of b78\n",
      "Real values of a and b are : 12 , 78\n",
      "Swapped values of a and b are : 78 , 12\n"
     ]
    }
   ],
   "source": [
    "char=input(\"enter a character:\")\n",
    "if(char==\"s\"):\n",
    "    a=int(input(\"Enter value of a\"))\n",
    "    b=int(input(\"Enter value of b\"))\n",
    "    print(f\"Real values of a and b are : {a} , {b}\")\n",
    "    a=a+b\n",
    "    b=a-b\n",
    "    a=a-b\n",
    "    print(f\"Swapped values of a and b are : {a} , {b}\")\n",
    "else:\n",
    "    print(\"invalid input\")"
   ]
  },
  {
   "cell_type": "code",
   "execution_count": 37,
   "id": "e5332734",
   "metadata": {},
   "outputs": [
    {
     "name": "stdout",
     "output_type": "stream",
     "text": [
      "enter a character:a\n",
      "Enter value of a: 90\n",
      "Enter value of b: 6\n",
      "Addition of a and b is : 96\n"
     ]
    }
   ],
   "source": [
    "char=input(\"enter a character:\")\n",
    "if(char==\"a\"):\n",
    "    a=int(input(\"Enter value of a: \"))\n",
    "    b=int(input(\"Enter value of b: \"))\n",
    "    c=a+b\n",
    "    print(f\"Addition of a and b is : {c}\")\n",
    "else:\n",
    "    print(\"invalid input\")"
   ]
  },
  {
   "cell_type": "code",
   "execution_count": 38,
   "id": "4865179e",
   "metadata": {},
   "outputs": [
    {
     "name": "stdout",
     "output_type": "stream",
     "text": [
      "enter a character:m\n",
      "Enter value of a: 5\n",
      "Enter value of b: 7\n",
      "Multiplication of a and b is : 35\n"
     ]
    }
   ],
   "source": [
    "char=input(\"enter a character:\")\n",
    "if(char==\"m\"):\n",
    "    a=int(input(\"Enter value of a: \"))\n",
    "    b=int(input(\"Enter value of b: \"))\n",
    "    c=a*b\n",
    "    print(f\"Multiplication of a and b is : {c}\")\n",
    "else:\n",
    "    print(\"invalid input\")"
   ]
  },
  {
   "cell_type": "code",
   "execution_count": 39,
   "id": "78497c95",
   "metadata": {},
   "outputs": [
    {
     "name": "stdout",
     "output_type": "stream",
     "text": [
      "enter a character:d\n",
      "Enter value of a: 40\n",
      "Enter value of b: 4\n",
      "Division of a and b is : 10.0\n"
     ]
    }
   ],
   "source": [
    "char=input(\"enter a character:\")\n",
    "if(char==\"d\"):\n",
    "    a=int(input(\"Enter value of a: \"))\n",
    "    b=int(input(\"Enter value of b: \"))\n",
    "    c=a/b\n",
    "    print(f\"Division of a and b is : {c}\")\n",
    "else:\n",
    "    print(\"invalid input\")"
   ]
  },
  {
   "cell_type": "code",
   "execution_count": 40,
   "id": "2d5a45f6",
   "metadata": {},
   "outputs": [
    {
     "name": "stdout",
     "output_type": "stream",
     "text": [
      "enter a character:d\n",
      "Enter value of a: 40\n",
      "Enter value of b: 4\n",
      "Division of a and b is : 10\n"
     ]
    }
   ],
   "source": [
    "char=input(\"enter a character:\")\n",
    "if(char==\"d\"):\n",
    "    a=int(input(\"Enter value of a: \"))\n",
    "    b=int(input(\"Enter value of b: \"))\n",
    "    c=a//b                               # floor division\n",
    "    print(f\"Division of a and b is : {c}\")\n",
    "else:\n",
    "    print(\"invalid input\")"
   ]
  },
  {
   "cell_type": "code",
   "execution_count": 41,
   "id": "32799089",
   "metadata": {},
   "outputs": [
    {
     "name": "stdout",
     "output_type": "stream",
     "text": [
      "Enter a alphabet:w\n",
      "consonant\n"
     ]
    }
   ],
   "source": [
    "char = input(\"Enter a alphabet:\")\n",
    "if(char=='a' or char=='e' or char=='i' or char=='o' or char=='u'):\n",
    "    print(\"vowel\")\n",
    "else:\n",
    "    print(\"consonant\")"
   ]
  },
  {
   "cell_type": "code",
   "execution_count": 42,
   "id": "e86329a5",
   "metadata": {},
   "outputs": [
    {
     "name": "stdout",
     "output_type": "stream",
     "text": [
      "Enter a alphabet:e\n",
      "peak\n"
     ]
    }
   ],
   "source": [
    "char = input(\"Enter a alphabet:\")\n",
    "if(char=='p' or char=='e' or char=='a' or char=='k'):\n",
    "    print(\"peak\")\n",
    "else:\n",
    "    print(\"invalid input\")"
   ]
  },
  {
   "cell_type": "code",
   "execution_count": 45,
   "id": "1980d581",
   "metadata": {},
   "outputs": [
    {
     "name": "stdout",
     "output_type": "stream",
     "text": [
      "Enter a number:78\n",
      "78 is not divisible by 5\n"
     ]
    }
   ],
   "source": [
    "x = int(input(\"Enter a number:\"))\n",
    "if(x%5==0):\n",
    "    print(f\"{x} is divisible by 5\")\n",
    "else:\n",
    "    print(f\"{x} is not divisible by 5\")"
   ]
  },
  {
   "cell_type": "code",
   "execution_count": 46,
   "id": "5fe76f46",
   "metadata": {},
   "outputs": [
    {
     "name": "stdout",
     "output_type": "stream",
     "text": [
      "Enter a number:45\n",
      "45 is odd\n"
     ]
    }
   ],
   "source": [
    "x = int(input(\"Enter a number:\"))\n",
    "if(x%2==0):\n",
    "    print(f\"{x} is even\")\n",
    "else:\n",
    "    print(f\"{x} is odd\")"
   ]
  },
  {
   "cell_type": "code",
   "execution_count": 47,
   "id": "58ad13be",
   "metadata": {},
   "outputs": [
    {
     "name": "stdout",
     "output_type": "stream",
     "text": [
      "Enter a number:78\n",
      "78 is between 50 and 100\n"
     ]
    }
   ],
   "source": [
    "x = int(input(\"Enter a number:\"))\n",
    "if(x>50 and x<=100):\n",
    "    print(f\"{x} is between 50 and 100\")\n",
    "else:\n",
    "    print(f\"{x} is not between 50 and 100\")"
   ]
  },
  {
   "cell_type": "code",
   "execution_count": 5,
   "id": "80f0162e",
   "metadata": {},
   "outputs": [
    {
     "name": "stdout",
     "output_type": "stream",
     "text": [
      "5\n"
     ]
    }
   ],
   "source": [
    "import random\n",
    "x=random.randint(4,10)\n",
    "print(x)\n"
   ]
  },
  {
   "cell_type": "code",
   "execution_count": 6,
   "id": "e99f8fab",
   "metadata": {},
   "outputs": [
    {
     "name": "stdout",
     "output_type": "stream",
     "text": [
      "6\n"
     ]
    }
   ],
   "source": [
    "import random\n",
    "x=random.randint(4,10)\n",
    "print(x)\n"
   ]
  },
  {
   "cell_type": "code",
   "execution_count": 7,
   "id": "34a3da70",
   "metadata": {},
   "outputs": [
    {
     "name": "stdout",
     "output_type": "stream",
     "text": [
      "9\n"
     ]
    }
   ],
   "source": [
    "import random\n",
    "x=random.randint(4,10)\n",
    "print(x)\n"
   ]
  },
  {
   "cell_type": "code",
   "execution_count": 8,
   "id": "115c68b7",
   "metadata": {},
   "outputs": [
    {
     "name": "stdout",
     "output_type": "stream",
     "text": [
      "8\n"
     ]
    }
   ],
   "source": [
    "import random\n",
    "x=random.randint(4,10)\n",
    "print(x)\n"
   ]
  },
  {
   "cell_type": "code",
   "execution_count": 9,
   "id": "4a477b94",
   "metadata": {},
   "outputs": [
    {
     "name": "stdout",
     "output_type": "stream",
     "text": [
      "47\n"
     ]
    }
   ],
   "source": [
    "import random\n",
    "x=random.randint(4,50)\n",
    "print(x)\n"
   ]
  },
  {
   "cell_type": "code",
   "execution_count": 12,
   "id": "1005e347",
   "metadata": {},
   "outputs": [
    {
     "ename": "AttributeError",
     "evalue": "module 'random' has no attribute 'float'",
     "output_type": "error",
     "traceback": [
      "\u001b[1;31m---------------------------------------------------------------------------\u001b[0m",
      "\u001b[1;31mAttributeError\u001b[0m                            Traceback (most recent call last)",
      "\u001b[1;32m<ipython-input-12-e9b0a89ccbe7>\u001b[0m in \u001b[0;36m<module>\u001b[1;34m\u001b[0m\n\u001b[0;32m      1\u001b[0m \u001b[1;32mimport\u001b[0m \u001b[0mrandom\u001b[0m\u001b[1;33m\u001b[0m\u001b[1;33m\u001b[0m\u001b[0m\n\u001b[1;32m----> 2\u001b[1;33m \u001b[0mx\u001b[0m\u001b[1;33m=\u001b[0m\u001b[0mrandom\u001b[0m\u001b[1;33m.\u001b[0m\u001b[0mfloat\u001b[0m\u001b[1;33m(\u001b[0m\u001b[1;36m4.10\u001b[0m\u001b[1;33m,\u001b[0m\u001b[1;36m5.00\u001b[0m\u001b[1;33m)\u001b[0m\u001b[1;33m\u001b[0m\u001b[1;33m\u001b[0m\u001b[0m\n\u001b[0m\u001b[0;32m      3\u001b[0m \u001b[0mprint\u001b[0m\u001b[1;33m(\u001b[0m\u001b[0mx\u001b[0m\u001b[1;33m)\u001b[0m\u001b[1;33m\u001b[0m\u001b[1;33m\u001b[0m\u001b[0m\n",
      "\u001b[1;31mAttributeError\u001b[0m: module 'random' has no attribute 'float'"
     ]
    }
   ],
   "source": [
    "import random\n",
    "x=random.float(4.10,5.00)\n",
    "print(x)\n"
   ]
  },
  {
   "cell_type": "code",
   "execution_count": 13,
   "id": "8b9159a1",
   "metadata": {},
   "outputs": [
    {
     "name": "stdout",
     "output_type": "stream",
     "text": [
      "4.743329672917437\n"
     ]
    }
   ],
   "source": [
    "import random\n",
    "x=random.uniform(4.10,5.00)\n",
    "print(x)"
   ]
  },
  {
   "cell_type": "code",
   "execution_count": null,
   "id": "dcb035a1",
   "metadata": {},
   "outputs": [],
   "source": []
  }
 ],
 "metadata": {
  "kernelspec": {
   "display_name": "Python 3",
   "language": "python",
   "name": "python3"
  },
  "language_info": {
   "codemirror_mode": {
    "name": "ipython",
    "version": 3
   },
   "file_extension": ".py",
   "mimetype": "text/x-python",
   "name": "python",
   "nbconvert_exporter": "python",
   "pygments_lexer": "ipython3",
   "version": "3.8.8"
  }
 },
 "nbformat": 4,
 "nbformat_minor": 5
}

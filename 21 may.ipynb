{
 "cells": [
  {
   "cell_type": "code",
   "execution_count": 3,
   "id": "25aa2e0d",
   "metadata": {},
   "outputs": [],
   "source": [
    "# how can we check shape and size of an array?\n",
    "import numpy as np\n",
    "a=np.array([1,34,89,9900])\n"
   ]
  },
  {
   "cell_type": "code",
   "execution_count": 4,
   "id": "c7deaf24",
   "metadata": {},
   "outputs": [
    {
     "data": {
      "text/plain": [
       "array([   1,   34,   89, 9900])"
      ]
     },
     "execution_count": 4,
     "metadata": {},
     "output_type": "execute_result"
    }
   ],
   "source": [
    "a"
   ]
  },
  {
   "cell_type": "code",
   "execution_count": 5,
   "id": "67a2e10a",
   "metadata": {},
   "outputs": [
    {
     "name": "stdout",
     "output_type": "stream",
     "text": [
      "total shape= (4,)\n",
      "total elements= 4\n"
     ]
    }
   ],
   "source": [
    "print(\"total shape=\",a.shape)\n",
    "print(\"total elements=\",a.size)"
   ]
  },
  {
   "cell_type": "code",
   "execution_count": 6,
   "id": "432a2f39",
   "metadata": {},
   "outputs": [
    {
     "data": {
      "text/plain": [
       "array([[1, 2, 3],\n",
       "       [4, 5, 6],\n",
       "       [7, 8, 9]])"
      ]
     },
     "execution_count": 6,
     "metadata": {},
     "output_type": "execute_result"
    }
   ],
   "source": [
    "a=[[1,2,3],[4,5,6],[7,8,9]]\n",
    "b=np.array(a)\n",
    "b"
   ]
  },
  {
   "cell_type": "code",
   "execution_count": 8,
   "id": "0ff8d2dc",
   "metadata": {},
   "outputs": [
    {
     "name": "stdout",
     "output_type": "stream",
     "text": [
      "total shape= (3, 3)\n",
      "total elements= 9\n"
     ]
    }
   ],
   "source": [
    "print(\"total shape=\",b.shape)\n",
    "print(\"total elements=\",b.size)"
   ]
  },
  {
   "cell_type": "code",
   "execution_count": 12,
   "id": "5e89ff5a",
   "metadata": {},
   "outputs": [],
   "source": [
    "# images===> pixels(0-255) ==> 0pzx black , 255 white ==> normalize(0-1)px\n",
    "# initially weights==>0,1\n",
    "# optimization == 0,1\n",
    "# matrix ==> n(rows) , n(columns)\n",
    "# symmetric ==> n(rows) = n(columns)\n",
    "# asymmetric ==> n(rows) != n(colums)"
   ]
  },
  {
   "cell_type": "code",
   "execution_count": 9,
   "id": "707c2744",
   "metadata": {},
   "outputs": [],
   "source": [
    "# predefined functions \n",
    "# .zeros ---> create an array in which all the elemets are 0\n"
   ]
  },
  {
   "cell_type": "code",
   "execution_count": 10,
   "id": "aab73a68",
   "metadata": {},
   "outputs": [
    {
     "data": {
      "text/plain": [
       "array([0., 0., 0., 0.])"
      ]
     },
     "execution_count": 10,
     "metadata": {},
     "output_type": "execute_result"
    }
   ],
   "source": [
    "a=np.zeros(4)\n",
    "a"
   ]
  },
  {
   "cell_type": "code",
   "execution_count": 15,
   "id": "642af8ee",
   "metadata": {},
   "outputs": [
    {
     "data": {
      "text/plain": [
       "array([[0., 0., 0.],\n",
       "       [0., 0., 0.]])"
      ]
     },
     "execution_count": 15,
     "metadata": {},
     "output_type": "execute_result"
    }
   ],
   "source": [
    "b=np.zeros([2,3])\n",
    "b"
   ]
  },
  {
   "cell_type": "code",
   "execution_count": 16,
   "id": "8de601c6",
   "metadata": {},
   "outputs": [],
   "source": [
    "# ones()  ==> create an array in which each element is 1."
   ]
  },
  {
   "cell_type": "code",
   "execution_count": 17,
   "id": "a769f4aa",
   "metadata": {},
   "outputs": [
    {
     "data": {
      "text/plain": [
       "array([1., 1., 1., 1.])"
      ]
     },
     "execution_count": 17,
     "metadata": {},
     "output_type": "execute_result"
    }
   ],
   "source": [
    "a=np.ones(4)\n",
    "a"
   ]
  },
  {
   "cell_type": "code",
   "execution_count": 18,
   "id": "9279f414",
   "metadata": {},
   "outputs": [
    {
     "data": {
      "text/plain": [
       "array([[1., 1., 1.],\n",
       "       [1., 1., 1.]])"
      ]
     },
     "execution_count": 18,
     "metadata": {},
     "output_type": "execute_result"
    }
   ],
   "source": [
    "a=np.ones((2,3))\n",
    "a"
   ]
  },
  {
   "cell_type": "code",
   "execution_count": 19,
   "id": "d84c6042",
   "metadata": {},
   "outputs": [
    {
     "data": {
      "text/plain": [
       "numpy.ndarray"
      ]
     },
     "execution_count": 19,
     "metadata": {},
     "output_type": "execute_result"
    }
   ],
   "source": [
    "type(a)"
   ]
  },
  {
   "cell_type": "code",
   "execution_count": 20,
   "id": "89445c95",
   "metadata": {},
   "outputs": [
    {
     "name": "stdout",
     "output_type": "stream",
     "text": [
      "(2, 3) 6\n"
     ]
    }
   ],
   "source": [
    "print(a.shape,a.size)"
   ]
  },
  {
   "cell_type": "code",
   "execution_count": 21,
   "id": "97bc0fbd",
   "metadata": {},
   "outputs": [],
   "source": [
    "# .eye() ==> diagonal positional elements are 1and rest are 0"
   ]
  },
  {
   "cell_type": "code",
   "execution_count": 22,
   "id": "c50265dc",
   "metadata": {},
   "outputs": [],
   "source": [
    "a=np.eye(4)"
   ]
  },
  {
   "cell_type": "code",
   "execution_count": 23,
   "id": "c8249630",
   "metadata": {},
   "outputs": [
    {
     "data": {
      "text/plain": [
       "array([[1., 0., 0., 0.],\n",
       "       [0., 1., 0., 0.],\n",
       "       [0., 0., 1., 0.],\n",
       "       [0., 0., 0., 1.]])"
      ]
     },
     "execution_count": 23,
     "metadata": {},
     "output_type": "execute_result"
    }
   ],
   "source": [
    "a # symmetric"
   ]
  },
  {
   "cell_type": "code",
   "execution_count": 27,
   "id": "19da451f",
   "metadata": {},
   "outputs": [],
   "source": [
    "a=np.eye(2,3)"
   ]
  },
  {
   "cell_type": "code",
   "execution_count": 28,
   "id": "09fbb2d0",
   "metadata": {},
   "outputs": [
    {
     "data": {
      "text/plain": [
       "array([[1., 0., 0.],\n",
       "       [0., 1., 0.]])"
      ]
     },
     "execution_count": 28,
     "metadata": {},
     "output_type": "execute_result"
    }
   ],
   "source": [
    "a # asymmetric"
   ]
  },
  {
   "cell_type": "code",
   "execution_count": null,
   "id": "24bf48fd",
   "metadata": {},
   "outputs": [],
   "source": []
  }
 ],
 "metadata": {
  "kernelspec": {
   "display_name": "Python 3",
   "language": "python",
   "name": "python3"
  },
  "language_info": {
   "codemirror_mode": {
    "name": "ipython",
    "version": 3
   },
   "file_extension": ".py",
   "mimetype": "text/x-python",
   "name": "python",
   "nbconvert_exporter": "python",
   "pygments_lexer": "ipython3",
   "version": "3.8.8"
  }
 },
 "nbformat": 4,
 "nbformat_minor": 5
}

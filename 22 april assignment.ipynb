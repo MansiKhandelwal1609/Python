{
 "cells": [
  {
   "cell_type": "code",
   "execution_count": 1,
   "id": "66842a5b",
   "metadata": {},
   "outputs": [
    {
     "name": "stdout",
     "output_type": "stream",
     "text": [
      "210\n"
     ]
    }
   ],
   "source": [
    "# run a for loop and find sum of 1st 20 natural numbers\n",
    "s=0\n",
    "for i in range (1,21):\n",
    "    s=s+i\n",
    "print(s)\n"
   ]
  },
  {
   "cell_type": "code",
   "execution_count": 2,
   "id": "bb6bd7bd",
   "metadata": {},
   "outputs": [
    {
     "name": "stdout",
     "output_type": "stream",
     "text": [
      "980\n",
      "981\n",
      "982\n",
      "983\n",
      "984\n",
      "985\n",
      "986\n",
      "987\n",
      "988\n",
      "989\n",
      "990\n",
      "991\n",
      "992\n",
      "993\n",
      "994\n",
      "995\n",
      "996\n",
      "997\n",
      "998\n",
      "999\n",
      "19790\n"
     ]
    }
   ],
   "source": [
    "# run a for loop and find sum of last 20 3 digit natural numbers\n",
    "s=0\n",
    "for i in range (980,1000):\n",
    "    s=s+i\n",
    "    print(i)\n",
    "print(s)\n"
   ]
  },
  {
   "cell_type": "code",
   "execution_count": 3,
   "id": "1885a575",
   "metadata": {},
   "outputs": [
    {
     "name": "stdout",
     "output_type": "stream",
     "text": [
      "999\n",
      "998\n",
      "997\n",
      "996\n",
      "995\n",
      "994\n",
      "993\n",
      "992\n",
      "991\n",
      "990\n",
      "989\n",
      "988\n",
      "987\n",
      "986\n",
      "985\n",
      "984\n",
      "983\n",
      "982\n",
      "981\n",
      "980\n",
      "19790\n"
     ]
    }
   ],
   "source": [
    "# run a for loop and find sum of last 20 3 digit natural numbers\n",
    "s=0\n",
    "for i in range (999,979,-1):\n",
    "    s=s+i\n",
    "    print(i)\n",
    "print(s)\n"
   ]
  },
  {
   "cell_type": "code",
   "execution_count": 4,
   "id": "516eabeb",
   "metadata": {},
   "outputs": [
    {
     "name": "stdout",
     "output_type": "stream",
     "text": [
      "Product = 2432902008176640000 , Average = 10.5\n"
     ]
    }
   ],
   "source": [
    "# run a for loop and find product and average of any 20 natural numbers\n",
    "p=1\n",
    "s=0\n",
    "c=0\n",
    "\n",
    "for i in range (1,21):\n",
    "    p=p*i\n",
    "    s=s+i\n",
    "    c=c+1\n",
    "    avg= s/c\n",
    "print(f\"Product = {p} , Average = {avg}\")"
   ]
  },
  {
   "cell_type": "code",
   "execution_count": 5,
   "id": "3adc6b0a",
   "metadata": {},
   "outputs": [
    {
     "name": "stdout",
     "output_type": "stream",
     "text": [
      "Enter a number to print the table: 4\n",
      "4\n",
      "8\n",
      "12\n",
      "16\n",
      "20\n",
      "24\n",
      "28\n",
      "32\n",
      "36\n",
      "40\n"
     ]
    }
   ],
   "source": [
    "# print multiplication table of a number given by a user \n",
    "num=int(input(\"Enter a number to print the table: \"))\n",
    "tab=1\n",
    "for i in range(1,11):\n",
    "    tab=num*i\n",
    "    print(tab)"
   ]
  },
  {
   "cell_type": "code",
   "execution_count": 6,
   "id": "be0332ec",
   "metadata": {},
   "outputs": [
    {
     "name": "stdout",
     "output_type": "stream",
     "text": [
      "126\n"
     ]
    }
   ],
   "source": [
    "# find out the sum of power of starting 6 number \n",
    "  # 2**6\n",
    "    # 2**1 + 2**2 + 2**3........+2**6\n",
    "    \n",
    "sum=0\n",
    "for i in range (1,7):\n",
    "    sum=sum+2**i\n",
    "print(sum)"
   ]
  },
  {
   "cell_type": "code",
   "execution_count": 7,
   "id": "7b64b542",
   "metadata": {},
   "outputs": [
    {
     "name": "stdout",
     "output_type": "stream",
     "text": [
      "Enter a number:3\n",
      "1092\n"
     ]
    }
   ],
   "source": [
    "num=int(input(\"Enter a number:\"))\n",
    "sum=0\n",
    "for i in range (1,7):\n",
    "    sum=sum+num**i\n",
    "print(sum)"
   ]
  },
  {
   "cell_type": "code",
   "execution_count": 8,
   "id": "134b55b1",
   "metadata": {},
   "outputs": [
    {
     "name": "stdout",
     "output_type": "stream",
     "text": [
      "Enter a string: Rajasthan\n",
      "total number of consonants in the string = 6\n"
     ]
    }
   ],
   "source": [
    "# take a string from the user and find out the total number of consonant which are there in the string \n",
    "str=input(\"Enter a string: \")\n",
    "count=0\n",
    "for x in str:\n",
    "    if(x!='a' and x!='e' and x!='o' and x!='i' and x!='u'):\n",
    "        count=count+1\n",
    "print(f\"total number of consonants in the string = {count}\")"
   ]
  },
  {
   "cell_type": "code",
   "execution_count": 9,
   "id": "17ee6f33",
   "metadata": {},
   "outputs": [
    {
     "name": "stdout",
     "output_type": "stream",
     "text": [
      "Enter a number: 8\n",
      "1\n",
      "3\n",
      "5\n",
      "7\n",
      "Product = 105 , Sum = 16 , Average = 4.0\n"
     ]
    }
   ],
   "source": [
    "# take a int number from the user and find out the total sum  , average and product\n",
    "  # 1 to number sum avg and product for odd numbers\n",
    "num=int(input(\"Enter a number: \"))\n",
    "product =1\n",
    "sum=0\n",
    "count=0\n",
    "for i in range(1,num+1):\n",
    "    if(i%2!=0):\n",
    "        print(i)\n",
    "        product=product*i\n",
    "        sum=sum+i\n",
    "        count=count+1\n",
    "        avg=sum/count\n",
    "print(f\"Product = {product} , Sum = {sum} , Average = {avg}\")"
   ]
  },
  {
   "cell_type": "code",
   "execution_count": null,
   "id": "00ec086e",
   "metadata": {},
   "outputs": [],
   "source": []
  }
 ],
 "metadata": {
  "kernelspec": {
   "display_name": "Python 3",
   "language": "python",
   "name": "python3"
  },
  "language_info": {
   "codemirror_mode": {
    "name": "ipython",
    "version": 3
   },
   "file_extension": ".py",
   "mimetype": "text/x-python",
   "name": "python",
   "nbconvert_exporter": "python",
   "pygments_lexer": "ipython3",
   "version": "3.8.8"
  }
 },
 "nbformat": 4,
 "nbformat_minor": 5
}

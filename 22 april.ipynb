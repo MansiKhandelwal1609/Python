{
 "cells": [
  {
   "cell_type": "code",
   "execution_count": 1,
   "id": "01e5a648",
   "metadata": {},
   "outputs": [],
   "source": [
    "#nested if else\n",
    "age =18\n",
    "city=\"jaipur\"\n",
    "# if age >=18  => age is eligible\n",
    "#eligible for vote"
   ]
  },
  {
   "cell_type": "code",
   "execution_count": 2,
   "id": "7c09fb86",
   "metadata": {},
   "outputs": [
    {
     "name": "stdout",
     "output_type": "stream",
     "text": [
      "Age is eligible\n",
      "Eligible for voting\n"
     ]
    }
   ],
   "source": [
    "age=18\n",
    "city=\"Jaipur\"\n",
    "if(age>=18):\n",
    "    print(\"Age is eligible\")\n",
    "    if(city==\"Jaipur\"):\n",
    "        print(\"Eligible for voting\")\n",
    "    else:\n",
    "        print(\"Not eligible for voting\")\n",
    "else:\n",
    "    print(\"Age is less than 18\")"
   ]
  },
  {
   "cell_type": "code",
   "execution_count": 3,
   "id": "d3f8ac1f",
   "metadata": {},
   "outputs": [
    {
     "name": "stdout",
     "output_type": "stream",
     "text": [
      "Age is eligible\n",
      "Not eligible for voting\n"
     ]
    }
   ],
   "source": [
    "age=18\n",
    "city=\"jaipur\"\n",
    "if(age>=18):\n",
    "    print(\"Age is eligible\")\n",
    "    if(city==\"Jaipur\"):\n",
    "        print(\"Eligible for voting\")\n",
    "    else:\n",
    "        print(\"Not eligible for voting\")\n",
    "else:\n",
    "    print(\"Age is less than 18\")"
   ]
  },
  {
   "cell_type": "code",
   "execution_count": 5,
   "id": "e5fcc106",
   "metadata": {},
   "outputs": [
    {
     "name": "stdout",
     "output_type": "stream",
     "text": [
      "0\n",
      "1\n",
      "2\n",
      "3\n",
      "4\n"
     ]
    }
   ],
   "source": [
    "# looping statement\n",
    "# for loop used when we know no of iterations \n",
    "# using range \n",
    "#range(start,end,step size(default=1))\n",
    "#end is exclusive\n",
    "for i in range (0,5):\n",
    "    print(i)"
   ]
  },
  {
   "cell_type": "code",
   "execution_count": 6,
   "id": "20933a72",
   "metadata": {},
   "outputs": [
    {
     "name": "stdout",
     "output_type": "stream",
     "text": [
      "0\n",
      "2\n",
      "4\n"
     ]
    }
   ],
   "source": [
    "for i in range (0,5,2):\n",
    "    print(i)"
   ]
  },
  {
   "cell_type": "code",
   "execution_count": 7,
   "id": "72733764",
   "metadata": {},
   "outputs": [
    {
     "name": "stdout",
     "output_type": "stream",
     "text": [
      "5\n",
      "4\n",
      "3\n",
      "2\n",
      "1\n"
     ]
    }
   ],
   "source": [
    "for i in range (5,0,-1):\n",
    "    print(i)"
   ]
  },
  {
   "cell_type": "code",
   "execution_count": 8,
   "id": "c58e5452",
   "metadata": {},
   "outputs": [
    {
     "name": "stdout",
     "output_type": "stream",
     "text": [
      "5\n",
      "4\n",
      "3\n",
      "2\n",
      "1\n",
      "0\n"
     ]
    }
   ],
   "source": [
    "for i in range (5,0-1,-1):\n",
    "    print(i)"
   ]
  },
  {
   "cell_type": "code",
   "execution_count": 10,
   "id": "8cd9f861",
   "metadata": {},
   "outputs": [
    {
     "name": "stdout",
     "output_type": "stream",
     "text": [
      "3\n",
      "6\n",
      "9\n",
      "12\n",
      "15\n",
      "18\n",
      "21\n",
      "24\n",
      "27\n",
      "30\n",
      "33\n",
      "36\n",
      "39\n"
     ]
    }
   ],
   "source": [
    "for count in range(1,41):\n",
    "    if(count%3==0):\n",
    "        print(count)"
   ]
  },
  {
   "cell_type": "code",
   "execution_count": 11,
   "id": "b4a71e36",
   "metadata": {},
   "outputs": [
    {
     "name": "stdout",
     "output_type": "stream",
     "text": [
      "90\n",
      "75\n",
      "60\n",
      "45\n",
      "30\n",
      "15\n",
      "0\n"
     ]
    }
   ],
   "source": [
    "for num in range(100,0-1,-1):\n",
    "    if(num%5==0 and num%15==0):\n",
    "        print(num)"
   ]
  },
  {
   "cell_type": "code",
   "execution_count": 13,
   "id": "a463ca57",
   "metadata": {},
   "outputs": [
    {
     "name": "stdout",
     "output_type": "stream",
     "text": [
      "55\n"
     ]
    }
   ],
   "source": [
    "s=0\n",
    "for num in range(1,11):\n",
    "    s=s+num\n",
    "print(s)"
   ]
  },
  {
   "cell_type": "code",
   "execution_count": 14,
   "id": "18dd523e",
   "metadata": {},
   "outputs": [
    {
     "name": "stdout",
     "output_type": "stream",
     "text": [
      "0\n"
     ]
    }
   ],
   "source": [
    "sum=0\n",
    "print(sum)"
   ]
  },
  {
   "cell_type": "code",
   "execution_count": 15,
   "id": "15c1f383",
   "metadata": {},
   "outputs": [
    {
     "name": "stdout",
     "output_type": "stream",
     "text": [
      "240\n"
     ]
    }
   ],
   "source": [
    "s=0\n",
    "for num in range(1,31):\n",
    "    if(num%2==0):\n",
    "        s=s+num\n",
    "print(s)"
   ]
  },
  {
   "cell_type": "code",
   "execution_count": 16,
   "id": "959ca59f",
   "metadata": {},
   "outputs": [
    {
     "name": "stdout",
     "output_type": "stream",
     "text": [
      "40320\n"
     ]
    }
   ],
   "source": [
    "#product of all the number from 8 to 1\n",
    "fact=1\n",
    "for num in range(8,0,-1):\n",
    "    fact=fact*num\n",
    "print(fact)"
   ]
  },
  {
   "cell_type": "code",
   "execution_count": 17,
   "id": "861b1b07",
   "metadata": {},
   "outputs": [
    {
     "name": "stdout",
     "output_type": "stream",
     "text": [
      "J\n",
      "a\n",
      "i\n",
      "p\n",
      "u\n",
      "r\n"
     ]
    }
   ],
   "source": [
    "#for loop on string\n",
    "# \n",
    "data=\"Jaipur\"\n",
    "for x in data:\n",
    "    print(x)"
   ]
  },
  {
   "cell_type": "code",
   "execution_count": 18,
   "id": "dfa0b517",
   "metadata": {},
   "outputs": [
    {
     "name": "stdout",
     "output_type": "stream",
     "text": [
      "H\n",
      "e\n",
      "y\n"
     ]
    }
   ],
   "source": [
    "data=\"Hey\"\n",
    "for x in data:\n",
    "    print(x)"
   ]
  },
  {
   "cell_type": "code",
   "execution_count": 19,
   "id": "2aae6b2d",
   "metadata": {},
   "outputs": [
    {
     "data": {
      "text/plain": [
       "6"
      ]
     },
     "execution_count": 19,
     "metadata": {},
     "output_type": "execute_result"
    }
   ],
   "source": [
    "# using index position \n",
    "len(\"Jaipur\")"
   ]
  },
  {
   "cell_type": "code",
   "execution_count": 20,
   "id": "449fab19",
   "metadata": {},
   "outputs": [
    {
     "data": {
      "text/plain": [
       "6"
      ]
     },
     "execution_count": 20,
     "metadata": {},
     "output_type": "execute_result"
    }
   ],
   "source": [
    "city=\"jaipur\"\n",
    "len(city)"
   ]
  },
  {
   "cell_type": "code",
   "execution_count": 21,
   "id": "38be62f2",
   "metadata": {},
   "outputs": [
    {
     "name": "stdout",
     "output_type": "stream",
     "text": [
      "0\n",
      "1\n",
      "2\n",
      "3\n",
      "4\n",
      "5\n"
     ]
    }
   ],
   "source": [
    "for index in range(0,6):\n",
    "    print(index)"
   ]
  },
  {
   "cell_type": "code",
   "execution_count": 23,
   "id": "b4f7be9a",
   "metadata": {},
   "outputs": [
    {
     "name": "stdout",
     "output_type": "stream",
     "text": [
      "0\n",
      "1\n",
      "2\n",
      "3\n",
      "4\n",
      "5\n"
     ]
    }
   ],
   "source": [
    "city=\"jaipur\"\n",
    "for index in range(0,len(city)):\n",
    "    print(index)"
   ]
  },
  {
   "cell_type": "code",
   "execution_count": 24,
   "id": "627a346a",
   "metadata": {},
   "outputs": [
    {
     "name": "stdout",
     "output_type": "stream",
     "text": [
      "0 j\n",
      "1 j\n",
      "2 j\n",
      "3 j\n",
      "4 j\n",
      "5 j\n"
     ]
    }
   ],
   "source": [
    "city=\"jaipur\"\n",
    "for index in range(0,len(city)):\n",
    "    print(index,city[0])"
   ]
  },
  {
   "cell_type": "code",
   "execution_count": 25,
   "id": "8d4ad7a8",
   "metadata": {},
   "outputs": [
    {
     "name": "stdout",
     "output_type": "stream",
     "text": [
      "0 j\n",
      "1 a\n",
      "2 i\n",
      "3 p\n",
      "4 u\n",
      "5 r\n"
     ]
    }
   ],
   "source": [
    "city=\"jaipur\"\n",
    "for index in range(0,len(city)):\n",
    "    print(index,city[index])"
   ]
  },
  {
   "cell_type": "code",
   "execution_count": 37,
   "id": "e7d1137f",
   "metadata": {},
   "outputs": [
    {
     "name": "stdout",
     "output_type": "stream",
     "text": [
      "Number of characters in city is 8\n",
      "Total number of a in the string is 3\n"
     ]
    }
   ],
   "source": [
    "# from this string data find total no of characters \n",
    "# find total numbers of a in string data\n",
    "city=\"Jaipaura\"\n",
    "print(f\"Number of characters in city is {len(city)}\")\n",
    "count=0\n",
    "for index in range(0,len(city)):\n",
    "    if(city[index]=='a'):\n",
    "        count=count+1\n",
    "print(f\"Total number of a in the string is {count}\")"
   ]
  },
  {
   "cell_type": "code",
   "execution_count": 36,
   "id": "c1560b74",
   "metadata": {},
   "outputs": [
    {
     "name": "stdout",
     "output_type": "stream",
     "text": [
      "Number of characters in city is 8\n",
      "Total number of vowels in the string is 5\n"
     ]
    }
   ],
   "source": [
    "city=\"Jaipaura\"\n",
    "print(f\"Number of characters in city is {len(city)}\")\n",
    "count=0\n",
    "for index in range(0,len(city)):\n",
    "    if(city[index]=='a' or city[index]=='e' or city[index]=='i' or city[index]=='o' or city[index]=='u'):\n",
    "        count=count+1\n",
    "print(f\"Total number of vowels in the string is {count}\")"
   ]
  },
  {
   "cell_type": "code",
   "execution_count": 38,
   "id": "f132b0a0",
   "metadata": {},
   "outputs": [
    {
     "name": "stdout",
     "output_type": "stream",
     "text": [
      "Number of characters in city is 8\n",
      "1 a\n",
      "2 i\n",
      "4 a\n",
      "5 u\n",
      "7 a\n",
      "Total number of vowels in the string is 5\n"
     ]
    }
   ],
   "source": [
    "city=\"Jaipaura\"\n",
    "print(f\"Number of characters in city is {len(city)}\")\n",
    "count=0\n",
    "for index in range(0,len(city)):\n",
    "    if(city[index]=='a' or city[index]=='e' or city[index]=='i' or city[index]=='o' or city[index]=='u'):\n",
    "        count=count+1\n",
    "        print(index,city[index])\n",
    "print(f\"Total number of vowels in the string is {count}\")"
   ]
  },
  {
   "cell_type": "code",
   "execution_count": 39,
   "id": "bf5ff297",
   "metadata": {},
   "outputs": [
    {
     "name": "stdout",
     "output_type": "stream",
     "text": [
      "Number of characters in city is 8\n",
      "Vowel a\n",
      "Vowel i\n",
      "Vowel a\n",
      "Vowel u\n",
      "Vowel a\n",
      "Total number of vowels in the string is 5\n"
     ]
    }
   ],
   "source": [
    "city=\"Jaipaura\"\n",
    "print(f\"Number of characters in city is {len(city)}\")\n",
    "count=0\n",
    "for i in city:\n",
    "    if(i=='a' or i=='e' or i=='i' or i=='o' or i=='u'):\n",
    "        count=count+1\n",
    "        print(\"Vowel\",i)\n",
    "print(f\"Total number of vowels in the string is {count}\")"
   ]
  },
  {
   "cell_type": "code",
   "execution_count": 40,
   "id": "5174eddb",
   "metadata": {},
   "outputs": [],
   "source": [
    "# run a for loop and find sum of 1st 20 natural numbers\n",
    "# run a for loop and find sum of last 20 3 digit natural numbers\n",
    "# run a for loop and find product and average of any 20 natural numbers\n",
    "# print multiplication table of a number given by a user \n",
    "# find out the sum of power of starting 6 number \n",
    "  # 2**6\n",
    "    # 2**1 + 2**2 + 2**3........+2**6\n",
    "# take a string from the user and find out the total number of consonant which are there in the string \n",
    "# take a int number from the user and find out the total sum  , average and product\n",
    "  # 1 to number sum avg and product for odd numbers\n"
   ]
  },
  {
   "cell_type": "code",
   "execution_count": 41,
   "id": "33614b50",
   "metadata": {},
   "outputs": [
    {
     "name": "stdout",
     "output_type": "stream",
     "text": [
      "210\n"
     ]
    }
   ],
   "source": [
    "# run a for loop and find sum of 1st 20 natural numbers\n",
    "s=0\n",
    "for i in range (1,21):\n",
    "    s=s+i\n",
    "print(s)\n"
   ]
  },
  {
   "cell_type": "code",
   "execution_count": 44,
   "id": "82a2d2a5",
   "metadata": {},
   "outputs": [
    {
     "name": "stdout",
     "output_type": "stream",
     "text": [
      "980\n",
      "981\n",
      "982\n",
      "983\n",
      "984\n",
      "985\n",
      "986\n",
      "987\n",
      "988\n",
      "989\n",
      "990\n",
      "991\n",
      "992\n",
      "993\n",
      "994\n",
      "995\n",
      "996\n",
      "997\n",
      "998\n",
      "999\n",
      "19790\n"
     ]
    }
   ],
   "source": [
    "# run a for loop and find sum of last 20 3 digit natural numbers\n",
    "s=0\n",
    "for i in range (980,1000):\n",
    "    s=s+i\n",
    "    print(i)\n",
    "print(s)\n"
   ]
  },
  {
   "cell_type": "code",
   "execution_count": 47,
   "id": "d086d8b3",
   "metadata": {},
   "outputs": [
    {
     "name": "stdout",
     "output_type": "stream",
     "text": [
      "999\n",
      "998\n",
      "997\n",
      "996\n",
      "995\n",
      "994\n",
      "993\n",
      "992\n",
      "991\n",
      "990\n",
      "989\n",
      "988\n",
      "987\n",
      "986\n",
      "985\n",
      "984\n",
      "983\n",
      "982\n",
      "981\n",
      "980\n",
      "19790\n"
     ]
    }
   ],
   "source": [
    "# run a for loop and find sum of last 20 3 digit natural numbers\n",
    "s=0\n",
    "for i in range (999,979,-1):\n",
    "    s=s+i\n",
    "    print(i)\n",
    "print(s)\n"
   ]
  },
  {
   "cell_type": "code",
   "execution_count": 49,
   "id": "7aed131f",
   "metadata": {},
   "outputs": [
    {
     "name": "stdout",
     "output_type": "stream",
     "text": [
      "Product = 2432902008176640000 , Average = 10.5\n"
     ]
    }
   ],
   "source": [
    "# run a for loop and find product and average of any 20 natural numbers\n",
    "p=1\n",
    "s=0\n",
    "c=0\n",
    "\n",
    "for i in range (1,21):\n",
    "    p=p*i\n",
    "    s=s+i\n",
    "    c=c+1\n",
    "    avg= s/c\n",
    "print(f\"Product = {p} , Average = {avg}\")\n",
    "    "
   ]
  },
  {
   "cell_type": "code",
   "execution_count": 51,
   "id": "ad3271a5",
   "metadata": {},
   "outputs": [
    {
     "name": "stdout",
     "output_type": "stream",
     "text": [
      "Enter a number to print the table: 5\n",
      "5\n",
      "10\n",
      "15\n",
      "20\n",
      "25\n",
      "30\n",
      "35\n",
      "40\n",
      "45\n",
      "50\n"
     ]
    }
   ],
   "source": [
    "# print multiplication table of a number given by a user \n",
    "num=int(input(\"Enter a number to print the table: \"))\n",
    "tab=1\n",
    "for i in range(1,11):\n",
    "    tab=num*i\n",
    "    print(tab)"
   ]
  },
  {
   "cell_type": "code",
   "execution_count": 54,
   "id": "848612c3",
   "metadata": {},
   "outputs": [
    {
     "name": "stdout",
     "output_type": "stream",
     "text": [
      "126\n"
     ]
    }
   ],
   "source": [
    "# find out the sum of power of starting 6 number \n",
    "  # 2**6\n",
    "    # 2**1 + 2**2 + 2**3........+2**6\n",
    "    \n",
    "sum=0\n",
    "for i in range (1,7):\n",
    "    sum=sum+2**i\n",
    "print(sum)"
   ]
  },
  {
   "cell_type": "code",
   "execution_count": 56,
   "id": "f462da18",
   "metadata": {},
   "outputs": [
    {
     "name": "stdout",
     "output_type": "stream",
     "text": [
      "Enter a number:2\n",
      "126\n"
     ]
    }
   ],
   "source": [
    "num=int(input(\"Enter a number:\"))\n",
    "sum=0\n",
    "for i in range (1,7):\n",
    "    sum=sum+num**i\n",
    "print(sum)"
   ]
  },
  {
   "cell_type": "code",
   "execution_count": 60,
   "id": "1f2d793b",
   "metadata": {},
   "outputs": [
    {
     "name": "stdout",
     "output_type": "stream",
     "text": [
      "Enter a string: Jaipur\n",
      "total number of consonants in the string = 3\n"
     ]
    }
   ],
   "source": [
    "# take a string from the user and find out the total number of consonant which are there in the string \n",
    "str=input(\"Enter a string: \")\n",
    "count=0\n",
    "for x in str:\n",
    "    if(x!='a' and x!='e' and x!='o' and x!='i' and x!='u'):\n",
    "        count=count+1\n",
    "print(f\"total number of consonants in the string = {count}\")\n",
    "    "
   ]
  },
  {
   "cell_type": "code",
   "execution_count": 64,
   "id": "e9425af2",
   "metadata": {},
   "outputs": [
    {
     "name": "stdout",
     "output_type": "stream",
     "text": [
      "Enter a number: 10\n",
      "1\n",
      "3\n",
      "5\n",
      "7\n",
      "9\n",
      "Product = 945 , Sum = 25 , Average = 5.0\n"
     ]
    }
   ],
   "source": [
    "# take a int number from the user and find out the total sum  , average and product\n",
    "  # 1 to number sum avg and product for odd numbers\n",
    "num=int(input(\"Enter a number: \"))\n",
    "product =1\n",
    "sum=0\n",
    "count=0\n",
    "for i in range(1,num+1):\n",
    "    if(i%2!=0):\n",
    "        print(i)\n",
    "        product=product*i\n",
    "        sum=sum+i\n",
    "        count=count+1\n",
    "        avg=sum/count\n",
    "print(f\"Product = {product} , Sum = {sum} , Average = {avg}\")\n"
   ]
  },
  {
   "cell_type": "code",
   "execution_count": null,
   "id": "0cfd349b",
   "metadata": {},
   "outputs": [],
   "source": []
  }
 ],
 "metadata": {
  "kernelspec": {
   "display_name": "Python 3",
   "language": "python",
   "name": "python3"
  },
  "language_info": {
   "codemirror_mode": {
    "name": "ipython",
    "version": 3
   },
   "file_extension": ".py",
   "mimetype": "text/x-python",
   "name": "python",
   "nbconvert_exporter": "python",
   "pygments_lexer": "ipython3",
   "version": "3.8.8"
  }
 },
 "nbformat": 4,
 "nbformat_minor": 5
}

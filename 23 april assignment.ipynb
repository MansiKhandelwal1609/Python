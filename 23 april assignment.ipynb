{
 "cells": [
  {
   "cell_type": "code",
   "execution_count": 1,
   "id": "1fb3d328",
   "metadata": {},
   "outputs": [
    {
     "data": {
      "text/plain": [
       "'\\n****\\n***\\n**\\n* \\n\\n\\nA \\nA B\\nA B C\\nA B C D\\n\\n10\\n10 11\\n10 11 12\\n10 11 12 13\\n\\n\\nD C B A\\nD C B \\nD C \\nD\\n\\n1\\n1 2\\n1 2 1\\n1 2 1 2\\n1 2 1 2 1\\n\\n\\nF\\nH J\\nL N P\\nR T V X\\n\\n\\n****\\n ***\\n  **\\n   *\\n   \\n'"
      ]
     },
     "execution_count": 1,
     "metadata": {},
     "output_type": "execute_result"
    }
   ],
   "source": [
    "'''\n",
    "****\n",
    "***\n",
    "**\n",
    "* \n",
    "\n",
    "\n",
    "A \n",
    "A B\n",
    "A B C\n",
    "A B C D\n",
    "\n",
    "10\n",
    "10 11\n",
    "10 11 12\n",
    "10 11 12 13\n",
    "\n",
    "\n",
    "D C B A\n",
    "D C B \n",
    "D C \n",
    "D\n",
    "\n",
    "1\n",
    "1 2\n",
    "1 2 1\n",
    "1 2 1 2\n",
    "1 2 1 2 1\n",
    "\n",
    "\n",
    "F\n",
    "H J\n",
    "L N P\n",
    "R T V X\n",
    "\n",
    "\n",
    "****\n",
    " ***\n",
    "  **\n",
    "   *\n",
    "   \n",
    "'''"
   ]
  },
  {
   "cell_type": "code",
   "execution_count": 2,
   "id": "e5ff51ad",
   "metadata": {},
   "outputs": [
    {
     "name": "stdout",
     "output_type": "stream",
     "text": [
      "A  \n",
      "A B  \n",
      "A B C  \n",
      "A B C D  \n"
     ]
    }
   ],
   "source": [
    "for i in range(65,69):\n",
    "    for j in range(65,i+1):\n",
    "        print(chr(j),end=\" \")\n",
    "    print(\" \")"
   ]
  },
  {
   "cell_type": "code",
   "execution_count": 3,
   "id": "3377f5c0",
   "metadata": {},
   "outputs": [
    {
     "name": "stdout",
     "output_type": "stream",
     "text": [
      "10  \n",
      "10 11  \n",
      "10 11 12  \n",
      "10 11 12 13  \n"
     ]
    }
   ],
   "source": [
    "for i in range(10,14):\n",
    "   \n",
    "    for j in range(10,i+1):\n",
    "        x=j\n",
    "        print(x,end=\" \")\n",
    "    print(\" \")"
   ]
  },
  {
   "cell_type": "code",
   "execution_count": 4,
   "id": "9987a7d3",
   "metadata": {},
   "outputs": [
    {
     "name": "stdout",
     "output_type": "stream",
     "text": [
      "* \n",
      "* * \n",
      "* * * \n",
      "* * * * \n"
     ]
    }
   ],
   "source": [
    "for i in range(1,5):\n",
    "    for j in range(i,0,-1):\n",
    "        print(\"*\",end=\" \")\n",
    "    print(\"\")"
   ]
  },
  {
   "cell_type": "code",
   "execution_count": 5,
   "id": "b4c92ffe",
   "metadata": {},
   "outputs": [
    {
     "name": "stdout",
     "output_type": "stream",
     "text": [
      "* * * * \n",
      "* * * \n",
      "* * \n",
      "* \n"
     ]
    }
   ],
   "source": [
    "for i in range(1,5):\n",
    "    for j in range(4,i-1,-1):\n",
    "        print(\"*\",end=\" \")\n",
    "    print(\"\")"
   ]
  },
  {
   "cell_type": "code",
   "execution_count": 6,
   "id": "5d3eb2b8",
   "metadata": {},
   "outputs": [
    {
     "name": "stdout",
     "output_type": "stream",
     "text": [
      "D C B A \n",
      "D C B \n",
      "D C \n",
      "D \n"
     ]
    }
   ],
   "source": [
    "for i in range(1,5):\n",
    "    for j in range(4,i-1,-1):\n",
    "        print(chr(64+j),end=\" \")\n",
    "    print(\"\")"
   ]
  },
  {
   "cell_type": "code",
   "execution_count": 7,
   "id": "e9a17431",
   "metadata": {},
   "outputs": [
    {
     "name": "stdout",
     "output_type": "stream",
     "text": [
      "1 \n",
      "1 2 \n",
      "1 2 1 \n",
      "1 2 1 2 \n",
      "1 2 1 2 1 \n"
     ]
    }
   ],
   "source": [
    "for i in range(1,6):\n",
    "    for j in range(1,i+1):\n",
    "        if(j%2==0):\n",
    "            print(\"2\",end=\" \")\n",
    "        else:\n",
    "            print(\"1\",end=\" \")\n",
    "    print(\"\")"
   ]
  },
  {
   "cell_type": "code",
   "execution_count": 8,
   "id": "df8ab255",
   "metadata": {},
   "outputs": [
    {
     "name": "stdout",
     "output_type": "stream",
     "text": [
      "F \n",
      "H J \n",
      "L N P \n",
      "R T V X \n"
     ]
    }
   ],
   "source": [
    "x=70\n",
    "for i in range(1,5):\n",
    "    for j in range(1,i+1):\n",
    "        print(chr(x),end=\" \")\n",
    "        x+=2\n",
    "    print(\"\")"
   ]
  },
  {
   "cell_type": "code",
   "execution_count": 9,
   "id": "c9af0b3b",
   "metadata": {},
   "outputs": [
    {
     "name": "stdout",
     "output_type": "stream",
     "text": [
      "* * * *  \n",
      "  * * *  \n",
      "    * *  \n",
      "      *  \n"
     ]
    }
   ],
   "source": [
    "for i in range(1,5):\n",
    "    for s in range(0,i-1):\n",
    "        print(\" \",end=\" \")\n",
    "    for j in range(4,i-1,-1):\n",
    "        print(\"*\",end=\" \")\n",
    "    print(\" \")"
   ]
  },
  {
   "cell_type": "code",
   "execution_count": null,
   "id": "bf4b8039",
   "metadata": {},
   "outputs": [],
   "source": []
  }
 ],
 "metadata": {
  "kernelspec": {
   "display_name": "Python 3",
   "language": "python",
   "name": "python3"
  },
  "language_info": {
   "codemirror_mode": {
    "name": "ipython",
    "version": 3
   },
   "file_extension": ".py",
   "mimetype": "text/x-python",
   "name": "python",
   "nbconvert_exporter": "python",
   "pygments_lexer": "ipython3",
   "version": "3.8.8"
  }
 },
 "nbformat": 4,
 "nbformat_minor": 5
}

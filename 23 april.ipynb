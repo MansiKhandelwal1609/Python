{
 "cells": [
  {
   "cell_type": "code",
   "execution_count": 1,
   "id": "5b81a092",
   "metadata": {},
   "outputs": [],
   "source": [
    "# while loop\n",
    "#for -> we know no. of iterations"
   ]
  },
  {
   "cell_type": "code",
   "execution_count": 2,
   "id": "393007c3",
   "metadata": {},
   "outputs": [
    {
     "name": "stdout",
     "output_type": "stream",
     "text": [
      "1\n",
      "2\n",
      "3\n",
      "4\n",
      "5\n",
      "6\n",
      "7\n",
      "8\n",
      "9\n"
     ]
    }
   ],
   "source": [
    "i=1\n",
    "while(i<10):\n",
    "    print(i)\n",
    "    i+=1"
   ]
  },
  {
   "cell_type": "code",
   "execution_count": 4,
   "id": "f86ca6db",
   "metadata": {},
   "outputs": [
    {
     "name": "stdout",
     "output_type": "stream",
     "text": [
      "0 r\n",
      "1 e\n",
      "2 g\n",
      "3 e\n",
      "4 x\n"
     ]
    }
   ],
   "source": [
    "company=\"regex\"\n",
    "index=0\n",
    "while(index<len(company)):\n",
    "    print(index,company[index])\n",
    "    index+=1"
   ]
  },
  {
   "cell_type": "code",
   "execution_count": 5,
   "id": "1b309480",
   "metadata": {},
   "outputs": [
    {
     "name": "stdout",
     "output_type": "stream",
     "text": [
      "1\n",
      "2\n",
      "3\n",
      "4\n"
     ]
    }
   ],
   "source": [
    "for i in range(1,5):\n",
    "    print(i)"
   ]
  },
  {
   "cell_type": "code",
   "execution_count": 6,
   "id": "6071c7e5",
   "metadata": {},
   "outputs": [
    {
     "name": "stdout",
     "output_type": "stream",
     "text": [
      "1\n"
     ]
    }
   ],
   "source": [
    "for i in range(1,5):\n",
    "    print(i)\n",
    "    break # to come out from the loop"
   ]
  },
  {
   "cell_type": "code",
   "execution_count": 8,
   "id": "3d9423e8",
   "metadata": {},
   "outputs": [
    {
     "name": "stdout",
     "output_type": "stream",
     "text": [
      "1\n",
      "2\n"
     ]
    }
   ],
   "source": [
    "for i in range(1,5):\n",
    "    if(i==3):\n",
    "        break\n",
    "    print(i)"
   ]
  },
  {
   "cell_type": "code",
   "execution_count": 9,
   "id": "7900b373",
   "metadata": {},
   "outputs": [
    {
     "name": "stdout",
     "output_type": "stream",
     "text": [
      "50\n",
      "49\n",
      "48\n",
      "47\n",
      "46\n",
      "45\n",
      "44\n",
      "43\n",
      "42\n",
      "41\n",
      "40\n",
      "39\n",
      "38\n",
      "37\n",
      "36\n",
      "35\n",
      "34\n",
      "33\n",
      "32\n",
      "31\n",
      "30\n",
      "29\n",
      "28\n",
      "27\n",
      "26\n",
      "25\n",
      "24\n",
      "23\n",
      "22\n",
      "21\n",
      "20\n"
     ]
    }
   ],
   "source": [
    "i=50\n",
    "while(i>=20):\n",
    "    print(i)\n",
    "    i-=1"
   ]
  },
  {
   "cell_type": "code",
   "execution_count": 11,
   "id": "82bd0fae",
   "metadata": {},
   "outputs": [
    {
     "name": "stdout",
     "output_type": "stream",
     "text": [
      "1085\n"
     ]
    }
   ],
   "source": [
    "i=50\n",
    "s=0\n",
    "while(i>=20):\n",
    "    s=s+i\n",
    "    i-=1\n",
    "print(s)"
   ]
  },
  {
   "cell_type": "code",
   "execution_count": 17,
   "id": "476ff93e",
   "metadata": {},
   "outputs": [
    {
     "name": "stdout",
     "output_type": "stream",
     "text": [
      "70\n",
      "105\n",
      "140\n",
      "175\n",
      "210\n",
      "245\n",
      "280\n",
      "315\n",
      "350\n",
      "385\n"
     ]
    }
   ],
   "source": [
    "i=50\n",
    "count=1\n",
    "while(count<=10):\n",
    "    if(i%5==0 and i%7==0):\n",
    "        count+=1\n",
    "        print(i)\n",
    "    i+=1\n",
    "        "
   ]
  },
  {
   "cell_type": "code",
   "execution_count": 15,
   "id": "a49af820",
   "metadata": {},
   "outputs": [
    {
     "name": "stdout",
     "output_type": "stream",
     "text": [
      "70\n",
      "105\n",
      "140\n",
      "175\n",
      "210\n",
      "245\n",
      "280\n",
      "315\n",
      "350\n",
      "385\n"
     ]
    }
   ],
   "source": [
    "i=50\n",
    "count=0\n",
    "while(True):\n",
    "    if(i%5==0 and i%7==0):\n",
    "        count+=1\n",
    "        print(i)\n",
    "    if(count==10):\n",
    "        break\n",
    "       \n",
    "    i+=1"
   ]
  },
  {
   "cell_type": "code",
   "execution_count": 16,
   "id": "6860a799",
   "metadata": {},
   "outputs": [
    {
     "name": "stdout",
     "output_type": "stream",
     "text": [
      "70\n",
      "105\n",
      "140\n",
      "175\n",
      "210\n",
      "245\n",
      "280\n",
      "315\n",
      "350\n",
      "385\n"
     ]
    }
   ],
   "source": [
    "i=50\n",
    "count=0\n",
    "while(True):\n",
    "    if(i%5==0 and i%7==0):\n",
    "        count+=1\n",
    "        print(i)\n",
    "        if(count==10):\n",
    "            break\n",
    "       \n",
    "    i+=1"
   ]
  },
  {
   "cell_type": "code",
   "execution_count": 19,
   "id": "db48253d",
   "metadata": {},
   "outputs": [
    {
     "name": "stdout",
     "output_type": "stream",
     "text": [
      "hello\n",
      "1\n",
      "2\n",
      "3\n",
      "hello\n",
      "1\n",
      "2\n",
      "3\n",
      "hello\n",
      "1\n",
      "2\n",
      "3\n",
      "hello\n",
      "1\n",
      "2\n",
      "3\n",
      "hello\n",
      "1\n",
      "2\n",
      "3\n"
     ]
    }
   ],
   "source": [
    "# nested loop = loop in a loop\n",
    "for i in range(1,6):\n",
    "    print(\"hello\")\n",
    "    for k in range(1,4):\n",
    "        print(k)"
   ]
  },
  {
   "cell_type": "code",
   "execution_count": 20,
   "id": "4c3b5d95",
   "metadata": {},
   "outputs": [
    {
     "name": "stdout",
     "output_type": "stream",
     "text": [
      "1\n",
      "2\n",
      "3\n",
      "1\n",
      "2\n",
      "3\n",
      "1\n",
      "2\n",
      "3\n",
      "1\n",
      "2\n",
      "3\n",
      "1\n",
      "2\n",
      "3\n"
     ]
    }
   ],
   "source": [
    "for i in range(1,6):\n",
    "    for k in range(1,4):\n",
    "        print(k)"
   ]
  },
  {
   "cell_type": "code",
   "execution_count": 21,
   "id": "479301a7",
   "metadata": {},
   "outputs": [
    {
     "name": "stdout",
     "output_type": "stream",
     "text": [
      "1\n",
      "2\n",
      "3\n",
      "\n",
      "1\n",
      "2\n",
      "3\n",
      "\n",
      "1\n",
      "2\n",
      "3\n",
      "\n",
      "1\n",
      "2\n",
      "3\n",
      "\n",
      "1\n",
      "2\n",
      "3\n",
      "\n"
     ]
    }
   ],
   "source": [
    "for i in range(1,6):\n",
    "    for k in range(1,4):\n",
    "        print(k)\n",
    "        \n",
    "    print(\"\")"
   ]
  },
  {
   "cell_type": "code",
   "execution_count": 22,
   "id": "61df049d",
   "metadata": {},
   "outputs": [
    {
     "name": "stdout",
     "output_type": "stream",
     "text": [
      "1 2 3 \n",
      "1 2 3 \n",
      "1 2 3 \n",
      "1 2 3 \n",
      "1 2 3 \n"
     ]
    }
   ],
   "source": [
    "for i in range(1,6):\n",
    "    for k in range(1,4):\n",
    "        print(k,end=\" \")\n",
    "        \n",
    "    print(\"\")"
   ]
  },
  {
   "cell_type": "code",
   "execution_count": 24,
   "id": "59cc5e5f",
   "metadata": {},
   "outputs": [
    {
     "name": "stdout",
     "output_type": "stream",
     "text": [
      "* * * * \n",
      "* * * * \n",
      "* * * * \n"
     ]
    }
   ],
   "source": [
    "for i in range(1,4):\n",
    "    for k in range(1,5):\n",
    "        print(\"*\",end=\" \")\n",
    "        \n",
    "    print(\"\")"
   ]
  },
  {
   "cell_type": "code",
   "execution_count": 25,
   "id": "92762397",
   "metadata": {},
   "outputs": [
    {
     "name": "stdout",
     "output_type": "stream",
     "text": [
      "*  \n",
      "* *  \n",
      "* * *  \n",
      "* * * *  \n"
     ]
    }
   ],
   "source": [
    "for i in range(1,5):\n",
    "    for j in range(1,i+1):\n",
    "        print(\"*\",end=\" \")\n",
    "    print(\" \")"
   ]
  },
  {
   "cell_type": "code",
   "execution_count": null,
   "id": "eb700462",
   "metadata": {},
   "outputs": [],
   "source": [
    "''' Assignment\n",
    "****\n",
    "***\n",
    "**\n",
    "* \n",
    "\n",
    "10\n",
    "11 12\n",
    "13 14 15\n",
    "\n",
    "D\n",
    "D C\n",
    "D C B\n",
    "D C B A\n",
    "\n",
    "\n",
    "A \n",
    "A B\n",
    "A B C\n",
    "A B C D\n",
    "\n",
    "10\n",
    "10 11\n",
    "10 11 12\n",
    "10 11 12 13\n",
    "\n",
    "\n",
    "D C B A\n",
    "D C B \n",
    "D C \n",
    "D\n",
    "\n",
    "1\n",
    "1 2\n",
    "1 2 1\n",
    "1 2 1 2\n",
    "1 2 1 2 1\n",
    "\n",
    "\n",
    "F\n",
    "H J\n",
    "L N P\n",
    "R T V X\n",
    "\n",
    "\n",
    "****\n",
    " ***\n",
    "  **\n",
    "   *\n",
    "   \n",
    "'''\n"
   ]
  }
 ],
 "metadata": {
  "kernelspec": {
   "display_name": "Python 3",
   "language": "python",
   "name": "python3"
  },
  "language_info": {
   "codemirror_mode": {
    "name": "ipython",
    "version": 3
   },
   "file_extension": ".py",
   "mimetype": "text/x-python",
   "name": "python",
   "nbconvert_exporter": "python",
   "pygments_lexer": "ipython3",
   "version": "3.8.8"
  }
 },
 "nbformat": 4,
 "nbformat_minor": 5
}

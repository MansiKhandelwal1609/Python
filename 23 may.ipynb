{
 "cells": [
  {
   "cell_type": "code",
   "execution_count": 1,
   "id": "da602b6b",
   "metadata": {},
   "outputs": [],
   "source": [
    "import numpy as np"
   ]
  },
  {
   "cell_type": "code",
   "execution_count": 3,
   "id": "95025097",
   "metadata": {},
   "outputs": [
    {
     "data": {
      "text/plain": [
       "array([ 6,  2,  5,  2, 18])"
      ]
     },
     "execution_count": 3,
     "metadata": {},
     "output_type": "execute_result"
    }
   ],
   "source": [
    "# np.random.seed()\n",
    "\n",
    "a=np.random.randint(1,20,5)\n",
    "a"
   ]
  },
  {
   "cell_type": "code",
   "execution_count": 5,
   "id": "588beb4f",
   "metadata": {},
   "outputs": [
    {
     "data": {
      "text/plain": [
       "array([ 4, 15, 16,  7, 17])"
      ]
     },
     "execution_count": 5,
     "metadata": {},
     "output_type": "execute_result"
    }
   ],
   "source": [
    "np.random.seed(5)\n",
    "\n",
    "a=np.random.randint(1,20,5)\n",
    "a"
   ]
  },
  {
   "cell_type": "markdown",
   "id": "683fd32d",
   "metadata": {},
   "source": [
    "# Pandas"
   ]
  },
  {
   "cell_type": "code",
   "execution_count": 6,
   "id": "996f4be6",
   "metadata": {},
   "outputs": [
    {
     "data": {
      "text/plain": [
       "'\\nData Structure of pandas :\\n1. Series ==> used for 1-D data . It shows only values of a column and it will not include column name.\\n\\n2. DataFrame ==> It is multidimensional data . It shows column names with values \\n\\n'"
      ]
     },
     "execution_count": 6,
     "metadata": {},
     "output_type": "execute_result"
    }
   ],
   "source": [
    "# open source library used to handle data manipulations\n",
    "'''\n",
    "Data Structure of pandas :\n",
    "1. Series ==> used for 1-D data . It shows only values of a column and it will not include column name.\n",
    "\n",
    "2. DataFrame ==> It is multidimensional data . It shows column names with values \n",
    "\n",
    "'''"
   ]
  },
  {
   "cell_type": "code",
   "execution_count": 7,
   "id": "424b250a",
   "metadata": {},
   "outputs": [],
   "source": [
    "import pandas as pd\n"
   ]
  },
  {
   "cell_type": "code",
   "execution_count": 8,
   "id": "cf77687e",
   "metadata": {},
   "outputs": [
    {
     "data": {
      "text/plain": [
       "0     1\n",
       "1    34\n",
       "2    78\n",
       "3    90\n",
       "dtype: int64"
      ]
     },
     "execution_count": 8,
     "metadata": {},
     "output_type": "execute_result"
    }
   ],
   "source": [
    "a=pd.Series([1,34,78,90])\n",
    "a"
   ]
  },
  {
   "cell_type": "code",
   "execution_count": 9,
   "id": "f7649feb",
   "metadata": {},
   "outputs": [
    {
     "data": {
      "text/plain": [
       "pandas.core.series.Series"
      ]
     },
     "execution_count": 9,
     "metadata": {},
     "output_type": "execute_result"
    }
   ],
   "source": [
    "type(a)"
   ]
  },
  {
   "cell_type": "code",
   "execution_count": 10,
   "id": "164e2611",
   "metadata": {},
   "outputs": [],
   "source": [
    "# Data Frame"
   ]
  },
  {
   "cell_type": "code",
   "execution_count": 11,
   "id": "63ae61d5",
   "metadata": {},
   "outputs": [],
   "source": [
    "a={\n",
    "    \"Emp_ID\" : [1,2,3,4,5,6,7,8],\n",
    "    \"Name\" : [\"Sam\",\"Rahul\",\"Gorav\",\"Aniket\",\"Anjali\",\"Ria\",\"Muskan\",\"Harsh\"],\n",
    "    \"Dept.\" : [\"IT\",\"HR\",\"Sales\",\"IT\",\"IT\",\"Sales\",\"IT\",\"HR\"],\n",
    "    \"Salary\" : [25000,28000,23000,30000,35000,32000,28000,27000],\n",
    "    \"Working_Hours\":[8,7,6,9,7,8,9,7]\n",
    "}"
   ]
  },
  {
   "cell_type": "code",
   "execution_count": 12,
   "id": "d8ff7cd9",
   "metadata": {},
   "outputs": [
    {
     "data": {
      "text/plain": [
       "{'Emp_ID': [1, 2, 3, 4, 5, 6, 7, 8],\n",
       " 'Name': ['Sam',\n",
       "  'Rahul',\n",
       "  'Gorav',\n",
       "  'Aniket',\n",
       "  'Anjali',\n",
       "  'Ria',\n",
       "  'Muskan',\n",
       "  'Harsh'],\n",
       " 'Dept.': ['IT', 'HR', 'Sales', 'IT', 'IT', 'Sales', 'IT', 'HR'],\n",
       " 'Salary': [25000, 28000, 23000, 30000, 35000, 32000, 28000, 27000],\n",
       " 'Working_Hours': [8, 7, 6, 9, 7, 8, 9, 7]}"
      ]
     },
     "execution_count": 12,
     "metadata": {},
     "output_type": "execute_result"
    }
   ],
   "source": [
    "a"
   ]
  },
  {
   "cell_type": "code",
   "execution_count": 13,
   "id": "e9979d66",
   "metadata": {},
   "outputs": [
    {
     "data": {
      "text/html": [
       "<div>\n",
       "<style scoped>\n",
       "    .dataframe tbody tr th:only-of-type {\n",
       "        vertical-align: middle;\n",
       "    }\n",
       "\n",
       "    .dataframe tbody tr th {\n",
       "        vertical-align: top;\n",
       "    }\n",
       "\n",
       "    .dataframe thead th {\n",
       "        text-align: right;\n",
       "    }\n",
       "</style>\n",
       "<table border=\"1\" class=\"dataframe\">\n",
       "  <thead>\n",
       "    <tr style=\"text-align: right;\">\n",
       "      <th></th>\n",
       "      <th>Emp_ID</th>\n",
       "      <th>Name</th>\n",
       "      <th>Dept.</th>\n",
       "      <th>Salary</th>\n",
       "      <th>Working_Hours</th>\n",
       "    </tr>\n",
       "  </thead>\n",
       "  <tbody>\n",
       "    <tr>\n",
       "      <th>0</th>\n",
       "      <td>1</td>\n",
       "      <td>Sam</td>\n",
       "      <td>IT</td>\n",
       "      <td>25000</td>\n",
       "      <td>8</td>\n",
       "    </tr>\n",
       "    <tr>\n",
       "      <th>1</th>\n",
       "      <td>2</td>\n",
       "      <td>Rahul</td>\n",
       "      <td>HR</td>\n",
       "      <td>28000</td>\n",
       "      <td>7</td>\n",
       "    </tr>\n",
       "    <tr>\n",
       "      <th>2</th>\n",
       "      <td>3</td>\n",
       "      <td>Gorav</td>\n",
       "      <td>Sales</td>\n",
       "      <td>23000</td>\n",
       "      <td>6</td>\n",
       "    </tr>\n",
       "    <tr>\n",
       "      <th>3</th>\n",
       "      <td>4</td>\n",
       "      <td>Aniket</td>\n",
       "      <td>IT</td>\n",
       "      <td>30000</td>\n",
       "      <td>9</td>\n",
       "    </tr>\n",
       "    <tr>\n",
       "      <th>4</th>\n",
       "      <td>5</td>\n",
       "      <td>Anjali</td>\n",
       "      <td>IT</td>\n",
       "      <td>35000</td>\n",
       "      <td>7</td>\n",
       "    </tr>\n",
       "    <tr>\n",
       "      <th>5</th>\n",
       "      <td>6</td>\n",
       "      <td>Ria</td>\n",
       "      <td>Sales</td>\n",
       "      <td>32000</td>\n",
       "      <td>8</td>\n",
       "    </tr>\n",
       "    <tr>\n",
       "      <th>6</th>\n",
       "      <td>7</td>\n",
       "      <td>Muskan</td>\n",
       "      <td>IT</td>\n",
       "      <td>28000</td>\n",
       "      <td>9</td>\n",
       "    </tr>\n",
       "    <tr>\n",
       "      <th>7</th>\n",
       "      <td>8</td>\n",
       "      <td>Harsh</td>\n",
       "      <td>HR</td>\n",
       "      <td>27000</td>\n",
       "      <td>7</td>\n",
       "    </tr>\n",
       "  </tbody>\n",
       "</table>\n",
       "</div>"
      ],
      "text/plain": [
       "   Emp_ID    Name  Dept.  Salary  Working_Hours\n",
       "0       1     Sam     IT   25000              8\n",
       "1       2   Rahul     HR   28000              7\n",
       "2       3   Gorav  Sales   23000              6\n",
       "3       4  Aniket     IT   30000              9\n",
       "4       5  Anjali     IT   35000              7\n",
       "5       6     Ria  Sales   32000              8\n",
       "6       7  Muskan     IT   28000              9\n",
       "7       8   Harsh     HR   27000              7"
      ]
     },
     "execution_count": 13,
     "metadata": {},
     "output_type": "execute_result"
    }
   ],
   "source": [
    "df = pd.DataFrame(a)\n",
    "df"
   ]
  },
  {
   "cell_type": "code",
   "execution_count": 14,
   "id": "c55b7e31",
   "metadata": {},
   "outputs": [],
   "source": [
    "# how to check top 5 data from dataframe"
   ]
  },
  {
   "cell_type": "code",
   "execution_count": 16,
   "id": "c53ddbfc",
   "metadata": {},
   "outputs": [
    {
     "data": {
      "text/html": [
       "<div>\n",
       "<style scoped>\n",
       "    .dataframe tbody tr th:only-of-type {\n",
       "        vertical-align: middle;\n",
       "    }\n",
       "\n",
       "    .dataframe tbody tr th {\n",
       "        vertical-align: top;\n",
       "    }\n",
       "\n",
       "    .dataframe thead th {\n",
       "        text-align: right;\n",
       "    }\n",
       "</style>\n",
       "<table border=\"1\" class=\"dataframe\">\n",
       "  <thead>\n",
       "    <tr style=\"text-align: right;\">\n",
       "      <th></th>\n",
       "      <th>Emp_ID</th>\n",
       "      <th>Name</th>\n",
       "      <th>Dept.</th>\n",
       "      <th>Salary</th>\n",
       "      <th>Working_Hours</th>\n",
       "    </tr>\n",
       "  </thead>\n",
       "  <tbody>\n",
       "    <tr>\n",
       "      <th>0</th>\n",
       "      <td>1</td>\n",
       "      <td>Sam</td>\n",
       "      <td>IT</td>\n",
       "      <td>25000</td>\n",
       "      <td>8</td>\n",
       "    </tr>\n",
       "    <tr>\n",
       "      <th>1</th>\n",
       "      <td>2</td>\n",
       "      <td>Rahul</td>\n",
       "      <td>HR</td>\n",
       "      <td>28000</td>\n",
       "      <td>7</td>\n",
       "    </tr>\n",
       "    <tr>\n",
       "      <th>2</th>\n",
       "      <td>3</td>\n",
       "      <td>Gorav</td>\n",
       "      <td>Sales</td>\n",
       "      <td>23000</td>\n",
       "      <td>6</td>\n",
       "    </tr>\n",
       "    <tr>\n",
       "      <th>3</th>\n",
       "      <td>4</td>\n",
       "      <td>Aniket</td>\n",
       "      <td>IT</td>\n",
       "      <td>30000</td>\n",
       "      <td>9</td>\n",
       "    </tr>\n",
       "    <tr>\n",
       "      <th>4</th>\n",
       "      <td>5</td>\n",
       "      <td>Anjali</td>\n",
       "      <td>IT</td>\n",
       "      <td>35000</td>\n",
       "      <td>7</td>\n",
       "    </tr>\n",
       "  </tbody>\n",
       "</table>\n",
       "</div>"
      ],
      "text/plain": [
       "   Emp_ID    Name  Dept.  Salary  Working_Hours\n",
       "0       1     Sam     IT   25000              8\n",
       "1       2   Rahul     HR   28000              7\n",
       "2       3   Gorav  Sales   23000              6\n",
       "3       4  Aniket     IT   30000              9\n",
       "4       5  Anjali     IT   35000              7"
      ]
     },
     "execution_count": 16,
     "metadata": {},
     "output_type": "execute_result"
    }
   ],
   "source": [
    "df.head()  # --> by default gives top 5 lines "
   ]
  },
  {
   "cell_type": "code",
   "execution_count": 18,
   "id": "5e387b10",
   "metadata": {},
   "outputs": [
    {
     "data": {
      "text/html": [
       "<div>\n",
       "<style scoped>\n",
       "    .dataframe tbody tr th:only-of-type {\n",
       "        vertical-align: middle;\n",
       "    }\n",
       "\n",
       "    .dataframe tbody tr th {\n",
       "        vertical-align: top;\n",
       "    }\n",
       "\n",
       "    .dataframe thead th {\n",
       "        text-align: right;\n",
       "    }\n",
       "</style>\n",
       "<table border=\"1\" class=\"dataframe\">\n",
       "  <thead>\n",
       "    <tr style=\"text-align: right;\">\n",
       "      <th></th>\n",
       "      <th>Emp_ID</th>\n",
       "      <th>Name</th>\n",
       "      <th>Dept.</th>\n",
       "      <th>Salary</th>\n",
       "      <th>Working_Hours</th>\n",
       "    </tr>\n",
       "  </thead>\n",
       "  <tbody>\n",
       "    <tr>\n",
       "      <th>0</th>\n",
       "      <td>1</td>\n",
       "      <td>Sam</td>\n",
       "      <td>IT</td>\n",
       "      <td>25000</td>\n",
       "      <td>8</td>\n",
       "    </tr>\n",
       "    <tr>\n",
       "      <th>1</th>\n",
       "      <td>2</td>\n",
       "      <td>Rahul</td>\n",
       "      <td>HR</td>\n",
       "      <td>28000</td>\n",
       "      <td>7</td>\n",
       "    </tr>\n",
       "    <tr>\n",
       "      <th>2</th>\n",
       "      <td>3</td>\n",
       "      <td>Gorav</td>\n",
       "      <td>Sales</td>\n",
       "      <td>23000</td>\n",
       "      <td>6</td>\n",
       "    </tr>\n",
       "  </tbody>\n",
       "</table>\n",
       "</div>"
      ],
      "text/plain": [
       "   Emp_ID   Name  Dept.  Salary  Working_Hours\n",
       "0       1    Sam     IT   25000              8\n",
       "1       2  Rahul     HR   28000              7\n",
       "2       3  Gorav  Sales   23000              6"
      ]
     },
     "execution_count": 18,
     "metadata": {},
     "output_type": "execute_result"
    }
   ],
   "source": [
    "df.head(3)"
   ]
  },
  {
   "cell_type": "code",
   "execution_count": 19,
   "id": "5b0b83f6",
   "metadata": {},
   "outputs": [],
   "source": [
    "# how to check bottom data "
   ]
  },
  {
   "cell_type": "code",
   "execution_count": 20,
   "id": "3a4435e0",
   "metadata": {},
   "outputs": [
    {
     "data": {
      "text/html": [
       "<div>\n",
       "<style scoped>\n",
       "    .dataframe tbody tr th:only-of-type {\n",
       "        vertical-align: middle;\n",
       "    }\n",
       "\n",
       "    .dataframe tbody tr th {\n",
       "        vertical-align: top;\n",
       "    }\n",
       "\n",
       "    .dataframe thead th {\n",
       "        text-align: right;\n",
       "    }\n",
       "</style>\n",
       "<table border=\"1\" class=\"dataframe\">\n",
       "  <thead>\n",
       "    <tr style=\"text-align: right;\">\n",
       "      <th></th>\n",
       "      <th>Emp_ID</th>\n",
       "      <th>Name</th>\n",
       "      <th>Dept.</th>\n",
       "      <th>Salary</th>\n",
       "      <th>Working_Hours</th>\n",
       "    </tr>\n",
       "  </thead>\n",
       "  <tbody>\n",
       "    <tr>\n",
       "      <th>3</th>\n",
       "      <td>4</td>\n",
       "      <td>Aniket</td>\n",
       "      <td>IT</td>\n",
       "      <td>30000</td>\n",
       "      <td>9</td>\n",
       "    </tr>\n",
       "    <tr>\n",
       "      <th>4</th>\n",
       "      <td>5</td>\n",
       "      <td>Anjali</td>\n",
       "      <td>IT</td>\n",
       "      <td>35000</td>\n",
       "      <td>7</td>\n",
       "    </tr>\n",
       "    <tr>\n",
       "      <th>5</th>\n",
       "      <td>6</td>\n",
       "      <td>Ria</td>\n",
       "      <td>Sales</td>\n",
       "      <td>32000</td>\n",
       "      <td>8</td>\n",
       "    </tr>\n",
       "    <tr>\n",
       "      <th>6</th>\n",
       "      <td>7</td>\n",
       "      <td>Muskan</td>\n",
       "      <td>IT</td>\n",
       "      <td>28000</td>\n",
       "      <td>9</td>\n",
       "    </tr>\n",
       "    <tr>\n",
       "      <th>7</th>\n",
       "      <td>8</td>\n",
       "      <td>Harsh</td>\n",
       "      <td>HR</td>\n",
       "      <td>27000</td>\n",
       "      <td>7</td>\n",
       "    </tr>\n",
       "  </tbody>\n",
       "</table>\n",
       "</div>"
      ],
      "text/plain": [
       "   Emp_ID    Name  Dept.  Salary  Working_Hours\n",
       "3       4  Aniket     IT   30000              9\n",
       "4       5  Anjali     IT   35000              7\n",
       "5       6     Ria  Sales   32000              8\n",
       "6       7  Muskan     IT   28000              9\n",
       "7       8   Harsh     HR   27000              7"
      ]
     },
     "execution_count": 20,
     "metadata": {},
     "output_type": "execute_result"
    }
   ],
   "source": [
    "df.tail() # --> by default give last 5 lines"
   ]
  },
  {
   "cell_type": "code",
   "execution_count": 21,
   "id": "51b9610c",
   "metadata": {},
   "outputs": [
    {
     "data": {
      "text/html": [
       "<div>\n",
       "<style scoped>\n",
       "    .dataframe tbody tr th:only-of-type {\n",
       "        vertical-align: middle;\n",
       "    }\n",
       "\n",
       "    .dataframe tbody tr th {\n",
       "        vertical-align: top;\n",
       "    }\n",
       "\n",
       "    .dataframe thead th {\n",
       "        text-align: right;\n",
       "    }\n",
       "</style>\n",
       "<table border=\"1\" class=\"dataframe\">\n",
       "  <thead>\n",
       "    <tr style=\"text-align: right;\">\n",
       "      <th></th>\n",
       "      <th>Emp_ID</th>\n",
       "      <th>Name</th>\n",
       "      <th>Dept.</th>\n",
       "      <th>Salary</th>\n",
       "      <th>Working_Hours</th>\n",
       "    </tr>\n",
       "  </thead>\n",
       "  <tbody>\n",
       "    <tr>\n",
       "      <th>6</th>\n",
       "      <td>7</td>\n",
       "      <td>Muskan</td>\n",
       "      <td>IT</td>\n",
       "      <td>28000</td>\n",
       "      <td>9</td>\n",
       "    </tr>\n",
       "    <tr>\n",
       "      <th>7</th>\n",
       "      <td>8</td>\n",
       "      <td>Harsh</td>\n",
       "      <td>HR</td>\n",
       "      <td>27000</td>\n",
       "      <td>7</td>\n",
       "    </tr>\n",
       "  </tbody>\n",
       "</table>\n",
       "</div>"
      ],
      "text/plain": [
       "   Emp_ID    Name Dept.  Salary  Working_Hours\n",
       "6       7  Muskan    IT   28000              9\n",
       "7       8   Harsh    HR   27000              7"
      ]
     },
     "execution_count": 21,
     "metadata": {},
     "output_type": "execute_result"
    }
   ],
   "source": [
    "df.tail(2)"
   ]
  },
  {
   "cell_type": "code",
   "execution_count": 22,
   "id": "2f3ba7da",
   "metadata": {},
   "outputs": [],
   "source": [
    "# How can we check random indexed data "
   ]
  },
  {
   "cell_type": "code",
   "execution_count": 24,
   "id": "ab64a76c",
   "metadata": {},
   "outputs": [
    {
     "data": {
      "text/html": [
       "<div>\n",
       "<style scoped>\n",
       "    .dataframe tbody tr th:only-of-type {\n",
       "        vertical-align: middle;\n",
       "    }\n",
       "\n",
       "    .dataframe tbody tr th {\n",
       "        vertical-align: top;\n",
       "    }\n",
       "\n",
       "    .dataframe thead th {\n",
       "        text-align: right;\n",
       "    }\n",
       "</style>\n",
       "<table border=\"1\" class=\"dataframe\">\n",
       "  <thead>\n",
       "    <tr style=\"text-align: right;\">\n",
       "      <th></th>\n",
       "      <th>Emp_ID</th>\n",
       "      <th>Name</th>\n",
       "      <th>Dept.</th>\n",
       "      <th>Salary</th>\n",
       "      <th>Working_Hours</th>\n",
       "    </tr>\n",
       "  </thead>\n",
       "  <tbody>\n",
       "    <tr>\n",
       "      <th>2</th>\n",
       "      <td>3</td>\n",
       "      <td>Gorav</td>\n",
       "      <td>Sales</td>\n",
       "      <td>23000</td>\n",
       "      <td>6</td>\n",
       "    </tr>\n",
       "    <tr>\n",
       "      <th>5</th>\n",
       "      <td>6</td>\n",
       "      <td>Ria</td>\n",
       "      <td>Sales</td>\n",
       "      <td>32000</td>\n",
       "      <td>8</td>\n",
       "    </tr>\n",
       "    <tr>\n",
       "      <th>6</th>\n",
       "      <td>7</td>\n",
       "      <td>Muskan</td>\n",
       "      <td>IT</td>\n",
       "      <td>28000</td>\n",
       "      <td>9</td>\n",
       "    </tr>\n",
       "  </tbody>\n",
       "</table>\n",
       "</div>"
      ],
      "text/plain": [
       "   Emp_ID    Name  Dept.  Salary  Working_Hours\n",
       "2       3   Gorav  Sales   23000              6\n",
       "5       6     Ria  Sales   32000              8\n",
       "6       7  Muskan     IT   28000              9"
      ]
     },
     "execution_count": 24,
     "metadata": {},
     "output_type": "execute_result"
    }
   ],
   "source": [
    "df.sample(3)"
   ]
  },
  {
   "cell_type": "code",
   "execution_count": null,
   "id": "fc138fd8",
   "metadata": {},
   "outputs": [],
   "source": [
    "# How to export our data "
   ]
  },
  {
   "cell_type": "code",
   "execution_count": 26,
   "id": "287a072b",
   "metadata": {},
   "outputs": [],
   "source": [
    "df.to_csv(\"C:\\\\Users\\\\DELL\\\\OneDrive\\\\Desktop\\\\Regex\\\\New folder\\\\Emp_Info.csv\")"
   ]
  },
  {
   "cell_type": "code",
   "execution_count": null,
   "id": "f6d0a39f",
   "metadata": {},
   "outputs": [],
   "source": [
    "# step 1  --> df.to_csv(\" \")\n",
    "# step 2 --> Create a new folder ==> copy location ==> paste it into step 1\n",
    "# df.to_csv(\"Folder_location\\\\filename.csv\")"
   ]
  }
 ],
 "metadata": {
  "kernelspec": {
   "display_name": "Python 3",
   "language": "python",
   "name": "python3"
  },
  "language_info": {
   "codemirror_mode": {
    "name": "ipython",
    "version": 3
   },
   "file_extension": ".py",
   "mimetype": "text/x-python",
   "name": "python",
   "nbconvert_exporter": "python",
   "pygments_lexer": "ipython3",
   "version": "3.8.8"
  }
 },
 "nbformat": 4,
 "nbformat_minor": 5
}

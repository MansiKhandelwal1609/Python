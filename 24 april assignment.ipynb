{
 "cells": [
  {
   "cell_type": "code",
   "execution_count": 1,
   "id": "849262ac",
   "metadata": {},
   "outputs": [
    {
     "data": {
      "text/plain": [
       "'\\nABCD\\n BCD\\n  CD\\n   D\\n   \\nABCD\\n ABC\\n  AB\\n   A\\n   \\nA B C D\\n  10 100 1000\\n    B C\\n      100\\n      \\nZ Y X\\n  W V\\n    U\\n    \\n    \\n* * * *\\n *    *\\n   *  *\\n      *\\n   \\n   \\n* * * * *\\n*     *\\n*   *\\n* *\\n*\\n\\n\\n    \\n'"
      ]
     },
     "execution_count": 1,
     "metadata": {},
     "output_type": "execute_result"
    }
   ],
   "source": [
    "'''\n",
    "ABCD\n",
    " BCD\n",
    "  CD\n",
    "   D\n",
    "   \n",
    "ABCD\n",
    " ABC\n",
    "  AB\n",
    "   A\n",
    "   \n",
    "A B C D\n",
    "  10 100 1000\n",
    "    B C\n",
    "      100\n",
    "      \n",
    "Z Y X\n",
    "  W V\n",
    "    U\n",
    "    \n",
    "    \n",
    "* * * *\n",
    " *    *\n",
    "   *  *\n",
    "      *\n",
    "   \n",
    "   \n",
    "* * * * *\n",
    "*     *\n",
    "*   *\n",
    "* *\n",
    "*\n",
    "\n",
    "\n",
    "    \n",
    "'''"
   ]
  },
  {
   "cell_type": "code",
   "execution_count": 3,
   "id": "af69928c",
   "metadata": {},
   "outputs": [
    {
     "name": "stdout",
     "output_type": "stream",
     "text": [
      "A B C D \n",
      "  B C D \n",
      "    C D \n",
      "      D \n"
     ]
    }
   ],
   "source": [
    "for i in range(1,5):\n",
    "    for j in range(1,i):\n",
    "        print(\" \",end=\" \")\n",
    "    for k in range(i,5):\n",
    "        print(chr(64+k),end=\" \")\n",
    "    print(\"\")"
   ]
  },
  {
   "cell_type": "code",
   "execution_count": 4,
   "id": "be91f5b1",
   "metadata": {},
   "outputs": [
    {
     "name": "stdout",
     "output_type": "stream",
     "text": [
      "A B C D \n",
      "  A B C \n",
      "    A B \n",
      "      A \n"
     ]
    }
   ],
   "source": [
    "for i in range(1,5):\n",
    "    x=1\n",
    "    for j in range(1,i):\n",
    "        print(\" \",end=\" \")\n",
    "    for k in range(i,5):\n",
    "        print(chr(64+x),end=\" \")\n",
    "        x+=1\n",
    "    print(\"\")"
   ]
  },
  {
   "cell_type": "code",
   "execution_count": 108,
   "id": "52c061a7",
   "metadata": {},
   "outputs": [
    {
     "name": "stdout",
     "output_type": "stream",
     "text": [
      "  A B C D \n",
      "    10 100 1000 \n",
      "      B C \n",
      "        10 \n"
     ]
    }
   ],
   "source": [
    "x=0\n",
    "for i in range(1,5):\n",
    "    num=10\n",
    "    for j in range(0,i):\n",
    "        print(\" \",end=\" \")\n",
    "    if(i%2!=0):\n",
    "        for k in range(i,5):\n",
    "            print(chr(64+i-x),end=\" \")\n",
    "            i+=1\n",
    "        x+=1\n",
    "    else:\n",
    "        for k in range(i,5):\n",
    "            print(num,end=\" \")\n",
    "            num*=10\n",
    "    print(\"\")\n",
    "    \n",
    "        "
   ]
  },
  {
   "cell_type": "code",
   "execution_count": 62,
   "id": "512c7bad",
   "metadata": {},
   "outputs": [
    {
     "name": "stdout",
     "output_type": "stream",
     "text": [
      "Z Y X \n",
      "  W V \n",
      "    U \n"
     ]
    }
   ],
   "source": [
    "x=90\n",
    "for i in range(1,4):\n",
    "    for j in range(1,i):\n",
    "        print(\" \",end=\" \")\n",
    "    for k in range(i,4):\n",
    "        print(chr(x),end=\" \")\n",
    "        x-=1\n",
    "    print(\"\")"
   ]
  },
  {
   "cell_type": "code",
   "execution_count": 49,
   "id": "b01f423f",
   "metadata": {},
   "outputs": [
    {
     "data": {
      "text/plain": [
       "90"
      ]
     },
     "execution_count": 49,
     "metadata": {},
     "output_type": "execute_result"
    }
   ],
   "source": [
    "ord('Z')"
   ]
  },
  {
   "cell_type": "code",
   "execution_count": 54,
   "id": "a7696887",
   "metadata": {},
   "outputs": [
    {
     "name": "stdout",
     "output_type": "stream",
     "text": [
      "* * * * \n",
      "  *   * \n",
      "    * * \n",
      "      * \n"
     ]
    }
   ],
   "source": [
    "'''    \n",
    "* * * *\n",
    " *    *\n",
    "   *  *\n",
    "      *\n",
    "'''\n",
    "for i in range(1,5):\n",
    "    for j in range(1,i):\n",
    "        print(\" \",end=\" \")\n",
    "    for k in range(i,5):\n",
    "        if(k==4 or i==1 or i==k):\n",
    "            print(\"*\",end=\" \")\n",
    "        else:\n",
    "            print(\" \",end=\" \")\n",
    "    print(\"\")"
   ]
  },
  {
   "cell_type": "code",
   "execution_count": 61,
   "id": "385378b2",
   "metadata": {},
   "outputs": [
    {
     "name": "stdout",
     "output_type": "stream",
     "text": [
      "* * * * \n",
      "*   * \n",
      "* * \n",
      "* \n"
     ]
    }
   ],
   "source": [
    "for i in range(1,5):\n",
    "    for j in range(4,i-1,-1):\n",
    "        if(i==1 or j==4 or i==j):\n",
    "            print(\"*\",end=\" \")\n",
    "        else:\n",
    "            print(\" \",end=\" \")\n",
    "    print(\"\")"
   ]
  },
  {
   "cell_type": "code",
   "execution_count": 89,
   "id": "fc40042e",
   "metadata": {},
   "outputs": [
    {
     "name": "stdout",
     "output_type": "stream",
     "text": [
      "* \n",
      "* * \n",
      "*   * \n",
      "* * * * \n"
     ]
    }
   ],
   "source": [
    "for i in range(1,5):\n",
    "    for j in range(1,i+1):\n",
    "        if(i==4 or j==1 or i==j):\n",
    "            print(\"*\",end=\" \")\n",
    "        else:\n",
    "            print(\" \",end=\" \")\n",
    "    print(\"\")"
   ]
  },
  {
   "cell_type": "code",
   "execution_count": null,
   "id": "d2cff76a",
   "metadata": {},
   "outputs": [],
   "source": [
    "\n"
   ]
  },
  {
   "cell_type": "code",
   "execution_count": null,
   "id": "0d59683d",
   "metadata": {},
   "outputs": [],
   "source": []
  }
 ],
 "metadata": {
  "kernelspec": {
   "display_name": "Python 3",
   "language": "python",
   "name": "python3"
  },
  "language_info": {
   "codemirror_mode": {
    "name": "ipython",
    "version": 3
   },
   "file_extension": ".py",
   "mimetype": "text/x-python",
   "name": "python",
   "nbconvert_exporter": "python",
   "pygments_lexer": "ipython3",
   "version": "3.8.8"
  }
 },
 "nbformat": 4,
 "nbformat_minor": 5
}

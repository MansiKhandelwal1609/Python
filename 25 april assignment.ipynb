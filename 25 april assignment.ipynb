{
 "cells": [
  {
   "cell_type": "code",
   "execution_count": 37,
   "id": "f73f2b1f",
   "metadata": {},
   "outputs": [
    {
     "name": "stdout",
     "output_type": "stream",
     "text": [
      "A B C D  \n",
      "  100 1000 10000  \n",
      "    B C  \n",
      "      100  \n"
     ]
    }
   ],
   "source": [
    "c=1\n",
    "x=10\n",
    "for i in range (1,5):\n",
    "  \n",
    "    for j in range(1,i):\n",
    "        print(\" \",end=\" \")\n",
    "    for k in range(i,5):\n",
    "        if(i%2!=0):\n",
    "            print(chr(64+c),end=\" \")\n",
    "            c+=1\n",
    "        else:\n",
    "            x*=10\n",
    "            print(x,end=\" \")\n",
    "          \n",
    "    c=2\n",
    "    x=10\n",
    "    print(\" \")"
   ]
  },
  {
   "cell_type": "code",
   "execution_count": 39,
   "id": "63c7959d",
   "metadata": {},
   "outputs": [
    {
     "name": "stdout",
     "output_type": "stream",
     "text": [
      "Enter your name: Mansi\n",
      "Hello, Mansi\n"
     ]
    }
   ],
   "source": [
    "# 1. Input your name into a variable called $name and then print \"Hello, <your name here>\".\n",
    "name=input(\"Enter your name: \")\n",
    "print(f\"Hello, {name}\")"
   ]
  },
  {
   "cell_type": "code",
   "execution_count": 43,
   "id": "beae4677",
   "metadata": {},
   "outputs": [
    {
     "name": "stdout",
     "output_type": "stream",
     "text": [
      "Enter a number: -10\n",
      "Enter a number: 1\n",
      "-9\n",
      "sum is negative\n"
     ]
    }
   ],
   "source": [
    "# 2. Write a program that adds two numbers and then prints out whether the sum of those two numbers is positive or negative.\n",
    "a=int(input(\"Enter a number: \"))\n",
    "b=int(input(\"Enter a number: \"))\n",
    "c=a+b\n",
    "print(c)\n",
    "if(c>=0):\n",
    "    print(\"sum is positive\")\n",
    "else:\n",
    "    print(\"sum is negative\")\n"
   ]
  },
  {
   "cell_type": "code",
   "execution_count": 48,
   "id": "24399b34",
   "metadata": {},
   "outputs": [
    {
     "name": "stdout",
     "output_type": "stream",
     "text": [
      "Enter a number: 45\n",
      "Enter a number: 78\n",
      "Enter a number: 98\n",
      "Enter a number: 74\n",
      "Enter a number: 45\n",
      "Enter a number: 100\n",
      "Correct!\n"
     ]
    }
   ],
   "source": [
    "# 3. Write a program that stores a number and keeps trying to get user input until the user enters the number correctly. \n",
    "# As soon as the correct number is entered, it prints: Correct!\n",
    "\n",
    "for i in range(1,100):\n",
    "    num=int(input(\"Enter a number: \"))\n",
    "    if(num==100):\n",
    "        print(\"Correct!\")\n",
    "        break\n"
   ]
  },
  {
   "cell_type": "code",
   "execution_count": 55,
   "id": "d8c74968",
   "metadata": {},
   "outputs": [
    {
     "name": "stdout",
     "output_type": "stream",
     "text": [
      "Enter your first name: m\n",
      "Enter your last name: k\n",
      "mk\n"
     ]
    }
   ],
   "source": [
    "# 4. Input your first name and last name as two separate variables, labeled as $firstname and $lastname respectively. \n",
    "# Concatenate them together using the dot operator '.' into a new variable called $wholename. Then print out the $wholename.\n",
    "firstname=input(\"Enter your first name: \")\n",
    "lastname=input(\"Enter your last name: \")\n",
    "wholename=firstname+lastname\n",
    "print(wholename)"
   ]
  },
  {
   "cell_type": "code",
   "execution_count": 58,
   "id": "4bf5ee9a",
   "metadata": {},
   "outputs": [
    {
     "name": "stdout",
     "output_type": "stream",
     "text": [
      "Enter a string: Mansi\n"
     ]
    },
    {
     "data": {
      "text/plain": [
       "'mANSI'"
      ]
     },
     "execution_count": 58,
     "metadata": {},
     "output_type": "execute_result"
    }
   ],
   "source": [
    "# 5. Write a program to accept an input string from the user and toggle the character cases.\n",
    "first=input(\"Enter a string: \")\n",
    "\n",
    "first.swapcase() # this function convert uppercase into lower and vice versa"
   ]
  },
  {
   "cell_type": "code",
   "execution_count": 60,
   "id": "1c4cd1bc",
   "metadata": {},
   "outputs": [
    {
     "name": "stdout",
     "output_type": "stream",
     "text": [
      "10 24\n"
     ]
    }
   ],
   "source": [
    "# 6. Write a program which will perform sum and multiplication ,that sums and multiplies (respectively) all the numbers \n",
    "# in a list of numbers. For example, sum([1, 2, 3, 4]) should return 10, and multiply([1, 2, 3, 4]) should return 24.\n",
    "s=0\n",
    "p=1\n",
    "mylist=[1,2,3,4]\n",
    "for i in mylist:\n",
    "    s+=i\n",
    "    p*=i\n",
    "print(s,p)"
   ]
  },
  {
   "cell_type": "code",
   "execution_count": 63,
   "id": "9626e4a2",
   "metadata": {},
   "outputs": [
    {
     "name": "stdout",
     "output_type": "stream",
     "text": [
      "Enter number of elements in the list: 5\n",
      "enter the element:7\n",
      "enter the element:6\n",
      "enter the element:4\n",
      "enter the element:1\n",
      "enter the element:0\n",
      "['7', '6', '4', '1', '0']\n",
      "Enter a number or string:5\n",
      "element is not present\n"
     ]
    }
   ],
   "source": [
    "'''\n",
    "7. Write a program that takes a value (i.e. a number, string, etc) x and a list of values a, and returns\n",
    "True if x is a member of a, False otherwise. (Note that this is exactly what the in operator does, but for\n",
    "the sake of the exercise you should pretend Python did not have this operator.\n",
    "'''\n",
    "n=int(input(\"Enter number of elements in the list: \"))\n",
    "a=[]\n",
    "for i in range(0,n):\n",
    "    element=input(\"enter the element:\")\n",
    "    a.append(element)\n",
    "print(a)\n",
    "x=input(\"Enter a number or string whether it is present or not in the list:\")\n",
    "for j in a:\n",
    "    if(j==x):\n",
    "        print(\"element is present\")\n",
    "        break\n",
    "    else:\n",
    "        print(\"element is not present\")\n",
    "        break\n",
    "        \n"
   ]
  },
  {
   "cell_type": "code",
   "execution_count": 67,
   "id": "931411cb",
   "metadata": {},
   "outputs": [
    {
     "name": "stdout",
     "output_type": "stream",
     "text": [
      "Enter number of elements: 4\n",
      "Enter the element:4\n",
      "Enter the element:5\n",
      "Enter the element:1\n",
      "Enter the element:7\n",
      "[4, 5, 1, 7]\n",
      "\n",
      "****\n",
      "*****\n",
      "*\n",
      "*******\n",
      "\n"
     ]
    }
   ],
   "source": [
    "''' \n",
    "9. Write a program for histogram that takes a list of integers and prints a histogram to the screen. For example, \n",
    "# histogram([4, 9, 7]) should print the following:\n",
    "\n",
    "****\n",
    "*********\n",
    "*******    \n",
    "'''\n",
    "\n",
    "n=int(input(\"Enter number of elements: \"))\n",
    "a=[]\n",
    "for i in range(0,n):\n",
    "    x=int(input(\"Enter the element:\"))\n",
    "    a.append(x)\n",
    "print(a)\n",
    "print(\"\")\n",
    "for j in a:\n",
    "    print(\"*\"*j)\n",
    "print(\"\")\n"
   ]
  },
  {
   "cell_type": "code",
   "execution_count": 96,
   "id": "ef5d7016",
   "metadata": {},
   "outputs": [
    {
     "name": "stdout",
     "output_type": "stream",
     "text": [
      "Participants who are only in 100m race\n",
      "Vikay\n",
      "John\n",
      "Kumar\n",
      "Rajesh\n",
      "Malar\n",
      "Vaihai\n",
      "\n",
      "Participants who are only in 200m race\n",
      "Vetry\n",
      "Petter\n",
      "Priyanka\n",
      "Kumar\n",
      "Malar\n",
      "\n",
      "Participants who are in both 100m and 200m \n",
      "Kumar\n",
      "Malar\n",
      "\n",
      "Participants who are only in one \n",
      "Vikay\n",
      "John\n",
      "Rajesh\n",
      "Vaihai\n",
      "Vetry\n",
      "Petter\n",
      "Priyanka\n"
     ]
    }
   ],
   "source": [
    "'''\n",
    "10 . List of athletes participated in 100m and 200m running race\n",
    "a. hundred_meters = [‘Vikay’,’John’,’Kumar’,’Rajesh’,’Malar’,’Vaihai’]\n",
    "b. two_hundred_meters = [‘Vetry’,’Petter’,’Priyanka’,’Kumar’,’Malar’]\n",
    "Find the answer for below question from above lists (using set and Boolean Operators)\n",
    "a. Find the athletes who participated only in 100m race\n",
    "b. Find the athletes who participated only in 200m race\n",
    "c. Find the athletes who participated both 100m and 200m race\n",
    "d. Find the athletes who participated only one race\n",
    "\n",
    "'''\n",
    "hundred_meters = [\"Vikay\",\"John\",\"Kumar\",\"Rajesh\",\"Malar\",\"Vaihai\"]\n",
    "two_hundred_meters = [\"Vetry\",\"Petter\",\"Priyanka\",\"Kumar\",\"Malar\"]\n",
    "\n",
    "#a\n",
    "print(f\"Participants who are only in 100m race\" ,*hundred_meters , sep=\"\\n\")\n",
    "print(\"\")\n",
    "\n",
    "#b\n",
    "print(f\"Participants who are only in 200m race\" ,*two_hundred_meters , sep=\"\\n\")\n",
    "print(\"\")\n",
    "\n",
    "#c\n",
    "bothraces=[]\n",
    "print(\"Participants who are in both 100m and 200m \")\n",
    "for i in hundred_meters:\n",
    "    for j in two_hundred_meters:\n",
    "        if(i==j):\n",
    "            print(i)\n",
    "            bothraces.append(i)\n",
    "print(\"\")\n",
    "            \n",
    "#d\n",
    "onerace = []\n",
    "print(\"Participants who are only in one \")\n",
    "for i in hundred_meters:\n",
    "    if(i not in two_hundred_meters):\n",
    "        onerace.append(i)\n",
    "for i in two_hundred_meters:\n",
    "    if(i not in hundred_meters):\n",
    "        onerace.append(i)\n",
    "print(*onerace,sep=\"\\n\")            \n",
    "         \n",
    "            \n",
    "            \n"
   ]
  },
  {
   "cell_type": "code",
   "execution_count": 104,
   "id": "b64fb00b",
   "metadata": {},
   "outputs": [
    {
     "name": "stdout",
     "output_type": "stream",
     "text": [
      "[5, 8, 18, 3]\n"
     ]
    }
   ],
   "source": [
    "# 11. Find the duplicate numbers from below list . a. List = [5, 8,4,18,8,55,6,8,3,18,5,3,44,]\n",
    "\n",
    "a = [5, 8,4,18,8,55,6,8,3,18,5,3,44,]\n",
    "x=[]\n",
    "for i in a:\n",
    "    y=a.count(i)\n",
    "    if(y>1):\n",
    "        if(i not in x):\n",
    "            x.append(i)\n",
    "print(x)\n",
    "\n",
    "\n"
   ]
  },
  {
   "cell_type": "code",
   "execution_count": 109,
   "id": "58ab929d",
   "metadata": {},
   "outputs": [
    {
     "name": "stdout",
     "output_type": "stream",
     "text": [
      "['cat']\n",
      "['tiger', 'cat']\n",
      "['lion', 'tiger', 'cat']\n",
      "['zebra', 'lion', 'tiger', 'cat']\n",
      "['crocodile', 'zebra', 'lion', 'tiger', 'cat']\n",
      "['snack', 'crocodile', 'zebra', 'lion', 'tiger', 'cat']\n"
     ]
    }
   ],
   "source": [
    "# 12. Reverse the below list without using any inbuilt keywords (like reverse() or [::-1])\n",
    "\n",
    "lst = [\"cat\",\"tiger\",\"lion\", \"zebra\" , \"crocodile\", \"snack\"]\n",
    "x=[]\n",
    "for i in lst:\n",
    "    x.insert(0,i)\n",
    "    print(x)"
   ]
  },
  {
   "cell_type": "code",
   "execution_count": null,
   "id": "74dc656f",
   "metadata": {},
   "outputs": [],
   "source": []
  }
 ],
 "metadata": {
  "kernelspec": {
   "display_name": "Python 3",
   "language": "python",
   "name": "python3"
  },
  "language_info": {
   "codemirror_mode": {
    "name": "ipython",
    "version": 3
   },
   "file_extension": ".py",
   "mimetype": "text/x-python",
   "name": "python",
   "nbconvert_exporter": "python",
   "pygments_lexer": "ipython3",
   "version": "3.8.8"
  }
 },
 "nbformat": 4,
 "nbformat_minor": 5
}

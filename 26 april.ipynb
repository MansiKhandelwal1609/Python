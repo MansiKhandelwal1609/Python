{
 "cells": [
  {
   "cell_type": "code",
   "execution_count": 1,
   "id": "454c9423",
   "metadata": {},
   "outputs": [
    {
     "data": {
      "text/plain": [
       "['hey', 'tushar', 'hey']"
      ]
     },
     "execution_count": 1,
     "metadata": {},
     "output_type": "execute_result"
    }
   ],
   "source": [
    "data=\"hey tushar hey\"\n",
    "data.split()"
   ]
  },
  {
   "cell_type": "code",
   "execution_count": 5,
   "id": "1185c45b",
   "metadata": {},
   "outputs": [
    {
     "name": "stdout",
     "output_type": "stream",
     "text": [
      "['hey', 'tushar', 'hey'] <class 'list'>\n"
     ]
    }
   ],
   "source": [
    "data=\"hey tushar hey\"\n",
    "x=data.split()\n",
    "print(x,type(x))"
   ]
  },
  {
   "cell_type": "code",
   "execution_count": 8,
   "id": "9e132c73",
   "metadata": {},
   "outputs": [
    {
     "name": "stdout",
     "output_type": "stream",
     "text": [
      "['hey', 'tushar', 'hello', 'user']\n"
     ]
    }
   ],
   "source": [
    "data=\"hey tushar hey hello hey user user hey\"\n",
    "mylist=data.split()\n",
    "\n",
    "newlist=[]\n",
    "for i in mylist:\n",
    "    if i not in newlist:\n",
    "        newlist.append(i)\n",
    "print(newlist)"
   ]
  },
  {
   "cell_type": "code",
   "execution_count": 9,
   "id": "ea37558c",
   "metadata": {},
   "outputs": [],
   "source": [
    "# tuple\n",
    "# collection of multiple datatype\n",
    "# immutable\n",
    "# index position ()"
   ]
  },
  {
   "cell_type": "code",
   "execution_count": 10,
   "id": "20f020aa",
   "metadata": {},
   "outputs": [
    {
     "name": "stdout",
     "output_type": "stream",
     "text": [
      "<class 'tuple'>\n"
     ]
    }
   ],
   "source": [
    "mytuple=10,20 \n",
    "print(type(mytuple))"
   ]
  },
  {
   "cell_type": "code",
   "execution_count": 11,
   "id": "164472e9",
   "metadata": {},
   "outputs": [
    {
     "name": "stdout",
     "output_type": "stream",
     "text": [
      "<class 'tuple'>\n"
     ]
    }
   ],
   "source": [
    "mytuple=10, # if you want to store only one elemnet in tuple then comma sep should be there\n",
    "print(type(mytuple))"
   ]
  },
  {
   "cell_type": "code",
   "execution_count": 12,
   "id": "8b2a7d5e",
   "metadata": {},
   "outputs": [
    {
     "name": "stdout",
     "output_type": "stream",
     "text": [
      "<class 'tuple'>\n"
     ]
    }
   ],
   "source": [
    "mytuple=(10,20,\"hey\",10.0)\n",
    "print(type(mytuple))"
   ]
  },
  {
   "cell_type": "code",
   "execution_count": 13,
   "id": "79ba10e8",
   "metadata": {},
   "outputs": [
    {
     "data": {
      "text/plain": [
       "(10, 20, 'hey', 10.0)"
      ]
     },
     "execution_count": 13,
     "metadata": {},
     "output_type": "execute_result"
    }
   ],
   "source": [
    "mytuple"
   ]
  },
  {
   "cell_type": "code",
   "execution_count": 14,
   "id": "0b65c592",
   "metadata": {},
   "outputs": [
    {
     "data": {
      "text/plain": [
       "10"
      ]
     },
     "execution_count": 14,
     "metadata": {},
     "output_type": "execute_result"
    }
   ],
   "source": [
    "mytuple[0]"
   ]
  },
  {
   "cell_type": "code",
   "execution_count": 15,
   "id": "14da18bc",
   "metadata": {},
   "outputs": [
    {
     "data": {
      "text/plain": [
       "2"
      ]
     },
     "execution_count": 15,
     "metadata": {},
     "output_type": "execute_result"
    }
   ],
   "source": [
    "mytuple.index(\"hey\")"
   ]
  },
  {
   "cell_type": "code",
   "execution_count": 16,
   "id": "2927bb83",
   "metadata": {},
   "outputs": [
    {
     "ename": "TypeError",
     "evalue": "'tuple' object does not support item assignment",
     "output_type": "error",
     "traceback": [
      "\u001b[1;31m---------------------------------------------------------------------------\u001b[0m",
      "\u001b[1;31mTypeError\u001b[0m                                 Traceback (most recent call last)",
      "\u001b[1;32m<ipython-input-16-b1fa48d991d4>\u001b[0m in \u001b[0;36m<module>\u001b[1;34m\u001b[0m\n\u001b[1;32m----> 1\u001b[1;33m \u001b[0mmytuple\u001b[0m\u001b[1;33m[\u001b[0m\u001b[1;36m0\u001b[0m\u001b[1;33m]\u001b[0m\u001b[1;33m=\u001b[0m\u001b[1;36m100\u001b[0m\u001b[1;33m\u001b[0m\u001b[1;33m\u001b[0m\u001b[0m\n\u001b[0m",
      "\u001b[1;31mTypeError\u001b[0m: 'tuple' object does not support item assignment"
     ]
    }
   ],
   "source": [
    "mytuple[0]=100\n"
   ]
  },
  {
   "cell_type": "code",
   "execution_count": 23,
   "id": "a3ace941",
   "metadata": {},
   "outputs": [
    {
     "data": {
      "text/plain": [
       "2019499487120"
      ]
     },
     "execution_count": 23,
     "metadata": {},
     "output_type": "execute_result"
    }
   ],
   "source": [
    "mytuple=(10,20,\"hey\",10.0)\n",
    "id(mytuple)"
   ]
  },
  {
   "cell_type": "code",
   "execution_count": 24,
   "id": "ee63ec0b",
   "metadata": {},
   "outputs": [
    {
     "data": {
      "text/plain": [
       "(10, 20, 'hey', 10.0, 60, 80, 90)"
      ]
     },
     "execution_count": 24,
     "metadata": {},
     "output_type": "execute_result"
    }
   ],
   "source": [
    "mytuple=mytuple+(60,80,90)\n",
    "mytuple # new tuple is created at different location with same name"
   ]
  },
  {
   "cell_type": "code",
   "execution_count": 25,
   "id": "ced83169",
   "metadata": {},
   "outputs": [
    {
     "data": {
      "text/plain": [
       "2019498211168"
      ]
     },
     "execution_count": 25,
     "metadata": {},
     "output_type": "execute_result"
    }
   ],
   "source": [
    "id(mytuple) # both have different memory addresses"
   ]
  },
  {
   "cell_type": "code",
   "execution_count": 28,
   "id": "4026d526",
   "metadata": {},
   "outputs": [
    {
     "name": "stdout",
     "output_type": "stream",
     "text": [
      "['hey', 'tushar', 'hey', 'hello', 'hello', 'tushar']\n",
      "hey 2\n",
      "tushar 2\n",
      "hey 2\n",
      "hello 2\n",
      "hello 2\n",
      "tushar 2\n"
     ]
    }
   ],
   "source": [
    "# \"hey tushar hey hello hello tushar\"\n",
    "x=\"hey tushar hey hello hello tushar\"\n",
    "lst=x.split()\n",
    "print(lst)\n",
    "for i in lst:\n",
    "    y=lst.count(i)\n",
    "    print(i,y)"
   ]
  },
  {
   "cell_type": "code",
   "execution_count": 29,
   "id": "f4cb1aaa",
   "metadata": {},
   "outputs": [],
   "source": [
    "# armstrong number\n",
    "# 153  1**3 + 5**3 + 3**3 --->1+125+27 = 153 "
   ]
  },
  {
   "cell_type": "code",
   "execution_count": 36,
   "id": "d41d5296",
   "metadata": {},
   "outputs": [
    {
     "name": "stdout",
     "output_type": "stream",
     "text": [
      "Armstrong number\n"
     ]
    }
   ],
   "source": [
    "x=153\n",
    "rem=0\n",
    "total=0\n",
    "y=x\n",
    "while(x>0):\n",
    "    rem=x%10\n",
    "    total+=rem**3\n",
    "    x=x//10\n",
    "if(total==y):\n",
    "    print(\"Armstrong number\")\n",
    "else:\n",
    "    print(\"Not a armstrong number\")"
   ]
  },
  {
   "cell_type": "code",
   "execution_count": 35,
   "id": "bffe16f4",
   "metadata": {},
   "outputs": [
    {
     "name": "stdout",
     "output_type": "stream",
     "text": [
      "Enter a number:153\n",
      "Armstrong number\n"
     ]
    }
   ],
   "source": [
    "x=int(input(\"Enter a number:\"))\n",
    "rem=0\n",
    "total=0\n",
    "y=x\n",
    "while(x>0):\n",
    "    rem=x%10\n",
    "    total+=rem**3\n",
    "    x=x//10\n",
    "if(total==y):\n",
    "    print(\"Armstrong number\")\n",
    "else:\n",
    "    print(\"Not a armstrong number\")"
   ]
  },
  {
   "cell_type": "code",
   "execution_count": null,
   "id": "9907be69",
   "metadata": {},
   "outputs": [],
   "source": [
    "# to find out whether a 4 digit number is a armstrong number or not\n",
    "# to find out all the unique word from a string \"hey hello user tushar tushar hello\" ----> [hey,user]"
   ]
  }
 ],
 "metadata": {
  "kernelspec": {
   "display_name": "Python 3",
   "language": "python",
   "name": "python3"
  },
  "language_info": {
   "codemirror_mode": {
    "name": "ipython",
    "version": 3
   },
   "file_extension": ".py",
   "mimetype": "text/x-python",
   "name": "python",
   "nbconvert_exporter": "python",
   "pygments_lexer": "ipython3",
   "version": "3.8.8"
  }
 },
 "nbformat": 4,
 "nbformat_minor": 5
}

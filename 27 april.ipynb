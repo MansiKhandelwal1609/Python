{
 "cells": [
  {
   "cell_type": "code",
   "execution_count": 1,
   "id": "491a8a26",
   "metadata": {},
   "outputs": [],
   "source": [
    "# dictionary\n",
    "# collection of element \n",
    "# comma sep\n",
    "#{}\n",
    "# key:value (element)\n",
    "# key:value, key:value\n",
    "# donot have index position\n",
    "# mutable"
   ]
  },
  {
   "cell_type": "code",
   "execution_count": 2,
   "id": "02fb7f20",
   "metadata": {},
   "outputs": [
    {
     "name": "stdout",
     "output_type": "stream",
     "text": [
      "{1: 'Tushar', 2: 'Aman', 3: 'Aditya'}\n"
     ]
    }
   ],
   "source": [
    "mydict={1:\"Tushar\",2:\"Aman\",3:\"Aditya\"}\n",
    "print(mydict)"
   ]
  },
  {
   "cell_type": "code",
   "execution_count": 3,
   "id": "68548e76",
   "metadata": {},
   "outputs": [
    {
     "name": "stdout",
     "output_type": "stream",
     "text": [
      "{1: 'Tushar', 2: 'Aman', 3: 'Aditya', 'company': 'regex software'}\n"
     ]
    }
   ],
   "source": [
    "mydict={1:\"Tushar\",2:\"Aman\",3:\"Aditya\",\"company\":\"regex software\"}\n",
    "print(mydict)"
   ]
  },
  {
   "cell_type": "code",
   "execution_count": 6,
   "id": "96497e7d",
   "metadata": {},
   "outputs": [
    {
     "ename": "KeyError",
     "evalue": "0",
     "output_type": "error",
     "traceback": [
      "\u001b[1;31m---------------------------------------------------------------------------\u001b[0m",
      "\u001b[1;31mKeyError\u001b[0m                                  Traceback (most recent call last)",
      "\u001b[1;32m<ipython-input-6-1529edbf7ad5>\u001b[0m in \u001b[0;36m<module>\u001b[1;34m\u001b[0m\n\u001b[1;32m----> 1\u001b[1;33m \u001b[0mmydict\u001b[0m\u001b[1;33m[\u001b[0m\u001b[1;36m0\u001b[0m\u001b[1;33m]\u001b[0m\u001b[1;33m\u001b[0m\u001b[1;33m\u001b[0m\u001b[0m\n\u001b[0m",
      "\u001b[1;31mKeyError\u001b[0m: 0"
     ]
    }
   ],
   "source": [
    "mydict[0]"
   ]
  },
  {
   "cell_type": "code",
   "execution_count": 7,
   "id": "ef969e48",
   "metadata": {},
   "outputs": [
    {
     "data": {
      "text/plain": [
       "'Tushar'"
      ]
     },
     "execution_count": 7,
     "metadata": {},
     "output_type": "execute_result"
    }
   ],
   "source": [
    "mydict[1] # if we want value against any key then key should be given in []"
   ]
  },
  {
   "cell_type": "code",
   "execution_count": 8,
   "id": "3f29e916",
   "metadata": {},
   "outputs": [
    {
     "name": "stdout",
     "output_type": "stream",
     "text": [
      "{1: 'Yash', 2: 'Aman', 3: 'Aditya', 'company': 'regex software'}\n"
     ]
    }
   ],
   "source": [
    "# we can update value using key\n",
    "mydict[1]=\"Yash\"\n",
    "print(mydict)"
   ]
  },
  {
   "cell_type": "code",
   "execution_count": 9,
   "id": "9140f90d",
   "metadata": {},
   "outputs": [
    {
     "data": {
      "text/plain": [
       "{1: 'Yash', 2: 'Aman', 3: 'Aditya', 'company': 'regex software', 4: 500}"
      ]
     },
     "execution_count": 9,
     "metadata": {},
     "output_type": "execute_result"
    }
   ],
   "source": [
    "# insert based on key value\n",
    "mydict[4]=500\n",
    "mydict"
   ]
  },
  {
   "cell_type": "code",
   "execution_count": 10,
   "id": "0de7b0a0",
   "metadata": {},
   "outputs": [
    {
     "name": "stdout",
     "output_type": "stream",
     "text": [
      "Aman\n"
     ]
    }
   ],
   "source": [
    "x=mydict.pop(2) # pop in dictionary gives the deleted value , we can store that and use later\n",
    "print(x)"
   ]
  },
  {
   "cell_type": "code",
   "execution_count": 11,
   "id": "bb39ac79",
   "metadata": {},
   "outputs": [
    {
     "data": {
      "text/plain": [
       "{1: 'Yash', 3: 'Aditya', 'company': 'regex software', 4: 500}"
      ]
     },
     "execution_count": 11,
     "metadata": {},
     "output_type": "execute_result"
    }
   ],
   "source": [
    "mydict"
   ]
  },
  {
   "cell_type": "code",
   "execution_count": 14,
   "id": "abfb9948",
   "metadata": {},
   "outputs": [
    {
     "name": "stdout",
     "output_type": "stream",
     "text": [
      "('company', 'regex software')\n"
     ]
    },
    {
     "data": {
      "text/plain": [
       "tuple"
      ]
     },
     "execution_count": 14,
     "metadata": {},
     "output_type": "execute_result"
    }
   ],
   "source": [
    "x=mydict.popitem() # delete last element of dictionary , gives a key value pair as tuple\n",
    "print(x) \n",
    "type(x)"
   ]
  },
  {
   "cell_type": "code",
   "execution_count": 13,
   "id": "aa876451",
   "metadata": {},
   "outputs": [
    {
     "data": {
      "text/plain": [
       "{1: 'Yash', 3: 'Aditya', 'company': 'regex software'}"
      ]
     },
     "execution_count": 13,
     "metadata": {},
     "output_type": "execute_result"
    }
   ],
   "source": [
    "mydict"
   ]
  },
  {
   "cell_type": "code",
   "execution_count": 15,
   "id": "0e800783",
   "metadata": {},
   "outputs": [
    {
     "data": {
      "text/plain": [
       "True"
      ]
     },
     "execution_count": 15,
     "metadata": {},
     "output_type": "execute_result"
    }
   ],
   "source": [
    "1 in mydict # it will search in key "
   ]
  },
  {
   "cell_type": "code",
   "execution_count": 16,
   "id": "503e1dfe",
   "metadata": {},
   "outputs": [
    {
     "data": {
      "text/plain": [
       "False"
      ]
     },
     "execution_count": 16,
     "metadata": {},
     "output_type": "execute_result"
    }
   ],
   "source": [
    "\"Tushar\" in mydict"
   ]
  },
  {
   "cell_type": "code",
   "execution_count": 19,
   "id": "c0dc0303",
   "metadata": {},
   "outputs": [
    {
     "data": {
      "text/plain": [
       "{1: 'Yash'}"
      ]
     },
     "execution_count": 19,
     "metadata": {},
     "output_type": "execute_result"
    }
   ],
   "source": [
    "mydict"
   ]
  },
  {
   "cell_type": "code",
   "execution_count": 20,
   "id": "011871ef",
   "metadata": {},
   "outputs": [],
   "source": [
    "mydict={1:\"Tushar\",2:\"Aman\",3:\"Aditya\"}"
   ]
  },
  {
   "cell_type": "code",
   "execution_count": 21,
   "id": "c83e80ce",
   "metadata": {},
   "outputs": [
    {
     "data": {
      "text/plain": [
       "dict_keys([1, 2, 3])"
      ]
     },
     "execution_count": 21,
     "metadata": {},
     "output_type": "execute_result"
    }
   ],
   "source": [
    "mydict.keys()"
   ]
  },
  {
   "cell_type": "code",
   "execution_count": 22,
   "id": "b989636c",
   "metadata": {},
   "outputs": [
    {
     "data": {
      "text/plain": [
       "dict_values(['Tushar', 'Aman', 'Aditya'])"
      ]
     },
     "execution_count": 22,
     "metadata": {},
     "output_type": "execute_result"
    }
   ],
   "source": [
    "mydict.values()"
   ]
  },
  {
   "cell_type": "code",
   "execution_count": 23,
   "id": "941c655b",
   "metadata": {},
   "outputs": [
    {
     "data": {
      "text/plain": [
       "dict_items([(1, 'Tushar'), (2, 'Aman'), (3, 'Aditya')])"
      ]
     },
     "execution_count": 23,
     "metadata": {},
     "output_type": "execute_result"
    }
   ],
   "source": [
    "mydict.items()"
   ]
  },
  {
   "cell_type": "code",
   "execution_count": 24,
   "id": "2ad34ae6",
   "metadata": {},
   "outputs": [
    {
     "data": {
      "text/plain": [
       "{1: 'Tushar', 2: 'Aman', 3: 'Aditya'}"
      ]
     },
     "execution_count": 24,
     "metadata": {},
     "output_type": "execute_result"
    }
   ],
   "source": [
    "mydict\n"
   ]
  },
  {
   "cell_type": "code",
   "execution_count": 25,
   "id": "3ff71d36",
   "metadata": {},
   "outputs": [
    {
     "data": {
      "text/plain": [
       "'Aman'"
      ]
     },
     "execution_count": 25,
     "metadata": {},
     "output_type": "execute_result"
    }
   ],
   "source": [
    "mydict.pop(2)"
   ]
  },
  {
   "cell_type": "code",
   "execution_count": 26,
   "id": "f9a5e45a",
   "metadata": {},
   "outputs": [
    {
     "data": {
      "text/plain": [
       "{1: 'Tushar', 3: 'Aditya'}"
      ]
     },
     "execution_count": 26,
     "metadata": {},
     "output_type": "execute_result"
    }
   ],
   "source": [
    "mydict"
   ]
  },
  {
   "cell_type": "code",
   "execution_count": 28,
   "id": "7f2c31ac",
   "metadata": {},
   "outputs": [],
   "source": [
    "x=100\n",
    "if(x in mydict):\n",
    "    print(x)"
   ]
  },
  {
   "cell_type": "code",
   "execution_count": 29,
   "id": "6bd15797",
   "metadata": {},
   "outputs": [
    {
     "name": "stdout",
     "output_type": "stream",
     "text": [
      "1\n"
     ]
    }
   ],
   "source": [
    "x=1\n",
    "if(x in mydict):\n",
    "    print(x)"
   ]
  },
  {
   "cell_type": "code",
   "execution_count": 30,
   "id": "868f94a5",
   "metadata": {},
   "outputs": [
    {
     "name": "stdout",
     "output_type": "stream",
     "text": [
      "100\n"
     ]
    }
   ],
   "source": [
    "x=100\n",
    "if(x not in mydict):\n",
    "    print(x)"
   ]
  },
  {
   "cell_type": "code",
   "execution_count": 31,
   "id": "d220ab59",
   "metadata": {},
   "outputs": [
    {
     "name": "stdout",
     "output_type": "stream",
     "text": [
      "{1: 'Tushar', 3: 'Aditya', 100: 1}\n"
     ]
    }
   ],
   "source": [
    "x=100\n",
    "if(x not in mydict):\n",
    "    mydict[x]=1\n",
    "print(mydict)"
   ]
  },
  {
   "cell_type": "code",
   "execution_count": 32,
   "id": "33009937",
   "metadata": {},
   "outputs": [
    {
     "name": "stdout",
     "output_type": "stream",
     "text": [
      "{1: 'Tushar', 3: 'Aditya', 100: 1, 200: 1}\n"
     ]
    }
   ],
   "source": [
    "x=200\n",
    "if(x not in mydict):\n",
    "    mydict[x]=1\n",
    "print(mydict)"
   ]
  },
  {
   "cell_type": "code",
   "execution_count": 35,
   "id": "f185483a",
   "metadata": {},
   "outputs": [
    {
     "name": "stdout",
     "output_type": "stream",
     "text": [
      "{'totalcharacter': 12}\n"
     ]
    }
   ],
   "source": [
    "# using dict find how many characters are present\n",
    "x=\"hello tushar\"\n",
    "y=len(x)\n",
    "newdict={}\n",
    "newdict[\"totalcharacter\"]=y\n",
    "print(newdict)"
   ]
  },
  {
   "cell_type": "code",
   "execution_count": 44,
   "id": "00ab3ca1",
   "metadata": {},
   "outputs": [
    {
     "name": "stdout",
     "output_type": "stream",
     "text": [
      "{'totalchar': 12}\n"
     ]
    }
   ],
   "source": [
    "mydict1={}\n",
    "data=\"hello tushar\"\n",
    "for i in data:\n",
    "    if(\"totalchar\" not in mydict1 ):\n",
    "        mydict1[\"totalchar\"]=1\n",
    "    else:\n",
    "        mydict1[\"totalchar\"]+=1\n",
    "print(mydict1)\n"
   ]
  },
  {
   "cell_type": "code",
   "execution_count": 45,
   "id": "4dba9984",
   "metadata": {},
   "outputs": [
    {
     "name": "stdout",
     "output_type": "stream",
     "text": [
      "{'h': 4, 'e': 2, 'l': 2, 'o': 1, ' ': 3, 't': 1, 'u': 1, 's': 2, 'a': 2, 'r': 1, 'y': 2}\n"
     ]
    }
   ],
   "source": [
    "mydict={}\n",
    "data=\"hello tushar yash hey\"\n",
    "for i in data:\n",
    "    if(i not in mydict):\n",
    "        mydict[i]=1\n",
    "    else:\n",
    "        mydict[i]+=1\n",
    "print(mydict)"
   ]
  },
  {
   "cell_type": "code",
   "execution_count": 50,
   "id": "e492f9a6",
   "metadata": {},
   "outputs": [
    {
     "name": "stdout",
     "output_type": "stream",
     "text": [
      "{'e': 2, 'o': 1, 'u': 1, 'a': 2}\n"
     ]
    }
   ],
   "source": [
    "mydict={}\n",
    "data=\"hello tushar yash hey\"\n",
    "for i in data:\n",
    "    if(i not in mydict):\n",
    "        if( i=='a' or i=='i' or i=='o' or i=='e' or i=='u'):\n",
    "            mydict[i]=1\n",
    "    else:\n",
    "        mydict[i]+=1\n",
    "print(mydict)"
   ]
  },
  {
   "cell_type": "code",
   "execution_count": 62,
   "id": "81721dba",
   "metadata": {},
   "outputs": [
    {
     "name": "stdout",
     "output_type": "stream",
     "text": [
      "{'vowels': 6}\n"
     ]
    }
   ],
   "source": [
    "mydict={}\n",
    "data=\"hello tushar yash hey\"\n",
    "for i in data:\n",
    "    if(\"vowels\" not in mydict):\n",
    "        if( i=='a' or i=='i' or i=='o' or i=='e' or i=='u'):\n",
    "            mydict[\"vowels\"]=1\n",
    "    else:\n",
    "        if( i=='a' or i=='i' or i=='o' or i=='e' or i=='u'):\n",
    "            mydict[\"vowels\"]+=1\n",
    "        \n",
    "         \n",
    "print(mydict)"
   ]
  },
  {
   "cell_type": "code",
   "execution_count": 63,
   "id": "5041deca",
   "metadata": {},
   "outputs": [
    {
     "name": "stdout",
     "output_type": "stream",
     "text": [
      "{'e': 2, 'o': 1, 'u': 1, 'a': 2}\n"
     ]
    }
   ],
   "source": [
    "mydict={}\n",
    "data=\"hello tushar yash hey\"\n",
    "for i in data:\n",
    "    if(i not in mydict):\n",
    "        if( i=='a' or i=='i' or i=='o' or i=='e' or i=='u'):\n",
    "            mydict[i]=1\n",
    "    else:\n",
    "        if( i=='a' or i=='i' or i=='o' or i=='e' or i=='u'):\n",
    "            mydict[i]+=1\n",
    "print(mydict)"
   ]
  },
  {
   "cell_type": "code",
   "execution_count": 67,
   "id": "6499f1ca",
   "metadata": {},
   "outputs": [
    {
     "name": "stdout",
     "output_type": "stream",
     "text": [
      "{'e': 2, 'o': 1, 'u': 1, 'a': 2}\n"
     ]
    }
   ],
   "source": [
    "mydict={}\n",
    "data=\"hello tushar yash hey\"\n",
    "for i in data:\n",
    "    if( i=='a' or i=='i' or i=='o' or i=='e' or i=='u'):\n",
    "        if(i not in mydict):\n",
    "            mydict[i]=1\n",
    "        else:\n",
    "            mydict[i]+=1\n",
    "print(mydict)"
   ]
  },
  {
   "cell_type": "code",
   "execution_count": null,
   "id": "8aadaed3",
   "metadata": {},
   "outputs": [],
   "source": []
  }
 ],
 "metadata": {
  "kernelspec": {
   "display_name": "Python 3",
   "language": "python",
   "name": "python3"
  },
  "language_info": {
   "codemirror_mode": {
    "name": "ipython",
    "version": 3
   },
   "file_extension": ".py",
   "mimetype": "text/x-python",
   "name": "python",
   "nbconvert_exporter": "python",
   "pygments_lexer": "ipython3",
   "version": "3.8.8"
  }
 },
 "nbformat": 4,
 "nbformat_minor": 5
}

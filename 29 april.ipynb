{
 "cells": [
  {
   "cell_type": "code",
   "execution_count": 1,
   "id": "a849e350",
   "metadata": {},
   "outputs": [
    {
     "name": "stdout",
     "output_type": "stream",
     "text": [
      "2\n",
      "4\n",
      "1\n",
      "3\n"
     ]
    }
   ],
   "source": [
    "    x = int(input())\n",
    "    y = int(input())\n",
    "    z = int(input())\n",
    "    n = int(input())\n",
    "    newlist=[]\n",
    "    a=[]\n",
    "    for i in range(0,x+1):\n",
    "        a=[]\n",
    "        for j in range(0,y+1):\n",
    "            for k in range(0,z+1):\n",
    "                if(i+j+k<n):\n",
    "                    a.append(i)\n",
    "                    a.append(j)\n",
    "                    a.append(k)\n",
    "                    newlist.append(a)\n",
    "                    "
   ]
  },
  {
   "cell_type": "code",
   "execution_count": 52,
   "id": "4e244652",
   "metadata": {},
   "outputs": [
    {
     "name": "stdout",
     "output_type": "stream",
     "text": [
      "Enter the number of days:10\n",
      "514\n"
     ]
    }
   ],
   "source": [
    "'''\n",
    "12 days \n",
    "sunday start\n",
    "1 2 3 4 5 6 7\n",
    "2 3 4 5 6 \n",
    "\n",
    "\n",
    "'''\n",
    "\n",
    "\n",
    "\n",
    "x=int(input(\"Enter the number of days:\"))\n",
    "count=1\n",
    "for i in range(1,x+1):\n",
    "    \n",
    "    if(x%8==0):\n",
    "        count=1\n",
    "        total+=1\n",
    "    else:\n",
    "        total+=1\n",
    "    count+=1\n",
    "print()"
   ]
  },
  {
   "cell_type": "code",
   "execution_count": 3,
   "id": "4d22f65c",
   "metadata": {},
   "outputs": [],
   "source": [
    "# set \n",
    "# collection of elements,unique\n",
    "# mutable in nature\n",
    "# {}\n",
    "# set can only have immutable datatype as element\n"
   ]
  },
  {
   "cell_type": "code",
   "execution_count": 4,
   "id": "ebb4dcf2",
   "metadata": {},
   "outputs": [
    {
     "name": "stdout",
     "output_type": "stream",
     "text": [
      "<class 'dict'>\n"
     ]
    }
   ],
   "source": [
    "myset={}\n",
    "print(type(myset))"
   ]
  },
  {
   "cell_type": "code",
   "execution_count": 5,
   "id": "ef9c4d4b",
   "metadata": {},
   "outputs": [
    {
     "name": "stdout",
     "output_type": "stream",
     "text": [
      "<class 'set'>\n"
     ]
    }
   ],
   "source": [
    "myset=set({})\n",
    "print(type(myset))"
   ]
  },
  {
   "cell_type": "code",
   "execution_count": 6,
   "id": "38100fd6",
   "metadata": {},
   "outputs": [
    {
     "name": "stdout",
     "output_type": "stream",
     "text": [
      "{10, 20, 30}\n"
     ]
    }
   ],
   "source": [
    "myset={10,20,30}\n",
    "print(myset)"
   ]
  },
  {
   "cell_type": "code",
   "execution_count": 7,
   "id": "9906d702",
   "metadata": {},
   "outputs": [
    {
     "name": "stdout",
     "output_type": "stream",
     "text": [
      "{10, 20, 30}\n"
     ]
    }
   ],
   "source": [
    "myset={10,20,30,20,10,30,10}\n",
    "print(myset) # set only have unique element if duplicated then it will give one time"
   ]
  },
  {
   "cell_type": "code",
   "execution_count": 8,
   "id": "6a1750ad",
   "metadata": {},
   "outputs": [],
   "source": [
    "# unordered datatype\n",
    "# no index"
   ]
  },
  {
   "cell_type": "code",
   "execution_count": 9,
   "id": "db9ced86",
   "metadata": {},
   "outputs": [
    {
     "name": "stdout",
     "output_type": "stream",
     "text": [
      "{'yash', 40, 10, 20, 30}\n"
     ]
    }
   ],
   "source": [
    "myset={10,20,30,10,40,\"yash\"}\n",
    "print(myset)"
   ]
  },
  {
   "cell_type": "code",
   "execution_count": 10,
   "id": "ff5bcfb0",
   "metadata": {},
   "outputs": [
    {
     "ename": "TypeError",
     "evalue": "unhashable type: 'list'",
     "output_type": "error",
     "traceback": [
      "\u001b[1;31m---------------------------------------------------------------------------\u001b[0m",
      "\u001b[1;31mTypeError\u001b[0m                                 Traceback (most recent call last)",
      "\u001b[1;32m<ipython-input-10-7a26364fb8e2>\u001b[0m in \u001b[0;36m<module>\u001b[1;34m\u001b[0m\n\u001b[1;32m----> 1\u001b[1;33m \u001b[0mmyset\u001b[0m\u001b[1;33m=\u001b[0m\u001b[1;33m{\u001b[0m\u001b[1;36m10\u001b[0m\u001b[1;33m,\u001b[0m\u001b[1;36m20\u001b[0m\u001b[1;33m,\u001b[0m\u001b[1;36m30\u001b[0m\u001b[1;33m,\u001b[0m\u001b[1;36m10\u001b[0m\u001b[1;33m,\u001b[0m\u001b[1;36m40\u001b[0m\u001b[1;33m,\u001b[0m\u001b[1;34m\"yash\"\u001b[0m\u001b[1;33m,\u001b[0m\u001b[1;33m[\u001b[0m\u001b[1;36m10\u001b[0m\u001b[1;33m,\u001b[0m\u001b[1;36m0\u001b[0m\u001b[1;33m]\u001b[0m\u001b[1;33m,\u001b[0m\u001b[1;33m(\u001b[0m\u001b[1;36m10\u001b[0m\u001b[1;33m,\u001b[0m\u001b[1;36m20\u001b[0m\u001b[1;33m)\u001b[0m\u001b[1;33m}\u001b[0m\u001b[1;33m\u001b[0m\u001b[1;33m\u001b[0m\u001b[0m\n\u001b[0m\u001b[0;32m      2\u001b[0m \u001b[0mprint\u001b[0m\u001b[1;33m(\u001b[0m\u001b[0mmyset\u001b[0m\u001b[1;33m)\u001b[0m\u001b[1;33m\u001b[0m\u001b[1;33m\u001b[0m\u001b[0m\n",
      "\u001b[1;31mTypeError\u001b[0m: unhashable type: 'list'"
     ]
    }
   ],
   "source": [
    "myset={10,20,30,10,40,\"yash\",[10,0],(10,20)}\n",
    "print(myset)"
   ]
  },
  {
   "cell_type": "code",
   "execution_count": 11,
   "id": "70a54473",
   "metadata": {},
   "outputs": [
    {
     "name": "stdout",
     "output_type": "stream",
     "text": [
      "{'yash', 40, 10, (10, 20), 20, 30}\n"
     ]
    }
   ],
   "source": [
    "myset={10,20,30,10,40,\"yash\",(10,20)}\n",
    "print(myset)"
   ]
  },
  {
   "cell_type": "code",
   "execution_count": 12,
   "id": "e931f4d3",
   "metadata": {},
   "outputs": [
    {
     "data": {
      "text/plain": [
       "{(10, 20), 10, 20, 30, 40, 800, 'yash'}"
      ]
     },
     "execution_count": 12,
     "metadata": {},
     "output_type": "execute_result"
    }
   ],
   "source": [
    "myset.add(800)\n",
    "myset"
   ]
  },
  {
   "cell_type": "code",
   "execution_count": 13,
   "id": "bc9dca3c",
   "metadata": {},
   "outputs": [
    {
     "data": {
      "text/plain": [
       "{(10, 20), 10, 20, 30, 40, 800, 888, 'yash'}"
      ]
     },
     "execution_count": 13,
     "metadata": {},
     "output_type": "execute_result"
    }
   ],
   "source": [
    "myset.update([888]) # update takes a iterable value\n",
    "myset"
   ]
  },
  {
   "cell_type": "code",
   "execution_count": 14,
   "id": "dcfdcbcf",
   "metadata": {},
   "outputs": [
    {
     "data": {
      "text/plain": [
       "{(10, 20), 10, 20, 30, 40, 800, 888, 's', 't', 'u', 'yash'}"
      ]
     },
     "execution_count": 14,
     "metadata": {},
     "output_type": "execute_result"
    }
   ],
   "source": [
    "myset.update(\"uts\") # update takes a iterable value\n",
    "myset"
   ]
  },
  {
   "cell_type": "code",
   "execution_count": 16,
   "id": "0f624538",
   "metadata": {},
   "outputs": [
    {
     "data": {
      "text/plain": [
       "{10, 20, 30, 40, 800, 888, 's', 't', 'u', 'yash'}"
      ]
     },
     "execution_count": 16,
     "metadata": {},
     "output_type": "execute_result"
    }
   ],
   "source": [
    "myset.remove((10,20)) # elemnet is there then delete that and if it is not there then gives error\n",
    "myset"
   ]
  },
  {
   "cell_type": "code",
   "execution_count": 17,
   "id": "43159c3e",
   "metadata": {},
   "outputs": [
    {
     "data": {
      "text/plain": [
       "'yash'"
      ]
     },
     "execution_count": 17,
     "metadata": {},
     "output_type": "execute_result"
    }
   ],
   "source": [
    "myset.pop() # deletes random elemnet "
   ]
  },
  {
   "cell_type": "code",
   "execution_count": 18,
   "id": "f924cb3e",
   "metadata": {},
   "outputs": [
    {
     "data": {
      "text/plain": [
       "{20, 30, 40, 800, 888, 's', 't', 'u'}"
      ]
     },
     "execution_count": 18,
     "metadata": {},
     "output_type": "execute_result"
    }
   ],
   "source": [
    "myset.discard(10)\n",
    "myset # deletes the element and if elemnet not there then skips the error"
   ]
  },
  {
   "cell_type": "code",
   "execution_count": 19,
   "id": "784ebc2e",
   "metadata": {},
   "outputs": [
    {
     "data": {
      "text/plain": [
       "{10, 20, 30, 40, 50}"
      ]
     },
     "execution_count": 19,
     "metadata": {},
     "output_type": "execute_result"
    }
   ],
   "source": [
    "myset1={10,20,30}\n",
    "myset2={30,40,50}\n",
    "\n",
    "myset1.union(myset2)"
   ]
  },
  {
   "cell_type": "code",
   "execution_count": 27,
   "id": "440d7229",
   "metadata": {},
   "outputs": [
    {
     "data": {
      "text/plain": [
       "{'hey', 'side', 'this', 'tushar'}"
      ]
     },
     "execution_count": 27,
     "metadata": {},
     "output_type": "execute_result"
    }
   ],
   "source": [
    "# \"hey this side tushar hey\"\n",
    "st=\"hey this side tushar hey\".split(\" \")\n",
    "st\n",
    "myset=set(st)\n",
    "myset\n"
   ]
  },
  {
   "cell_type": "code",
   "execution_count": 57,
   "id": "427a36d2",
   "metadata": {},
   "outputs": [
    {
     "name": "stdout",
     "output_type": "stream",
     "text": [
      "Enter the number of days:4\n",
      "1\n",
      "3\n",
      "6\n",
      "10\n",
      "15\n",
      "21\n",
      "28\n",
      "\n",
      "30\n",
      "33\n",
      "37\n",
      "42\n",
      "48\n",
      "55\n",
      "63\n",
      "\n",
      "66\n",
      "70\n",
      "75\n",
      "81\n",
      "88\n",
      "96\n",
      "105\n",
      "\n",
      "10 "
     ]
    }
   ],
   "source": [
    "'''\n",
    "for i in range(1,6):\n",
    "    x=i\n",
    "    for j in range(1,6):\n",
    "        print(x,end=\" \")\n",
    "        x+=1\n",
    "    print(\"\")\n",
    "\n",
    "'''\n",
    "\n",
    "n=int(input(\"Enter the number of days:\"))\n",
    "total=0\n",
    "for i in range(1,n):\n",
    "    x=i\n",
    "    a=n//8\n",
    "    for j in range(1,8+a):\n",
    "        \n",
    "        total+=x\n",
    "        x+=1\n",
    "        print(total)\n",
    "        \n",
    "    print(\"\")\n",
    "print(x,end=\" \")"
   ]
  },
  {
   "cell_type": "code",
   "execution_count": 56,
   "id": "107f4e59",
   "metadata": {},
   "outputs": [
    {
     "data": {
      "text/plain": [
       "'\\n\"[]{}()\"= brackets are correct\\n\" [ {} ()] \"= brackets are correct\\n\" [{(}])\"= brackets are incorrect\\n'"
      ]
     },
     "execution_count": 56,
     "metadata": {},
     "output_type": "execute_result"
    }
   ],
   "source": [
    "'''\n",
    "\"[]{}()\"= brackets are correct\n",
    "\" [ {} ()] \"= brackets are correct\n",
    "\" [{(}])\"= brackets are incorrect\n",
    "'''"
   ]
  },
  {
   "cell_type": "code",
   "execution_count": 59,
   "id": "a525798d",
   "metadata": {},
   "outputs": [
    {
     "name": "stdout",
     "output_type": "stream",
     "text": [
      "1 2 3 4 5 \n",
      "2 3 4 5 6 \n",
      "3 4 5 6 7 \n",
      "4 5 6 7 8 \n",
      "5 6 7 8 9 \n"
     ]
    }
   ],
   "source": [
    "for i in range(1,6):\n",
    "    x=i\n",
    "    for j in range(1,6):\n",
    "        print(x,end=\" \")\n",
    "        x+=1\n",
    "    print(\"\")\n",
    "    "
   ]
  },
  {
   "cell_type": "code",
   "execution_count": null,
   "id": "ddd269f3",
   "metadata": {},
   "outputs": [],
   "source": [
    "n=int(input(\"Enter the number of days:\"))\n",
    "for i in range(1,n):\n",
    "    x=i\n",
    "    for j in range(1,n):\n",
    "        print(x,end=\" \")\n",
    "        x+=1\n",
    "    \n",
    "    print(\"\")\n"
   ]
  },
  {
   "cell_type": "code",
   "execution_count": 17,
   "id": "db4ff46b",
   "metadata": {},
   "outputs": [
    {
     "name": "stdout",
     "output_type": "stream",
     "text": [
      "Enter the number of days:12\n",
      "48\n"
     ]
    }
   ],
   "source": [
    "n=int(input(\"Enter the number of days:\"))\n",
    "count=0\n",
    "sum=0\n",
    "for i in range(1,n+1):\n",
    "    x=i\n",
    "    for j in range(1,9-i):\n",
    "        if(count<n):\n",
    "            \n",
    "            sum+=x\n",
    "            x+=1\n",
    "            count+=1\n",
    "        \n",
    "print(sum)\n"
   ]
  },
  {
   "cell_type": "code",
   "execution_count": null,
   "id": "e82a0fce",
   "metadata": {},
   "outputs": [],
   "source": [
    "'''\n",
    "\"[]{}()\"= brackets are correct\n",
    "\" [ {} ()] \"= brackets are correct\n",
    "\" [{(}])\"= brackets are incorrect\n",
    "'''"
   ]
  },
  {
   "cell_type": "code",
   "execution_count": 19,
   "id": "918a22f8",
   "metadata": {},
   "outputs": [
    {
     "data": {
      "text/plain": [
       "123"
      ]
     },
     "execution_count": 19,
     "metadata": {},
     "output_type": "execute_result"
    }
   ],
   "source": [
    "ord(\"{\")"
   ]
  },
  {
   "cell_type": "code",
   "execution_count": 20,
   "id": "38dcffd3",
   "metadata": {},
   "outputs": [
    {
     "data": {
      "text/plain": [
       "125"
      ]
     },
     "execution_count": 20,
     "metadata": {},
     "output_type": "execute_result"
    }
   ],
   "source": [
    "ord(\"}\")"
   ]
  },
  {
   "cell_type": "code",
   "execution_count": 21,
   "id": "fc6adf47",
   "metadata": {},
   "outputs": [
    {
     "data": {
      "text/plain": [
       "'|'"
      ]
     },
     "execution_count": 21,
     "metadata": {},
     "output_type": "execute_result"
    }
   ],
   "source": [
    "chr(124)"
   ]
  },
  {
   "cell_type": "code",
   "execution_count": 22,
   "id": "b8708e9d",
   "metadata": {},
   "outputs": [
    {
     "data": {
      "text/plain": [
       "40"
      ]
     },
     "execution_count": 22,
     "metadata": {},
     "output_type": "execute_result"
    }
   ],
   "source": [
    "ord(\"(\")"
   ]
  },
  {
   "cell_type": "code",
   "execution_count": 28,
   "id": "891996be",
   "metadata": {},
   "outputs": [
    {
     "name": "stdout",
     "output_type": "stream",
     "text": [
      "Enter brackets:([)]\n",
      "correct\n"
     ]
    }
   ],
   "source": [
    "mylist1=[\"(\",\"[\",\"{\"]\n",
    "mylist2=[\")\",\"]\",\"}\"]\n",
    "s=input(\"Enter brackets:\")\n",
    "x=0\n",
    "for i in s:\n",
    "        if i == mylist1:\n",
    "            x+=1\n",
    "        elif i == mylist2:\n",
    "            x-=1\n",
    "        if x<0:\n",
    "            break\n",
    "if(x==0):\n",
    "    print(\"correct\")\n",
    "else:\n",
    "    print(\"incorrect\")"
   ]
  },
  {
   "cell_type": "code",
   "execution_count": null,
   "id": "87490f5a",
   "metadata": {},
   "outputs": [],
   "source": []
  }
 ],
 "metadata": {
  "kernelspec": {
   "display_name": "Python 3",
   "language": "python",
   "name": "python3"
  },
  "language_info": {
   "codemirror_mode": {
    "name": "ipython",
    "version": 3
   },
   "file_extension": ".py",
   "mimetype": "text/x-python",
   "name": "python",
   "nbconvert_exporter": "python",
   "pygments_lexer": "ipython3",
   "version": "3.8.8"
  }
 },
 "nbformat": 4,
 "nbformat_minor": 5
}

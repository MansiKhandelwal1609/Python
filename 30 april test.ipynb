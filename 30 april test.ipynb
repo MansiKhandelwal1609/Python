{
 "cells": [
  {
   "cell_type": "code",
   "execution_count": 1,
   "id": "daf6fe77",
   "metadata": {},
   "outputs": [
    {
     "data": {
      "text/plain": [
       "'\\n1. Write a program to reverse an integer in Python.\\n2. Write a program in Python to check whether an integer is Armstrong\\nnumber or not.\\n3. Write a program in Python to check given number is prime or not.\\n4. Write a program in Python to print the Fibonacci series using iterative\\nmethod.\\n5. Write a program in Python to check whether a number is palindrome\\nor not using iterative method.\\n6. Write a program in Python to find given number is perfect or not?\\n\\n7. Write a Python program to print a pyramid of stars like the following\\npattern\\n\\n8. Write a Python program to print a pyramid of stars like the following\\npattern\\n\\n9. Write a Python program to print\\n\\n'"
      ]
     },
     "execution_count": 1,
     "metadata": {},
     "output_type": "execute_result"
    }
   ],
   "source": [
    "'''\n",
    "1. Write a program to reverse an integer in Python.\n",
    "2. Write a program in Python to check whether an integer is Armstrong\n",
    "number or not.\n",
    "3. Write a program in Python to check given number is prime or not.\n",
    "4. Write a program in Python to print the Fibonacci series using iterative\n",
    "method.\n",
    "5. Write a program in Python to check whether a number is palindrome\n",
    "or not using iterative method.\n",
    "6. Write a program in Python to find given number is perfect or not?\n",
    "\n",
    "7. Write a Python program to print a pyramid of stars like the following\n",
    "pattern\n",
    "\n",
    "8. Write a Python program to print a pyramid of stars like the following\n",
    "pattern\n",
    "\n",
    "9. Write a Python program to print\n",
    "\n",
    "'''"
   ]
  },
  {
   "cell_type": "code",
   "execution_count": 3,
   "id": "dbb1fcf9",
   "metadata": {},
   "outputs": [
    {
     "name": "stdout",
     "output_type": "stream",
     "text": [
      "Enter a number: 78\n",
      "87\n"
     ]
    }
   ],
   "source": [
    "# 1. Write a program to reverse an integer in Python.\n",
    "\n",
    "a=int(input(\"Enter a number: \"))\n",
    "sum=0\n",
    "while (a>0):\n",
    "    rem=a%10\n",
    "    sum=sum*10+rem\n",
    "    a=a//10\n",
    "print(sum)\n"
   ]
  },
  {
   "cell_type": "code",
   "execution_count": 4,
   "id": "aab6047d",
   "metadata": {},
   "outputs": [
    {
     "name": "stdout",
     "output_type": "stream",
     "text": [
      "Enter a number: 153\n",
      "ARmstrong Number\n"
     ]
    }
   ],
   "source": [
    "# 2. Write a program in Python to check whether an integer is Armstrong number or not.\n",
    "\n",
    "a=int(input(\"Enter a number: \"))\n",
    "temp=a\n",
    "sum=0\n",
    "while (a>0):\n",
    "    rem=a%10\n",
    "    sum=sum+rem**3\n",
    "    a=a//10\n",
    "if(temp==sum):\n",
    "    print(\"Armstrong Number\")\n",
    "else:\n",
    "    print(\"Not a armstrong number\")"
   ]
  },
  {
   "cell_type": "code",
   "execution_count": 11,
   "id": "f195421f",
   "metadata": {},
   "outputs": [
    {
     "name": "stdout",
     "output_type": "stream",
     "text": [
      "Enter a number: 4\n",
      "Not a prime number\n"
     ]
    }
   ],
   "source": [
    "# 3. Write a program in Python to check given number is prime or not.\n",
    "\n",
    "num=int(input(\"Enter a number: \"))\n",
    "x=True\n",
    "if(num==1):\n",
    "    print(\"Not a prime number\")\n",
    "for i in range(2,num):\n",
    "    if(num%i==0):\n",
    "        x=False\n",
    "if x==True:\n",
    "    print(\"Prime number\")\n",
    "else:\n",
    "    print(\"Not a prime number\")"
   ]
  },
  {
   "cell_type": "code",
   "execution_count": 17,
   "id": "f85bd9fb",
   "metadata": {},
   "outputs": [
    {
     "name": "stdout",
     "output_type": "stream",
     "text": [
      "Enter a number: 13\n",
      "0 1 1 2 3 5 8 13 21 34 55 89 144 233 "
     ]
    }
   ],
   "source": [
    "# 4. Write a program in Python to print the Fibonacci series using iterative method.\n",
    "\n",
    "num=int(input(\"Enter a number: \"))\n",
    "n1=0\n",
    "n2=1\n",
    "print(n1,n2,end=\" \")\n",
    "for i in range(1,num):\n",
    "    n3=n1+n2\n",
    "    print(n3,end=\" \")\n",
    "    n1=n2\n",
    "    n2=n3\n"
   ]
  },
  {
   "cell_type": "code",
   "execution_count": 19,
   "id": "02d4c2aa",
   "metadata": {},
   "outputs": [
    {
     "name": "stdout",
     "output_type": "stream",
     "text": [
      "Enter a number: 45\n",
      "Not a palindrome number\n"
     ]
    }
   ],
   "source": [
    "# 5. Write a program in Python to check whether a number is palindrome\n",
    "\n",
    "a=int(input(\"Enter a number: \"))\n",
    "temp=a\n",
    "sum=0\n",
    "while (a>0):\n",
    "    rem=a%10\n",
    "    sum=sum*10+rem\n",
    "    a=a//10\n",
    "if(temp==sum):\n",
    "    print(\"Palindrome number\")\n",
    "else:\n",
    "    print(\"Not a palindrome number\")\n"
   ]
  },
  {
   "cell_type": "code",
   "execution_count": 23,
   "id": "f34ebc67",
   "metadata": {},
   "outputs": [
    {
     "name": "stdout",
     "output_type": "stream",
     "text": [
      "Enter a number: 6\n",
      "Perfect number\n"
     ]
    }
   ],
   "source": [
    "# 6. Write a program in Python to find given number is perfect or not?\n",
    "\n",
    "num=int(input(\"Enter a number: \"))\n",
    "temp=num\n",
    "sum=0\n",
    "for i in range(1,num):\n",
    "    if(num%i==0):\n",
    "        sum+=i\n",
    "if temp==sum:\n",
    "    print(\"Perfect number\")\n",
    "else:\n",
    "    print(\"Not a perfect number\")\n"
   ]
  },
  {
   "cell_type": "code",
   "execution_count": 41,
   "id": "916d824f",
   "metadata": {
    "scrolled": true
   },
   "outputs": [
    {
     "name": "stdout",
     "output_type": "stream",
     "text": [
      " \n",
      "1 a  \n",
      "2 b 3 c  \n",
      "4 d 5 e 6 f  \n",
      "7 g 8 h 9 i 10 j  \n",
      "11 k 12 l 13 m 14 n 15 o  \n"
     ]
    }
   ],
   "source": [
    "# 7. Write a Python program to print a pyramid of stars like the following pattern\n",
    "x=1\n",
    "for i in range(1,7):\n",
    "    for j in range(1,i):\n",
    "        print(x,chr(96+x),end=\" \")\n",
    "        x+=1\n",
    "        \n",
    "    print(\" \")"
   ]
  },
  {
   "cell_type": "code",
   "execution_count": 36,
   "id": "d329e184",
   "metadata": {},
   "outputs": [
    {
     "data": {
      "text/plain": [
       "97"
      ]
     },
     "execution_count": 36,
     "metadata": {},
     "output_type": "execute_result"
    }
   ],
   "source": [
    "ord(\"a\")"
   ]
  },
  {
   "cell_type": "code",
   "execution_count": 45,
   "id": "5e7a5d5f",
   "metadata": {},
   "outputs": [
    {
     "name": "stdout",
     "output_type": "stream",
     "text": [
      "* * * * * \n",
      "  * * * * \n",
      "    * * * \n",
      "      * * \n",
      "        * \n"
     ]
    }
   ],
   "source": [
    "# 8. Write a Python program to print a pyramid of stars like the following pattern\n",
    "for i in range (1,6):\n",
    "    for j in range(1,i):\n",
    "        print(\" \",end=\" \")\n",
    "    for k in range(i,6):\n",
    "        print(\"*\",end=\" \")\n",
    "    print(\"\")"
   ]
  },
  {
   "cell_type": "code",
   "execution_count": 101,
   "id": "37a9ebb9",
   "metadata": {},
   "outputs": [
    {
     "name": "stdout",
     "output_type": "stream",
     "text": [
      "          * \n",
      "        * * \n",
      "      * * * \n",
      "    * * * * \n",
      "  * * * * * \n"
     ]
    }
   ],
   "source": [
    "for i in range (1,6):\n",
    "    for j in range(i,6):\n",
    "        print(\" \",end=\" \")\n",
    "    for k in range(1,i+1):\n",
    "        print(\"*\",end=\" \")\n",
    "    print(\"\")"
   ]
  },
  {
   "cell_type": "code",
   "execution_count": 76,
   "id": "93b52b87",
   "metadata": {},
   "outputs": [
    {
     "name": "stdout",
     "output_type": "stream",
     "text": [
      "* * * * * \n",
      " * * * * \n",
      "  * * * \n",
      "   * * \n",
      "    * \n",
      "   * * \n",
      "  * * * \n",
      " * * * * \n",
      "* * * * * \n"
     ]
    }
   ],
   "source": [
    "for i in range(0,5):\n",
    "    print(\" \"*i+\"* \"*(5-i))\n",
    "for i in range(2,6):\n",
    "    print(\" \"*(5-i)+\"* \"*i)    "
   ]
  },
  {
   "cell_type": "code",
   "execution_count": 248,
   "id": "41a70ace",
   "metadata": {},
   "outputs": [
    {
     "name": "stdout",
     "output_type": "stream",
     "text": [
      "* * * * * \n",
      "   * * * * \n",
      "      * * * \n",
      "         * * \n",
      "            * \n",
      "            * \n",
      "         * * \n",
      "      * * * \n",
      "   * * * * \n",
      "* * * * * \n"
     ]
    }
   ],
   "source": [
    "for i in range (1,6):\n",
    "    for j in range(1,i):\n",
    "        print(\"  \",end=\" \")\n",
    "    for k in range(i,6):\n",
    "        print(\"*\",end=\" \")\n",
    "    print(\"\")\n",
    "for i in range (1,6):\n",
    "    for j in range(i,5):\n",
    "        print(\"  \",end=\" \")\n",
    "    for k in range(1,i+1):\n",
    "        print(\"*\",end=\" \")\n",
    "    print(\"\")"
   ]
  },
  {
   "cell_type": "code",
   "execution_count": 225,
   "id": "af3e8e8f",
   "metadata": {},
   "outputs": [
    {
     "name": "stdout",
     "output_type": "stream",
     "text": [
      "* * * * * * * * * \n",
      "  *           *   \n",
      "    *       *     \n",
      "      *   *       \n",
      "        *         \n",
      "      *   *       \n",
      "    *       *     \n",
      "  *           *   \n",
      "* * * * * * * * * \n"
     ]
    }
   ],
   "source": [
    "for i in range(1,10):\n",
    "    for j in range(1,10):\n",
    "        if(i==1 or j==i or j+i==10 or i==9 ):\n",
    "            print(\"*\", end=\" \")\n",
    "        else:\n",
    "            print(\" \",end=\" \")\n",
    "        \n",
    "    print()"
   ]
  },
  {
   "cell_type": "code",
   "execution_count": null,
   "id": "0537d268",
   "metadata": {},
   "outputs": [],
   "source": []
  }
 ],
 "metadata": {
  "kernelspec": {
   "display_name": "Python 3",
   "language": "python",
   "name": "python3"
  },
  "language_info": {
   "codemirror_mode": {
    "name": "ipython",
    "version": 3
   },
   "file_extension": ".py",
   "mimetype": "text/x-python",
   "name": "python",
   "nbconvert_exporter": "python",
   "pygments_lexer": "ipython3",
   "version": "3.8.8"
  }
 },
 "nbformat": 4,
 "nbformat_minor": 5
}

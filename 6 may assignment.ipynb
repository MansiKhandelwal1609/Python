{
 "cells": [
  {
   "cell_type": "code",
   "execution_count": 2,
   "id": "ddb27bd9",
   "metadata": {},
   "outputs": [
    {
     "name": "stdout",
     "output_type": "stream",
     "text": [
      "*********\n",
      " *******\n",
      "  *****\n",
      "   ***\n",
      "    *\n"
     ]
    }
   ],
   "source": [
    "# create a function which takes 1 parameter as int and print following pattern\n",
    "'''\n",
    "*****\n",
    " ***\n",
    "  *\n",
    "'''\n",
    "\n",
    "\n",
    "\n",
    "\n",
    "\n",
    "def pattern(x):\n",
    "    for i in range(x, 0, -1):\n",
    "        print(\" \" * (x - i) + \"*\" * (2 * i - 1))      \n",
    "        \n",
    "pattern(5)"
   ]
  },
  {
   "cell_type": "code",
   "execution_count": 3,
   "id": "b420bf07",
   "metadata": {},
   "outputs": [
    {
     "name": "stdout",
     "output_type": "stream",
     "text": [
      "*********\n",
      " *******\n",
      "  *****\n",
      "   ***\n",
      "    *\n",
      "     \n",
      "      \n",
      "       \n",
      "        \n"
     ]
    }
   ],
   "source": [
    "def ptrn(x):\n",
    "    for i in range(1,x):\n",
    "        \n",
    "        for j in range(1,i):\n",
    "            print(\" \", end=\"\")\n",
    "        for k in range(2*i-1,x):\n",
    "            print(\"*\", end=\"\")\n",
    "        print()\n",
    "ptrn(10)"
   ]
  },
  {
   "cell_type": "code",
   "execution_count": 5,
   "id": "4b7a5dff",
   "metadata": {},
   "outputs": [],
   "source": [
    "# create a function and find out the lcm of two numbers\n",
    "\n",
    "def lcm(n1,n2):\n",
    "    if n1>n2:\n",
    "        maxn=n1\n",
    "    elif n2>n1:\n",
    "        maxn=n2\n",
    "    \n",
    "    if maxn%n1==0 and maxn%n2==0:\n",
    "        print(\"lcm\",maxn)\n",
    "    \n",
    "    else:\n",
    "        i=maxn+1\n",
    "        while i>maxn:\n",
    "            if i%n1==0 and i%n2==0:\n",
    "                print(\"lcm\",i)\n",
    "                break\n",
    "            i+=1"
   ]
  },
  {
   "cell_type": "code",
   "execution_count": 6,
   "id": "ea27d955",
   "metadata": {},
   "outputs": [
    {
     "name": "stdout",
     "output_type": "stream",
     "text": [
      "lcm 15\n"
     ]
    }
   ],
   "source": [
    "lcm(3,5)"
   ]
  },
  {
   "cell_type": "code",
   "execution_count": null,
   "id": "7e7b8d5b",
   "metadata": {},
   "outputs": [],
   "source": []
  }
 ],
 "metadata": {
  "kernelspec": {
   "display_name": "Python 3",
   "language": "python",
   "name": "python3"
  },
  "language_info": {
   "codemirror_mode": {
    "name": "ipython",
    "version": 3
   },
   "file_extension": ".py",
   "mimetype": "text/x-python",
   "name": "python",
   "nbconvert_exporter": "python",
   "pygments_lexer": "ipython3",
   "version": "3.8.8"
  }
 },
 "nbformat": 4,
 "nbformat_minor": 5
}

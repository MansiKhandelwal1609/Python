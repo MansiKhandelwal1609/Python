{
 "cells": [
  {
   "cell_type": "code",
   "execution_count": 2,
   "id": "58071c23",
   "metadata": {},
   "outputs": [],
   "source": [
    "# Population ==> all the dataset ==>country\n",
    "\n",
    "# Sample ==> sub data of dataset ==> city\n",
    "\n",
    "# Normal Distribution ==> from central tendancy , we have equal data from left and right side\n",
    "\n",
    "# Central Tendancy ==> mean , median , mode \n",
    "\n",
    "# mean = sum of total elements / count of elements \n",
    "a=1,2,3,4,5\n",
    "# mean = (1+2+3+4+5)/5 = 15/5 = 3\n",
    "\n",
    "# median == sort ==> even n/2 , odd=n+1/2\n",
    "a=1,4,2,3,5\n",
    "# median =1,2,3,4,5\n",
    "# oddd = 5+1/2 = 6/2 =3rd number ===> median =3\n",
    "\n",
    "# mode ==. most frequent value\n",
    "a=1,2,2,3,2,5\n",
    "# mode=2\n",
    "\n",
    "# standard deviation ==> central tendancy ==> gap of next value\n",
    "\n",
    "# Normal Distributed ==> mean = 0 , std = 1\n"
   ]
  },
  {
   "cell_type": "code",
   "execution_count": 3,
   "id": "eed380b7",
   "metadata": {},
   "outputs": [],
   "source": [
    "# Machine Learning Workflow\n",
    "\n",
    "# Data(Gather) ==> Data Preprocessig(Normal Distribution) ==> \n",
    "# ML Algorithms ==> Predictions ==> Performance Evaluation "
   ]
  },
  {
   "cell_type": "markdown",
   "id": "e5c009db",
   "metadata": {},
   "source": [
    "## Data Preprocessing ==> \n",
    "\n",
    "### 1.) Standardization ==>  mean = 0 , standart deviation = 1 "
   ]
  },
  {
   "cell_type": "code",
   "execution_count": 4,
   "id": "cb41c274",
   "metadata": {},
   "outputs": [],
   "source": [
    "# data ==> independent data(X) , Dependent data(y)\n",
    "\n",
    "# (X) ==> X_train , X_test\n",
    "\n",
    "# (y) ==>  y_train , y_test"
   ]
  },
  {
   "cell_type": "code",
   "execution_count": 5,
   "id": "febaf754",
   "metadata": {},
   "outputs": [],
   "source": [
    "# machine (training data)  ==> Prediction (Testing Data)"
   ]
  },
  {
   "cell_type": "code",
   "execution_count": 6,
   "id": "b29bd869",
   "metadata": {},
   "outputs": [],
   "source": [
    "import numpy as np \n",
    "import pandas as pd"
   ]
  },
  {
   "cell_type": "code",
   "execution_count": 7,
   "id": "ecbb29c4",
   "metadata": {},
   "outputs": [
    {
     "data": {
      "text/html": [
       "<div>\n",
       "<style scoped>\n",
       "    .dataframe tbody tr th:only-of-type {\n",
       "        vertical-align: middle;\n",
       "    }\n",
       "\n",
       "    .dataframe tbody tr th {\n",
       "        vertical-align: top;\n",
       "    }\n",
       "\n",
       "    .dataframe thead th {\n",
       "        text-align: right;\n",
       "    }\n",
       "</style>\n",
       "<table border=\"1\" class=\"dataframe\">\n",
       "  <thead>\n",
       "    <tr style=\"text-align: right;\">\n",
       "      <th></th>\n",
       "      <th>cgpa</th>\n",
       "      <th>resume_score</th>\n",
       "      <th>placed</th>\n",
       "    </tr>\n",
       "  </thead>\n",
       "  <tbody>\n",
       "    <tr>\n",
       "      <th>0</th>\n",
       "      <td>8.14</td>\n",
       "      <td>6.52</td>\n",
       "      <td>1</td>\n",
       "    </tr>\n",
       "    <tr>\n",
       "      <th>1</th>\n",
       "      <td>6.17</td>\n",
       "      <td>5.17</td>\n",
       "      <td>0</td>\n",
       "    </tr>\n",
       "  </tbody>\n",
       "</table>\n",
       "</div>"
      ],
      "text/plain": [
       "   cgpa  resume_score  placed\n",
       "0  8.14          6.52       1\n",
       "1  6.17          5.17       0"
      ]
     },
     "execution_count": 7,
     "metadata": {},
     "output_type": "execute_result"
    }
   ],
   "source": [
    "df=df=pd.read_csv(\"C:\\\\Users\\\\DELL\\\\OneDrive\\\\Desktop\\\\Regex\\\\Adv Python\\\\placement.csv\")\n",
    "df.head(2)"
   ]
  },
  {
   "cell_type": "code",
   "execution_count": 9,
   "id": "5d224e01",
   "metadata": {},
   "outputs": [
    {
     "data": {
      "text/plain": [
       "pandas.core.frame.DataFrame"
      ]
     },
     "execution_count": 9,
     "metadata": {},
     "output_type": "execute_result"
    }
   ],
   "source": [
    "x=df.drop(columns=['placed'],axis=1)  # independent data\n",
    "type(x)"
   ]
  },
  {
   "cell_type": "code",
   "execution_count": 10,
   "id": "aa76b623",
   "metadata": {},
   "outputs": [
    {
     "data": {
      "text/html": [
       "<div>\n",
       "<style scoped>\n",
       "    .dataframe tbody tr th:only-of-type {\n",
       "        vertical-align: middle;\n",
       "    }\n",
       "\n",
       "    .dataframe tbody tr th {\n",
       "        vertical-align: top;\n",
       "    }\n",
       "\n",
       "    .dataframe thead th {\n",
       "        text-align: right;\n",
       "    }\n",
       "</style>\n",
       "<table border=\"1\" class=\"dataframe\">\n",
       "  <thead>\n",
       "    <tr style=\"text-align: right;\">\n",
       "      <th></th>\n",
       "      <th>cgpa</th>\n",
       "      <th>resume_score</th>\n",
       "    </tr>\n",
       "  </thead>\n",
       "  <tbody>\n",
       "    <tr>\n",
       "      <th>0</th>\n",
       "      <td>8.14</td>\n",
       "      <td>6.52</td>\n",
       "    </tr>\n",
       "    <tr>\n",
       "      <th>1</th>\n",
       "      <td>6.17</td>\n",
       "      <td>5.17</td>\n",
       "    </tr>\n",
       "  </tbody>\n",
       "</table>\n",
       "</div>"
      ],
      "text/plain": [
       "   cgpa  resume_score\n",
       "0  8.14          6.52\n",
       "1  6.17          5.17"
      ]
     },
     "execution_count": 10,
     "metadata": {},
     "output_type": "execute_result"
    }
   ],
   "source": [
    "x.head(2)"
   ]
  },
  {
   "cell_type": "code",
   "execution_count": 11,
   "id": "9ca9d951",
   "metadata": {},
   "outputs": [],
   "source": [
    "y=df['placed'] ## dependent data"
   ]
  },
  {
   "cell_type": "code",
   "execution_count": 12,
   "id": "5854e5fb",
   "metadata": {},
   "outputs": [
    {
     "name": "stdout",
     "output_type": "stream",
     "text": [
      "Total Data Shape= (100, 3)\n",
      "Independent Data Shape= (100, 2)\n",
      "Dependent Data Shape= (100,)\n"
     ]
    }
   ],
   "source": [
    "print(\"Total Data Shape=\",df.shape)\n",
    "print(\"Independent Data Shape=\",x.shape)\n",
    "print(\"Dependent Data Shape=\",y.shape)"
   ]
  },
  {
   "cell_type": "code",
   "execution_count": 13,
   "id": "890b74a8",
   "metadata": {},
   "outputs": [],
   "source": [
    "from sklearn.model_selection import train_test_split"
   ]
  },
  {
   "cell_type": "code",
   "execution_count": 14,
   "id": "c21e687f",
   "metadata": {},
   "outputs": [],
   "source": [
    "x_train , x_test , y_train , y_test =train_test_split(x,y,test_size =0.2 , random_state=42)"
   ]
  },
  {
   "cell_type": "code",
   "execution_count": 15,
   "id": "0a281eb0",
   "metadata": {},
   "outputs": [
    {
     "name": "stdout",
     "output_type": "stream",
     "text": [
      "Total Data Shape= (100, 3)\n",
      "Independent Data Shape= (100, 2)\n",
      "Dependent Data Shape= (100,)\n",
      "X_train Data Shape= (80, 2)\n",
      "X_test Data Shape= (20, 2)\n"
     ]
    }
   ],
   "source": [
    "print(\"Total Data Shape=\",df.shape)\n",
    "print(\"Independent Data Shape=\",x.shape)\n",
    "print(\"Dependent Data Shape=\",y.shape)\n",
    "print(\"X_train Data Shape=\",x_train.shape)\n",
    "print(\"X_test Data Shape=\",x_test.shape)"
   ]
  },
  {
   "cell_type": "code",
   "execution_count": null,
   "id": "f9a4a023",
   "metadata": {},
   "outputs": [],
   "source": [
    "# covid , tips , titanic"
   ]
  }
 ],
 "metadata": {
  "kernelspec": {
   "display_name": "Python 3",
   "language": "python",
   "name": "python3"
  },
  "language_info": {
   "codemirror_mode": {
    "name": "ipython",
    "version": 3
   },
   "file_extension": ".py",
   "mimetype": "text/x-python",
   "name": "python",
   "nbconvert_exporter": "python",
   "pygments_lexer": "ipython3",
   "version": "3.8.8"
  }
 },
 "nbformat": 4,
 "nbformat_minor": 5
}

{
 "cells": [
  {
   "cell_type": "code",
   "execution_count": 1,
   "id": "434fa59e",
   "metadata": {},
   "outputs": [],
   "source": [
    "#open()\n",
    "# read/write\n",
    "# close()\n"
   ]
  },
  {
   "cell_type": "code",
   "execution_count": 2,
   "id": "d9139ad5",
   "metadata": {},
   "outputs": [
    {
     "name": "stdout",
     "output_type": "stream",
     "text": [
      "hello\n"
     ]
    }
   ],
   "source": [
    "fileobj=open(\"yash.txt\")\n",
    "out=fileobj.read()\n",
    "fileobj.close()\n",
    "\n",
    "print(out)"
   ]
  },
  {
   "cell_type": "code",
   "execution_count": 4,
   "id": "303b838c",
   "metadata": {},
   "outputs": [
    {
     "name": "stdout",
     "output_type": "stream",
     "text": [
      "hello\n"
     ]
    }
   ],
   "source": [
    "# open(\"filename\",\"access-mode\")\n",
    "# r,w,a,x\n",
    "\n",
    "fileobj=open(\"yash.txt\",\"r\")\n",
    "out=fileobj.read()\n",
    "fileobj.close()\n",
    "\n",
    "print(out)"
   ]
  },
  {
   "cell_type": "code",
   "execution_count": 15,
   "id": "b01027b3",
   "metadata": {},
   "outputs": [],
   "source": [
    "\n",
    "fileobj=open(\"yash.txt\",\"w\")\n",
    "fileobj.write(\"user\")  #---> write deletes previous content then write new one\n",
    "fileobj.close()\n"
   ]
  },
  {
   "cell_type": "code",
   "execution_count": 16,
   "id": "c9da7f01",
   "metadata": {},
   "outputs": [
    {
     "name": "stdout",
     "output_type": "stream",
     "text": [
      "user\n"
     ]
    }
   ],
   "source": [
    "\n",
    "fileobj=open(\"yash.txt\",\"r+\")\n",
    "print(fileobj.read())\n",
    "fileobj.write(\"####\")\n",
    "fileobj.close()\n"
   ]
  },
  {
   "cell_type": "code",
   "execution_count": 17,
   "id": "20e1b0b8",
   "metadata": {},
   "outputs": [
    {
     "name": "stdout",
     "output_type": "stream",
     "text": [
      "er####\n"
     ]
    }
   ],
   "source": [
    "\n",
    "fileobj=open(\"yash.txt\",\"r+\")\n",
    "fileobj.write(\"$$\")\n",
    "print(fileobj.read())\n",
    "fileobj.close()\n"
   ]
  },
  {
   "cell_type": "code",
   "execution_count": 18,
   "id": "880424e2",
   "metadata": {},
   "outputs": [
    {
     "name": "stdout",
     "output_type": "stream",
     "text": [
      "\n"
     ]
    }
   ],
   "source": [
    "fileobj=open(\"yash.txt\",\"w+\")\n",
    "\n",
    "print(fileobj.read())\n",
    "fileobj.close()"
   ]
  },
  {
   "cell_type": "code",
   "execution_count": 21,
   "id": "fcd3e17e",
   "metadata": {},
   "outputs": [
    {
     "name": "stdout",
     "output_type": "stream",
     "text": [
      "14\n",
      "\n"
     ]
    }
   ],
   "source": [
    "fileobj=open(\"yash.txt\",\"w+\")\n",
    "fileobj.write(\"regex software\")\n",
    "print(fileobj.tell())            # tells position of cursor\n",
    "print(fileobj.read())\n",
    "fileobj.close()"
   ]
  },
  {
   "cell_type": "code",
   "execution_count": 25,
   "id": "a5eb231f",
   "metadata": {},
   "outputs": [
    {
     "name": "stdout",
     "output_type": "stream",
     "text": [
      "13\n",
      "5\n",
      "software\n"
     ]
    }
   ],
   "source": [
    "fileobj=open(\"yash.txt\",\"w+\")\n",
    "fileobj.write(\"regexsoftware\")\n",
    "print(fileobj.tell())            # tells position of cursor\n",
    "\n",
    "\n",
    "\n",
    "# change position \n",
    "\n",
    "fileobj.seek(5)  #---> takes cursor to the 5th position\n",
    "print(fileobj.tell())            \n",
    "print(fileobj.read())\n",
    "fileobj.close()\n"
   ]
  },
  {
   "cell_type": "code",
   "execution_count": 27,
   "id": "ee569f6f",
   "metadata": {},
   "outputs": [
    {
     "name": "stdout",
     "output_type": "stream",
     "text": [
      "29\n",
      "\n"
     ]
    }
   ],
   "source": [
    "fileobj=open(\"yash.txt\",\"a+\")\n",
    "fileobj.write(\"services\")\n",
    "print(fileobj.tell()) \n",
    "print(fileobj.read())\n",
    "fileobj.close()"
   ]
  },
  {
   "cell_type": "code",
   "execution_count": 30,
   "id": "82e5cdcb",
   "metadata": {},
   "outputs": [
    {
     "name": "stdout",
     "output_type": "stream",
     "text": [
      "regexsoftwareservices\n"
     ]
    }
   ],
   "source": [
    "# method 2\n",
    "\n",
    "with open(\"yash.txt\",\"r\") as fileobj:\n",
    "    x=fileobj.read()\n",
    "    \n",
    "    \n",
    "print(x)"
   ]
  },
  {
   "cell_type": "code",
   "execution_count": 33,
   "id": "041976df",
   "metadata": {},
   "outputs": [
    {
     "name": "stdout",
     "output_type": "stream",
     "text": [
      "regexsoftwareservices\n",
      "\n"
     ]
    }
   ],
   "source": [
    "with open(\"yash.txt\",\"r\") as fileobj:\n",
    "    print(fileobj.readline())\n",
    "    \n"
   ]
  },
  {
   "cell_type": "code",
   "execution_count": 35,
   "id": "7828faa2",
   "metadata": {},
   "outputs": [
    {
     "name": "stdout",
     "output_type": "stream",
     "text": [
      "hi tushar\n",
      "\n",
      "\n"
     ]
    }
   ],
   "source": [
    "with open(\"yash.txt\",\"r\") as fileobj:\n",
    "    for line in fileobj:\n",
    "        print(fileobj.readline())\n",
    "    "
   ]
  },
  {
   "cell_type": "code",
   "execution_count": 36,
   "id": "fcdfb39b",
   "metadata": {},
   "outputs": [
    {
     "name": "stdout",
     "output_type": "stream",
     "text": [
      "regexsoftwareservices\n",
      "\n",
      "hi tushar\n",
      "\n",
      "hi aman\n"
     ]
    }
   ],
   "source": [
    "with open(\"yash.txt\",\"r\") as fileobj:\n",
    "    for line in fileobj:\n",
    "        print(line)\n",
    "    "
   ]
  },
  {
   "cell_type": "code",
   "execution_count": 42,
   "id": "255871fb",
   "metadata": {},
   "outputs": [
    {
     "name": "stdout",
     "output_type": "stream",
     "text": [
      "['1', 'tushar', '100']\n"
     ]
    }
   ],
   "source": [
    "import csv\n",
    "fileobj=open(\"comma.txt\")\n",
    "csv_fileobj=csv.reader(fileobj)\n",
    "\n",
    "for line in csv_fileobj:\n",
    "    print(line)\n",
    "    break"
   ]
  },
  {
   "cell_type": "code",
   "execution_count": null,
   "id": "0dae1377",
   "metadata": {},
   "outputs": [],
   "source": []
  }
 ],
 "metadata": {
  "kernelspec": {
   "display_name": "Python 3",
   "language": "python",
   "name": "python3"
  },
  "language_info": {
   "codemirror_mode": {
    "name": "ipython",
    "version": 3
   },
   "file_extension": ".py",
   "mimetype": "text/x-python",
   "name": "python",
   "nbconvert_exporter": "python",
   "pygments_lexer": "ipython3",
   "version": "3.8.8"
  }
 },
 "nbformat": 4,
 "nbformat_minor": 5
}
